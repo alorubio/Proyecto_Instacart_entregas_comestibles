{
 "cells": [
  {
   "cell_type": "markdown",
   "id": "3Xg_RQfnafXz",
   "metadata": {
    "id": "3Xg_RQfnafXz"
   },
   "source": [
    "# ¡Llena ese carrito!"
   ]
  },
  {
   "cell_type": "markdown",
   "id": "mhIvmmkW414q",
   "metadata": {
    "id": "mhIvmmkW414q"
   },
   "source": [
    "# Introducción\n",
    "\n",
    "Instacart es una plataforma de entregas de comestibles donde la clientela puede registrar un pedido y hacer que se lo entreguen, similar a Uber Eats y Door Dash.\n",
    "El conjunto de datos que te hemos proporcionado tiene modificaciones del original. Redujimos el tamaño del conjunto para que tus cálculos se hicieran más rápido e introdujimos valores ausentes y duplicados. Tuvimos cuidado de conservar las distribuciones de los datos originales cuando hicimos los cambios.\n",
    "\n",
    "Debes completar tres pasos. Para cada uno de ellos, escribe una breve introducción que refleje con claridad cómo pretendes resolver cada paso, y escribe párrafos explicatorios que justifiquen tus decisiones al tiempo que avanzas en tu solución.  También escribe una conclusión que resuma tus hallazgos y elecciones.\n"
   ]
  },
  {
   "cell_type": "markdown",
   "id": "3MbyzpOQZ5Or",
   "metadata": {
    "id": "3MbyzpOQZ5Or"
   },
   "source": [
    "## Diccionario de datos\n",
    "\n",
    "Hay cinco tablas en el conjunto de datos, y tendrás que usarlas todas para hacer el preprocesamiento de datos y el análisis exploratorio de datos. A continuación se muestra un diccionario de datos que enumera las columnas de cada tabla y describe los datos que contienen.\n",
    "\n",
    "- `instacart_orders.csv`: cada fila corresponde a un pedido en la aplicación Instacart.\n",
    "    - `'order_id'`: número de ID que identifica de manera única cada pedido.\n",
    "    - `'user_id'`: número de ID que identifica de manera única la cuenta de cada cliente.\n",
    "    - `'order_number'`: el número de veces que este cliente ha hecho un pedido.\n",
    "    - `'order_dow'`: día de la semana en que se hizo el pedido (0 si es domingo).\n",
    "    - `'order_hour_of_day'`: hora del día en que se hizo el pedido.\n",
    "    - `'days_since_prior_order'`: número de días transcurridos desde que este cliente hizo su pedido anterior.\n",
    "- `products.csv`: cada fila corresponde a un producto único que pueden comprar los clientes.\n",
    "    - `'product_id'`: número ID que identifica de manera única cada producto.\n",
    "    - `'product_name'`: nombre del producto.\n",
    "    - `'aisle_id'`: número ID que identifica de manera única cada categoría de pasillo de víveres.\n",
    "    - `'department_id'`: número ID que identifica de manera única cada departamento de víveres.\n",
    "- `order_products.csv`: cada fila corresponde a un artículo pedido en un pedido.\n",
    "    - `'order_id'`: número de ID que identifica de manera única cada pedido.\n",
    "    - `'product_id'`: número ID que identifica de manera única cada producto.\n",
    "    - `'add_to_cart_order'`: el orden secuencial en el que se añadió cada artículo en el carrito.\n",
    "    - `'reordered'`: 0 si el cliente nunca ha pedido este producto antes, 1 si lo ha pedido.\n",
    "- `aisles.csv`\n",
    "    - `'aisle_id'`: número ID que identifica de manera única cada categoría de pasillo de víveres.\n",
    "    - `'aisle'`: nombre del pasillo.\n",
    "- `departments.csv`\n",
    "    - `'department_id'`: número ID que identifica de manera única cada departamento de víveres.\n",
    "    - `'department'`: nombre del departamento."
   ]
  },
  {
   "cell_type": "markdown",
   "id": "n3Ha_cNSZ8lK",
   "metadata": {
    "id": "n3Ha_cNSZ8lK"
   },
   "source": [
    "# Paso 1. Descripción de los datos\n",
    "\n",
    "Lee los archivos de datos (`/datasets/instacart_orders.csv`, `/datasets/products.csv`, `/datasets/aisles.csv`, `/datasets/departments.csv` y `/datasets/order_products.csv`) con `pd.read_csv()` usando los parámetros adecuados para leer los datos correctamente. Verifica la información para cada DataFrame creado.\n"
   ]
  },
  {
   "cell_type": "markdown",
   "id": "OmlQPLlyaAfR",
   "metadata": {
    "id": "OmlQPLlyaAfR"
   },
   "source": [
    "## Plan de solución\n",
    "\n",
    "Escribe aquí tu plan de solución para el Paso 1. Descripción de los datos.\n",
    "\n",
    "Se cargan los datasets, y se analiza la información de cada dataset, para revisar y conocer la información de manera general, como lo es, el tamaño de los datasets, saber si hay datos faltantes, nulos y duplicados, el tipo de datos de cada columna y conocer si va acorde con el nombre de la columna, saber en qué estado se encuentra la información (es decir, la manera en que se encuentra registrada la información, espacios, mayúsculas, minúsculas, si hay fechas, en que formato se encuentran), qué información se registra en cada una de las columnas. para que de esta manera se pueda pre procesar la información y obtener una base de datos limpia y ordenada, para poder trabajarla y obtener los mejores resultados."
   ]
  },
  {
   "cell_type": "code",
   "execution_count": 57,
   "id": "fbf1adab",
   "metadata": {
    "id": "fbf1adab"
   },
   "outputs": [],
   "source": [
    "# importar librerías\n",
    "\n",
    "import pandas as pd\n",
    "from matplotlib import pyplot as plt\n",
    "import numpy as np"
   ]
  },
  {
   "cell_type": "code",
   "execution_count": 2,
   "id": "ad36396d",
   "metadata": {
    "id": "ad36396d"
   },
   "outputs": [],
   "source": [
    "# leer conjuntos de datos en los DataFrames\n",
    "\n",
    "df_instacart = pd.read_csv('/datasets/instacart_orders.csv', sep=';')\n",
    "df_products = pd.read_csv('/datasets/products.csv', sep=';')\n",
    "df_aisles = pd.read_csv('/datasets/aisles.csv', sep=';')\n",
    "df_departments = pd.read_csv('/datasets/departments.csv', sep=';')\n",
    "df_ord_prod = pd.read_csv('/datasets/order_products.csv', sep=';')"
   ]
  },
  {
   "cell_type": "code",
   "execution_count": 3,
   "id": "ad6a1efa",
   "metadata": {
    "id": "ad6a1efa"
   },
   "outputs": [
    {
     "name": "stdout",
     "output_type": "stream",
     "text": [
      "<class 'pandas.core.frame.DataFrame'>\n",
      "RangeIndex: 478967 entries, 0 to 478966\n",
      "Data columns (total 6 columns):\n",
      " #   Column                  Non-Null Count   Dtype  \n",
      "---  ------                  --------------   -----  \n",
      " 0   order_id                478967 non-null  int64  \n",
      " 1   user_id                 478967 non-null  int64  \n",
      " 2   order_number            478967 non-null  int64  \n",
      " 3   order_dow               478967 non-null  int64  \n",
      " 4   order_hour_of_day       478967 non-null  int64  \n",
      " 5   days_since_prior_order  450148 non-null  float64\n",
      "dtypes: float64(1), int64(5)\n",
      "memory usage: 21.9 MB\n"
     ]
    }
   ],
   "source": [
    "# mostrar información del DataFrame\n",
    "\n",
    "df_instacart.info()"
   ]
  },
  {
   "cell_type": "code",
   "execution_count": 4,
   "id": "5130e05e",
   "metadata": {
    "id": "5130e05e"
   },
   "outputs": [
    {
     "name": "stdout",
     "output_type": "stream",
     "text": [
      "<class 'pandas.core.frame.DataFrame'>\n",
      "RangeIndex: 49694 entries, 0 to 49693\n",
      "Data columns (total 4 columns):\n",
      " #   Column         Non-Null Count  Dtype \n",
      "---  ------         --------------  ----- \n",
      " 0   product_id     49694 non-null  int64 \n",
      " 1   product_name   48436 non-null  object\n",
      " 2   aisle_id       49694 non-null  int64 \n",
      " 3   department_id  49694 non-null  int64 \n",
      "dtypes: int64(3), object(1)\n",
      "memory usage: 1.5+ MB\n"
     ]
    }
   ],
   "source": [
    "# mostrar información del DataFrame\n",
    "\n",
    "df_products.info()"
   ]
  },
  {
   "cell_type": "code",
   "execution_count": 5,
   "id": "d8370c05",
   "metadata": {
    "id": "d8370c05"
   },
   "outputs": [
    {
     "name": "stdout",
     "output_type": "stream",
     "text": [
      "<class 'pandas.core.frame.DataFrame'>\n",
      "RangeIndex: 134 entries, 0 to 133\n",
      "Data columns (total 2 columns):\n",
      " #   Column    Non-Null Count  Dtype \n",
      "---  ------    --------------  ----- \n",
      " 0   aisle_id  134 non-null    int64 \n",
      " 1   aisle     134 non-null    object\n",
      "dtypes: int64(1), object(1)\n",
      "memory usage: 2.2+ KB\n"
     ]
    }
   ],
   "source": [
    "# mostrar información del DataFrame\n",
    "\n",
    "df_aisles.info()"
   ]
  },
  {
   "cell_type": "code",
   "execution_count": 6,
   "id": "59e2090f",
   "metadata": {
    "id": "59e2090f"
   },
   "outputs": [
    {
     "name": "stdout",
     "output_type": "stream",
     "text": [
      "<class 'pandas.core.frame.DataFrame'>\n",
      "RangeIndex: 21 entries, 0 to 20\n",
      "Data columns (total 2 columns):\n",
      " #   Column         Non-Null Count  Dtype \n",
      "---  ------         --------------  ----- \n",
      " 0   department_id  21 non-null     int64 \n",
      " 1   department     21 non-null     object\n",
      "dtypes: int64(1), object(1)\n",
      "memory usage: 464.0+ bytes\n"
     ]
    }
   ],
   "source": [
    "# mostrar información del DataFrame\n",
    "\n",
    "df_departments.info()"
   ]
  },
  {
   "cell_type": "code",
   "execution_count": 7,
   "id": "6fc81694",
   "metadata": {
    "id": "6fc81694"
   },
   "outputs": [
    {
     "name": "stdout",
     "output_type": "stream",
     "text": [
      "<class 'pandas.core.frame.DataFrame'>\n",
      "RangeIndex: 4545007 entries, 0 to 4545006\n",
      "Data columns (total 4 columns):\n",
      " #   Column             Non-Null Count    Dtype  \n",
      "---  ------             --------------    -----  \n",
      " 0   order_id           4545007 non-null  int64  \n",
      " 1   product_id         4545007 non-null  int64  \n",
      " 2   add_to_cart_order  4544171 non-null  float64\n",
      " 3   reordered          4545007 non-null  int64  \n",
      "dtypes: float64(1), int64(3)\n",
      "memory usage: 138.7 MB\n"
     ]
    }
   ],
   "source": [
    "# mostrar información del DataFrame\n",
    "\n",
    "df_ord_prod.info(show_counts=True)"
   ]
  },
  {
   "cell_type": "markdown",
   "id": "t75BD19oaR5f",
   "metadata": {
    "id": "t75BD19oaR5f"
   },
   "source": [
    "## Conclusiones\n",
    "\n",
    "Al analizar la información sobre la descripción de los datos, podemos observar que el tamaño de información que se maneja es algo considerable, notamos que hay algunos datos perdidos en algunos datasets, como instacart, products y order_products, sin embargo la cantidad de nulos que hay en cada una de las tablas no es tan considerable, por lo que procesando la información, no afecta en gran medida los resultados, pudiendo trabajar con la información sin mayor afectación."
   ]
  },
  {
   "cell_type": "markdown",
   "id": "8RJHqxVmaVsF",
   "metadata": {
    "id": "8RJHqxVmaVsF"
   },
   "source": [
    "# Paso 2. Preprocesamiento de los datos\n",
    "\n",
    "Preprocesa los datos de la siguiente manera:\n",
    "\n",
    "- Verifica y corrige los tipos de datos (por ejemplo, asegúrate de que las columnas de ID sean números enteros).\n",
    "- Identifica y completa los valores ausentes.\n",
    "- Identifica y elimina los valores duplicados.\n",
    "\n",
    "Asegúrate de explicar qué tipos de valores ausentes y duplicados encontraste, cómo los completaste o eliminaste y por qué usaste esos métodos. ¿Por qué crees que estos valores ausentes y duplicados pueden haber estado presentes en el conjunto de datos?"
   ]
  },
  {
   "cell_type": "markdown",
   "id": "p6poABZQaZYb",
   "metadata": {
    "id": "p6poABZQaZYb"
   },
   "source": [
    "## Plan de solución\n",
    "\n",
    "Se analizarán cada uno de los datasets, para conocer si en efecto se encuentran valores ausentes, saber que tipo de ausentes se encuentran, para poder trabajarlos de la manera más adecuada, así como también saber si se encuentran valores duplicados, imprimir la información de los datasets, para conocer qué información arroja cada una de las columnas, para saber si los tipo de datos son los adecuados, en caso contrario asignar el tipo correcto, saber el estado en que se encuentra registrada la información, para saber si requiere ser tratada. Posteriormente se trabajan estos puntos para limpiar la base de datos y tener oportunidad de analizar la data conforme a los objetivos que se tengan."
   ]
  },
  {
   "cell_type": "markdown",
   "id": "07357848-dc64-4156-9cc3-01ff4365226d",
   "metadata": {
    "id": "07357848-dc64-4156-9cc3-01ff4365226d"
   },
   "source": [
    "## Encuentra y elimina los valores duplicados (y describe cómo tomaste tus decisiones)."
   ]
  },
  {
   "cell_type": "markdown",
   "id": "f179f0a9",
   "metadata": {
    "id": "f179f0a9"
   },
   "source": [
    "### `instacart_orders` data frame"
   ]
  },
  {
   "cell_type": "code",
   "execution_count": 8,
   "id": "b99297a5-405a-463d-8535-9adc3da4ad74",
   "metadata": {
    "id": "b99297a5-405a-463d-8535-9adc3da4ad74"
   },
   "outputs": [
    {
     "name": "stdout",
     "output_type": "stream",
     "text": [
      "0         False\n",
      "1         False\n",
      "2         False\n",
      "3         False\n",
      "4         False\n",
      "          ...  \n",
      "478962    False\n",
      "478963    False\n",
      "478964    False\n",
      "478965    False\n",
      "478966    False\n",
      "Name: order_id, Length: 478967, dtype: bool\n",
      "\n",
      "15\n",
      "\n"
     ]
    },
    {
     "data": {
      "text/html": [
       "<div>\n",
       "<style scoped>\n",
       "    .dataframe tbody tr th:only-of-type {\n",
       "        vertical-align: middle;\n",
       "    }\n",
       "\n",
       "    .dataframe tbody tr th {\n",
       "        vertical-align: top;\n",
       "    }\n",
       "\n",
       "    .dataframe thead th {\n",
       "        text-align: right;\n",
       "    }\n",
       "</style>\n",
       "<table border=\"1\" class=\"dataframe\">\n",
       "  <thead>\n",
       "    <tr style=\"text-align: right;\">\n",
       "      <th></th>\n",
       "      <th>order_id</th>\n",
       "      <th>user_id</th>\n",
       "      <th>order_number</th>\n",
       "      <th>order_dow</th>\n",
       "      <th>order_hour_of_day</th>\n",
       "      <th>days_since_prior_order</th>\n",
       "    </tr>\n",
       "  </thead>\n",
       "  <tbody>\n",
       "    <tr>\n",
       "      <th>371905</th>\n",
       "      <td>391768</td>\n",
       "      <td>57671</td>\n",
       "      <td>19</td>\n",
       "      <td>3</td>\n",
       "      <td>2</td>\n",
       "      <td>10.0</td>\n",
       "    </tr>\n",
       "    <tr>\n",
       "      <th>321100</th>\n",
       "      <td>408114</td>\n",
       "      <td>68324</td>\n",
       "      <td>4</td>\n",
       "      <td>3</td>\n",
       "      <td>2</td>\n",
       "      <td>18.0</td>\n",
       "    </tr>\n",
       "    <tr>\n",
       "      <th>394347</th>\n",
       "      <td>467134</td>\n",
       "      <td>63189</td>\n",
       "      <td>21</td>\n",
       "      <td>3</td>\n",
       "      <td>2</td>\n",
       "      <td>2.0</td>\n",
       "    </tr>\n",
       "    <tr>\n",
       "      <th>145574</th>\n",
       "      <td>794638</td>\n",
       "      <td>50898</td>\n",
       "      <td>24</td>\n",
       "      <td>3</td>\n",
       "      <td>2</td>\n",
       "      <td>2.0</td>\n",
       "    </tr>\n",
       "    <tr>\n",
       "      <th>311713</th>\n",
       "      <td>1021560</td>\n",
       "      <td>53767</td>\n",
       "      <td>3</td>\n",
       "      <td>3</td>\n",
       "      <td>2</td>\n",
       "      <td>9.0</td>\n",
       "    </tr>\n",
       "    <tr>\n",
       "      <th>273805</th>\n",
       "      <td>1112182</td>\n",
       "      <td>202304</td>\n",
       "      <td>84</td>\n",
       "      <td>3</td>\n",
       "      <td>2</td>\n",
       "      <td>6.0</td>\n",
       "    </tr>\n",
       "    <tr>\n",
       "      <th>411408</th>\n",
       "      <td>1286742</td>\n",
       "      <td>183220</td>\n",
       "      <td>48</td>\n",
       "      <td>3</td>\n",
       "      <td>2</td>\n",
       "      <td>4.0</td>\n",
       "    </tr>\n",
       "    <tr>\n",
       "      <th>266232</th>\n",
       "      <td>1782114</td>\n",
       "      <td>106752</td>\n",
       "      <td>1</td>\n",
       "      <td>3</td>\n",
       "      <td>2</td>\n",
       "      <td>NaN</td>\n",
       "    </tr>\n",
       "    <tr>\n",
       "      <th>230807</th>\n",
       "      <td>1918001</td>\n",
       "      <td>188546</td>\n",
       "      <td>14</td>\n",
       "      <td>3</td>\n",
       "      <td>2</td>\n",
       "      <td>16.0</td>\n",
       "    </tr>\n",
       "    <tr>\n",
       "      <th>323900</th>\n",
       "      <td>1919531</td>\n",
       "      <td>191501</td>\n",
       "      <td>32</td>\n",
       "      <td>3</td>\n",
       "      <td>2</td>\n",
       "      <td>7.0</td>\n",
       "    </tr>\n",
       "    <tr>\n",
       "      <th>441599</th>\n",
       "      <td>2125197</td>\n",
       "      <td>14050</td>\n",
       "      <td>48</td>\n",
       "      <td>3</td>\n",
       "      <td>2</td>\n",
       "      <td>3.0</td>\n",
       "    </tr>\n",
       "    <tr>\n",
       "      <th>223105</th>\n",
       "      <td>2160484</td>\n",
       "      <td>107525</td>\n",
       "      <td>16</td>\n",
       "      <td>3</td>\n",
       "      <td>2</td>\n",
       "      <td>30.0</td>\n",
       "    </tr>\n",
       "    <tr>\n",
       "      <th>345917</th>\n",
       "      <td>2232988</td>\n",
       "      <td>82565</td>\n",
       "      <td>1</td>\n",
       "      <td>3</td>\n",
       "      <td>2</td>\n",
       "      <td>NaN</td>\n",
       "    </tr>\n",
       "    <tr>\n",
       "      <th>415163</th>\n",
       "      <td>2282673</td>\n",
       "      <td>86751</td>\n",
       "      <td>49</td>\n",
       "      <td>3</td>\n",
       "      <td>2</td>\n",
       "      <td>2.0</td>\n",
       "    </tr>\n",
       "    <tr>\n",
       "      <th>284038</th>\n",
       "      <td>2845099</td>\n",
       "      <td>31189</td>\n",
       "      <td>11</td>\n",
       "      <td>3</td>\n",
       "      <td>2</td>\n",
       "      <td>7.0</td>\n",
       "    </tr>\n",
       "  </tbody>\n",
       "</table>\n",
       "</div>"
      ],
      "text/plain": [
       "        order_id  user_id  order_number  order_dow  order_hour_of_day  \\\n",
       "371905    391768    57671            19          3                  2   \n",
       "321100    408114    68324             4          3                  2   \n",
       "394347    467134    63189            21          3                  2   \n",
       "145574    794638    50898            24          3                  2   \n",
       "311713   1021560    53767             3          3                  2   \n",
       "273805   1112182   202304            84          3                  2   \n",
       "411408   1286742   183220            48          3                  2   \n",
       "266232   1782114   106752             1          3                  2   \n",
       "230807   1918001   188546            14          3                  2   \n",
       "323900   1919531   191501            32          3                  2   \n",
       "441599   2125197    14050            48          3                  2   \n",
       "223105   2160484   107525            16          3                  2   \n",
       "345917   2232988    82565             1          3                  2   \n",
       "415163   2282673    86751            49          3                  2   \n",
       "284038   2845099    31189            11          3                  2   \n",
       "\n",
       "        days_since_prior_order  \n",
       "371905                    10.0  \n",
       "321100                    18.0  \n",
       "394347                     2.0  \n",
       "145574                     2.0  \n",
       "311713                     9.0  \n",
       "273805                     6.0  \n",
       "411408                     4.0  \n",
       "266232                     NaN  \n",
       "230807                    16.0  \n",
       "323900                     7.0  \n",
       "441599                     3.0  \n",
       "223105                    30.0  \n",
       "345917                     NaN  \n",
       "415163                     2.0  \n",
       "284038                     7.0  "
      ]
     },
     "execution_count": 8,
     "metadata": {},
     "output_type": "execute_result"
    }
   ],
   "source": [
    "# Revisa si hay pedidos duplicados\n",
    "\n",
    "print(df_instacart['order_id'].duplicated())\n",
    "print()\n",
    "print(df_instacart['order_id'].duplicated().sum())\n",
    "print()\n",
    "df_instacart[df_instacart['order_id'].duplicated()].sort_values('order_id')"
   ]
  },
  {
   "cell_type": "markdown",
   "id": "PEkwUX_gvt5A",
   "metadata": {
    "id": "PEkwUX_gvt5A"
   },
   "source": [
    "¿Tienes líneas duplicadas? Si sí, ¿qué tienen en común?\n",
    "\n",
    "Se encuentra información duplicada, con hallazgos en dos columnas, order_dow, el día de la semana se repite, así como en la columna order_hour_of_day, se repite el dato. Es necesario trabajar estos datos duplicados para contar con una base de registros limpia y ordenada, para llegar al objetivo de los resultados deseados."
   ]
  },
  {
   "cell_type": "code",
   "execution_count": 9,
   "id": "0d44de5d",
   "metadata": {
    "id": "0d44de5d"
   },
   "outputs": [
    {
     "name": "stdout",
     "output_type": "stream",
     "text": [
      "       order_id  user_id  order_number  order_dow  order_hour_of_day  \\\n",
      "29129    353088    46038             4          3                  2   \n",
      "18420    382357   120200            19          3                  2   \n",
      "15506    553049    58599            13          3                  2   \n",
      "74991    592699   175625             2          3                  2   \n",
      "24691    690242    77357             2          3                  2   \n",
      "25376   1378085    75705            21          3                  2   \n",
      "62357   1399416    93151            34          3                  2   \n",
      "48024   1453300    69262            27          3                  2   \n",
      "96232   1542137   136709            43          3                  2   \n",
      "82460   1554296    39743            10          3                  2   \n",
      "31404   1725788   147843            10          3                  2   \n",
      "68987   1761462   140562            36          3                  2   \n",
      "30371   1918001   188546            14          3                  2   \n",
      "70443   2027608    15574             8          3                  2   \n",
      "5156    2190225   138285            18          3                  2   \n",
      "94257   2429224   132282            29          3                  2   \n",
      "4838    2766110   162084            41          3                  2   \n",
      "77051   2800415   196070             3          3                  2   \n",
      "26301   2846262   176827             2          3                  2   \n",
      "52245   2851380   118608            33          3                  2   \n",
      "\n",
      "       days_since_prior_order  \n",
      "29129                    11.0  \n",
      "18420                    11.0  \n",
      "15506                     7.0  \n",
      "74991                    30.0  \n",
      "24691                     9.0  \n",
      "25376                     5.0  \n",
      "62357                     2.0  \n",
      "48024                     7.0  \n",
      "96232                     4.0  \n",
      "82460                     6.0  \n",
      "31404                    30.0  \n",
      "68987                     7.0  \n",
      "30371                    16.0  \n",
      "70443                    17.0  \n",
      "5156                     11.0  \n",
      "94257                    25.0  \n",
      "4838                     16.0  \n",
      "77051                    12.0  \n",
      "26301                    30.0  \n",
      "52245                    30.0  \n"
     ]
    }
   ],
   "source": [
    "# Basándote en tus hallazgos,\n",
    "# Verifica todos los pedidos que se hicieron el miércoles a las 2:00 a.m.\n",
    "\n",
    "pedidos = (df_instacart[(df_instacart['order_dow'] == 3) & (df_instacart['order_hour_of_day'] == 2)])\n",
    "print(pedidos.head(20).sort_values('order_id'))"
   ]
  },
  {
   "cell_type": "markdown",
   "id": "vu2OWyoqwOx5",
   "metadata": {
    "id": "vu2OWyoqwOx5"
   },
   "source": [
    "¿Qué sugiere este resultado?\n",
    "\n",
    "Basándose en el resultado de verificación de los pedidos realizados el día miércoles a las 2:00 am, nos podemos dar cuenta que en efecto se trata de los datos duplicados, teniendo todas en común la información antes mencionada, lo que nos hace ver que probablemente se tuvo un suceso que haya ocasionado el duplicado de dicha información, o bien probablemente, un problema con la identificación del día y hora en el dispositivo mediante el cual se captura la información."
   ]
  },
  {
   "cell_type": "code",
   "execution_count": 10,
   "id": "480563c7",
   "metadata": {
    "id": "480563c7"
   },
   "outputs": [],
   "source": [
    "# Elimina los pedidos duplicados\n",
    "\n",
    "df_instacart = df_instacart.drop_duplicates()"
   ]
  },
  {
   "cell_type": "code",
   "execution_count": 11,
   "id": "0b2396a2",
   "metadata": {
    "id": "0b2396a2"
   },
   "outputs": [
    {
     "name": "stdout",
     "output_type": "stream",
     "text": [
      "0\n"
     ]
    }
   ],
   "source": [
    "# Vuelve a verificar si hay filas duplicadas\n",
    "\n",
    "print(df_instacart.duplicated().sum())"
   ]
  },
  {
   "cell_type": "code",
   "execution_count": 12,
   "id": "f6113ef1",
   "metadata": {
    "id": "f6113ef1"
   },
   "outputs": [
    {
     "data": {
      "text/plain": [
       "0"
      ]
     },
     "execution_count": 12,
     "metadata": {},
     "output_type": "execute_result"
    }
   ],
   "source": [
    "# Vuelve a verificar si hay IDs duplicados de pedidos\n",
    "\n",
    "df_instacart['order_id'].duplicated().sum()"
   ]
  },
  {
   "cell_type": "markdown",
   "id": "5e8905ae",
   "metadata": {
    "id": "5e8905ae"
   },
   "source": [
    "Describe brevemente tus hallazgos y lo que hiciste con ellos\n",
    "\n",
    "Al analizar el dataset instacart, en los primeros pasos que es analizar la descripción de los datos e iniciar con el pre procesamiento de la información, para obtener una base de registros limpia, se encontró que hay datos perdidos en una de sus columnas, así como también se encontraron datos duplicados, por lo que fue necesario trabajarlos para dejar la tabla lo más sana posible, primeramente se trabajaron los datos duplicados, llamándolos con el método duplicated mediante order_id, para que arroje la información completamente duplicada. Al obtener la información deseada, se analiza la información para analizar los hallazgos que pueden surgir, para entender el origen de la réplica, si tiene un motivo de ser que sea aceptable, o fue por algún error, y decidir si es conveniente su eliminación. en este caso se eliminaron los duplicados mediante el método drop_duplicates para que no ocasionen torpeza en los resultados, y finalmente se confirma que en efecto los datos duplicados se hayan eliminado sin problema."
   ]
  },
  {
   "cell_type": "markdown",
   "id": "45e6bc46",
   "metadata": {
    "id": "45e6bc46"
   },
   "source": [
    "### `products` data frame"
   ]
  },
  {
   "cell_type": "code",
   "execution_count": 13,
   "id": "5f526b5b-8175-46fa-a0fd-441767d50e64",
   "metadata": {
    "id": "5f526b5b-8175-46fa-a0fd-441767d50e64"
   },
   "outputs": [
    {
     "name": "stdout",
     "output_type": "stream",
     "text": [
      "0        False\n",
      "1        False\n",
      "2        False\n",
      "3        False\n",
      "4        False\n",
      "         ...  \n",
      "49689    False\n",
      "49690    False\n",
      "49691    False\n",
      "49692    False\n",
      "49693    False\n",
      "Length: 49694, dtype: bool\n",
      "\n",
      "0\n"
     ]
    }
   ],
   "source": [
    "# Verifica si hay filas totalmente duplicadas\n",
    "\n",
    "print(df_products.duplicated())\n",
    "print()\n",
    "print(df_products.duplicated().sum())"
   ]
  },
  {
   "cell_type": "code",
   "execution_count": 14,
   "id": "88daa4f4",
   "metadata": {
    "id": "88daa4f4"
   },
   "outputs": [
    {
     "data": {
      "text/html": [
       "<div>\n",
       "<style scoped>\n",
       "    .dataframe tbody tr th:only-of-type {\n",
       "        vertical-align: middle;\n",
       "    }\n",
       "\n",
       "    .dataframe tbody tr th {\n",
       "        vertical-align: top;\n",
       "    }\n",
       "\n",
       "    .dataframe thead th {\n",
       "        text-align: right;\n",
       "    }\n",
       "</style>\n",
       "<table border=\"1\" class=\"dataframe\">\n",
       "  <thead>\n",
       "    <tr style=\"text-align: right;\">\n",
       "      <th></th>\n",
       "      <th>product_id</th>\n",
       "      <th>product_name</th>\n",
       "      <th>aisle_id</th>\n",
       "      <th>department_id</th>\n",
       "    </tr>\n",
       "  </thead>\n",
       "  <tbody>\n",
       "  </tbody>\n",
       "</table>\n",
       "</div>"
      ],
      "text/plain": [
       "Empty DataFrame\n",
       "Columns: [product_id, product_name, aisle_id, department_id]\n",
       "Index: []"
      ]
     },
     "execution_count": 14,
     "metadata": {},
     "output_type": "execute_result"
    }
   ],
   "source": [
    "# Verifica si hay IDs duplicadas de productos\n",
    "\n",
    "df_products['product_id'].duplicated().sum()\n",
    "df_products[df_products['product_id'].duplicated()].sort_values('product_id')"
   ]
  },
  {
   "cell_type": "code",
   "execution_count": 15,
   "id": "c773f0bf",
   "metadata": {
    "id": "c773f0bf"
   },
   "outputs": [
    {
     "data": {
      "text/html": [
       "<div>\n",
       "<style scoped>\n",
       "    .dataframe tbody tr th:only-of-type {\n",
       "        vertical-align: middle;\n",
       "    }\n",
       "\n",
       "    .dataframe tbody tr th {\n",
       "        vertical-align: top;\n",
       "    }\n",
       "\n",
       "    .dataframe thead th {\n",
       "        text-align: right;\n",
       "    }\n",
       "</style>\n",
       "<table border=\"1\" class=\"dataframe\">\n",
       "  <thead>\n",
       "    <tr style=\"text-align: right;\">\n",
       "      <th></th>\n",
       "      <th>product_id</th>\n",
       "      <th>product_name</th>\n",
       "      <th>aisle_id</th>\n",
       "      <th>department_id</th>\n",
       "    </tr>\n",
       "  </thead>\n",
       "  <tbody>\n",
       "    <tr>\n",
       "      <th>31844</th>\n",
       "      <td>31845</td>\n",
       "      <td>18-IN-1 HEMP PEPPERMINT PURE-CASTILE SOAP</td>\n",
       "      <td>25</td>\n",
       "      <td>11</td>\n",
       "    </tr>\n",
       "    <tr>\n",
       "      <th>19941</th>\n",
       "      <td>19942</td>\n",
       "      <td>AGED BALSAMIC VINEGAR OF MODENA</td>\n",
       "      <td>19</td>\n",
       "      <td>13</td>\n",
       "    </tr>\n",
       "    <tr>\n",
       "      <th>24830</th>\n",
       "      <td>24831</td>\n",
       "      <td>ALBACORE SOLID WHITE TUNA IN WATER</td>\n",
       "      <td>95</td>\n",
       "      <td>15</td>\n",
       "    </tr>\n",
       "    <tr>\n",
       "      <th>9037</th>\n",
       "      <td>9038</td>\n",
       "      <td>AMERICAN CHEESE SLICES</td>\n",
       "      <td>21</td>\n",
       "      <td>16</td>\n",
       "    </tr>\n",
       "    <tr>\n",
       "      <th>49530</th>\n",
       "      <td>49531</td>\n",
       "      <td>ANCHOVY FILLETS IN OLIVE OIL</td>\n",
       "      <td>95</td>\n",
       "      <td>15</td>\n",
       "    </tr>\n",
       "    <tr>\n",
       "      <th>...</th>\n",
       "      <td>...</td>\n",
       "      <td>...</td>\n",
       "      <td>...</td>\n",
       "      <td>...</td>\n",
       "    </tr>\n",
       "    <tr>\n",
       "      <th>49552</th>\n",
       "      <td>49553</td>\n",
       "      <td>NaN</td>\n",
       "      <td>100</td>\n",
       "      <td>21</td>\n",
       "    </tr>\n",
       "    <tr>\n",
       "      <th>49574</th>\n",
       "      <td>49575</td>\n",
       "      <td>NaN</td>\n",
       "      <td>100</td>\n",
       "      <td>21</td>\n",
       "    </tr>\n",
       "    <tr>\n",
       "      <th>49640</th>\n",
       "      <td>49641</td>\n",
       "      <td>NaN</td>\n",
       "      <td>100</td>\n",
       "      <td>21</td>\n",
       "    </tr>\n",
       "    <tr>\n",
       "      <th>49663</th>\n",
       "      <td>49664</td>\n",
       "      <td>NaN</td>\n",
       "      <td>100</td>\n",
       "      <td>21</td>\n",
       "    </tr>\n",
       "    <tr>\n",
       "      <th>49668</th>\n",
       "      <td>49669</td>\n",
       "      <td>NaN</td>\n",
       "      <td>100</td>\n",
       "      <td>21</td>\n",
       "    </tr>\n",
       "  </tbody>\n",
       "</table>\n",
       "<p>1361 rows × 4 columns</p>\n",
       "</div>"
      ],
      "text/plain": [
       "       product_id                               product_name  aisle_id  \\\n",
       "31844       31845  18-IN-1 HEMP PEPPERMINT PURE-CASTILE SOAP        25   \n",
       "19941       19942            AGED BALSAMIC VINEGAR OF MODENA        19   \n",
       "24830       24831         ALBACORE SOLID WHITE TUNA IN WATER        95   \n",
       "9037         9038                     AMERICAN CHEESE SLICES        21   \n",
       "49530       49531               ANCHOVY FILLETS IN OLIVE OIL        95   \n",
       "...           ...                                        ...       ...   \n",
       "49552       49553                                        NaN       100   \n",
       "49574       49575                                        NaN       100   \n",
       "49640       49641                                        NaN       100   \n",
       "49663       49664                                        NaN       100   \n",
       "49668       49669                                        NaN       100   \n",
       "\n",
       "       department_id  \n",
       "31844             11  \n",
       "19941             13  \n",
       "24830             15  \n",
       "9037              16  \n",
       "49530             15  \n",
       "...              ...  \n",
       "49552             21  \n",
       "49574             21  \n",
       "49640             21  \n",
       "49663             21  \n",
       "49668             21  \n",
       "\n",
       "[1361 rows x 4 columns]"
      ]
     },
     "execution_count": 15,
     "metadata": {},
     "output_type": "execute_result"
    }
   ],
   "source": [
    "# Revisa si hay nombres duplicados de productos (convierte los nombres a letras mayúsculas para compararlos mejor)\n",
    "\n",
    "df_products['product_name'] = df_products['product_name'].str.upper()\n",
    "\n",
    "df_products['product_name'].duplicated().sum()\n",
    "df_products[df_products['product_name'].duplicated()].sort_values('product_name')"
   ]
  },
  {
   "cell_type": "code",
   "execution_count": 16,
   "id": "b38331b6",
   "metadata": {},
   "outputs": [
    {
     "data": {
      "text/html": [
       "<div>\n",
       "<style scoped>\n",
       "    .dataframe tbody tr th:only-of-type {\n",
       "        vertical-align: middle;\n",
       "    }\n",
       "\n",
       "    .dataframe tbody tr th {\n",
       "        vertical-align: top;\n",
       "    }\n",
       "\n",
       "    .dataframe thead th {\n",
       "        text-align: right;\n",
       "    }\n",
       "</style>\n",
       "<table border=\"1\" class=\"dataframe\">\n",
       "  <thead>\n",
       "    <tr style=\"text-align: right;\">\n",
       "      <th></th>\n",
       "      <th>product_id</th>\n",
       "      <th>product_name</th>\n",
       "      <th>aisle_id</th>\n",
       "      <th>department_id</th>\n",
       "    </tr>\n",
       "  </thead>\n",
       "  <tbody>\n",
       "    <tr>\n",
       "      <th>13152</th>\n",
       "      <td>13153</td>\n",
       "      <td>AGED BALSAMIC VINEGAR OF MODENA</td>\n",
       "      <td>19</td>\n",
       "      <td>13</td>\n",
       "    </tr>\n",
       "    <tr>\n",
       "      <th>19941</th>\n",
       "      <td>19942</td>\n",
       "      <td>AGED BALSAMIC VINEGAR OF MODENA</td>\n",
       "      <td>19</td>\n",
       "      <td>13</td>\n",
       "    </tr>\n",
       "  </tbody>\n",
       "</table>\n",
       "</div>"
      ],
      "text/plain": [
       "       product_id                     product_name  aisle_id  department_id\n",
       "13152       13153  AGED BALSAMIC VINEGAR OF MODENA        19             13\n",
       "19941       19942  AGED BALSAMIC VINEGAR OF MODENA        19             13"
      ]
     },
     "execution_count": 16,
     "metadata": {},
     "output_type": "execute_result"
    }
   ],
   "source": [
    "df_products[df_products['product_name'].str.contains('AGED BALSAMIC VINEGAR OF MODENA',na=False)]"
   ]
  },
  {
   "cell_type": "code",
   "execution_count": 17,
   "id": "b67f7d5f",
   "metadata": {},
   "outputs": [
    {
     "data": {
      "text/plain": [
       "array(['CHOCOLATE SANDWICH COOKIES', 'ALL-SEASONS SALT',\n",
       "       'ROBUST GOLDEN UNSWEETENED OOLONG TEA', ..., 'ARTISAN BAGUETTE',\n",
       "       'SMARTBLEND HEALTHY METABOLISM DRY CAT FOOD',\n",
       "       'FRESH FOAMING CLEANSER'], dtype=object)"
      ]
     },
     "execution_count": 17,
     "metadata": {},
     "output_type": "execute_result"
    }
   ],
   "source": [
    "df_products['product_name'].unique()"
   ]
  },
  {
   "cell_type": "code",
   "execution_count": 18,
   "id": "01efd02e",
   "metadata": {
    "id": "01efd02e"
   },
   "outputs": [
    {
     "data": {
      "text/html": [
       "<div>\n",
       "<style scoped>\n",
       "    .dataframe tbody tr th:only-of-type {\n",
       "        vertical-align: middle;\n",
       "    }\n",
       "\n",
       "    .dataframe tbody tr th {\n",
       "        vertical-align: top;\n",
       "    }\n",
       "\n",
       "    .dataframe thead th {\n",
       "        text-align: right;\n",
       "    }\n",
       "</style>\n",
       "<table border=\"1\" class=\"dataframe\">\n",
       "  <thead>\n",
       "    <tr style=\"text-align: right;\">\n",
       "      <th></th>\n",
       "      <th>product_id</th>\n",
       "      <th>product_name</th>\n",
       "      <th>aisle_id</th>\n",
       "      <th>department_id</th>\n",
       "    </tr>\n",
       "  </thead>\n",
       "  <tbody>\n",
       "    <tr>\n",
       "      <th>25772</th>\n",
       "      <td>25773</td>\n",
       "      <td>#2 COFFEE FILTERS</td>\n",
       "      <td>26</td>\n",
       "      <td>7</td>\n",
       "    </tr>\n",
       "    <tr>\n",
       "      <th>2157</th>\n",
       "      <td>2158</td>\n",
       "      <td>#2 CONE WHITE COFFEE FILTERS</td>\n",
       "      <td>26</td>\n",
       "      <td>7</td>\n",
       "    </tr>\n",
       "    <tr>\n",
       "      <th>26684</th>\n",
       "      <td>26685</td>\n",
       "      <td>#2 MECHANICAL PENCILS</td>\n",
       "      <td>87</td>\n",
       "      <td>17</td>\n",
       "    </tr>\n",
       "    <tr>\n",
       "      <th>26380</th>\n",
       "      <td>26381</td>\n",
       "      <td>#4 NATURAL BROWN COFFEE FILTERS</td>\n",
       "      <td>26</td>\n",
       "      <td>7</td>\n",
       "    </tr>\n",
       "    <tr>\n",
       "      <th>20603</th>\n",
       "      <td>20604</td>\n",
       "      <td>&amp; GO! HAZELNUT SPREAD + PRETZEL STICKS</td>\n",
       "      <td>88</td>\n",
       "      <td>13</td>\n",
       "    </tr>\n",
       "    <tr>\n",
       "      <th>...</th>\n",
       "      <td>...</td>\n",
       "      <td>...</td>\n",
       "      <td>...</td>\n",
       "      <td>...</td>\n",
       "    </tr>\n",
       "    <tr>\n",
       "      <th>13816</th>\n",
       "      <td>13817</td>\n",
       "      <td>\\\"IM PEI-NUT BUTTER\\\" DOUBLE CHOCOLATE COOKIE ...</td>\n",
       "      <td>37</td>\n",
       "      <td>1</td>\n",
       "    </tr>\n",
       "    <tr>\n",
       "      <th>44343</th>\n",
       "      <td>44344</td>\n",
       "      <td>\\\"LOUIS BA-KAHN\\\" CHOCOLATE CHIP COOKIE &amp; BROW...</td>\n",
       "      <td>37</td>\n",
       "      <td>1</td>\n",
       "    </tr>\n",
       "    <tr>\n",
       "      <th>25916</th>\n",
       "      <td>25917</td>\n",
       "      <td>\\\"MIES VANILLA ROHE\\\" ICE CREAM BARS</td>\n",
       "      <td>119</td>\n",
       "      <td>1</td>\n",
       "    </tr>\n",
       "    <tr>\n",
       "      <th>45315</th>\n",
       "      <td>45316</td>\n",
       "      <td>\\\"MOKACCINO\\\" MILK + BLUE BOTTLE COFFEE CHOCOLATE</td>\n",
       "      <td>45</td>\n",
       "      <td>19</td>\n",
       "    </tr>\n",
       "    <tr>\n",
       "      <th>37</th>\n",
       "      <td>38</td>\n",
       "      <td>NaN</td>\n",
       "      <td>100</td>\n",
       "      <td>21</td>\n",
       "    </tr>\n",
       "  </tbody>\n",
       "</table>\n",
       "<p>48437 rows × 4 columns</p>\n",
       "</div>"
      ],
      "text/plain": [
       "       product_id                                       product_name  \\\n",
       "25772       25773                                  #2 COFFEE FILTERS   \n",
       "2157         2158                       #2 CONE WHITE COFFEE FILTERS   \n",
       "26684       26685                              #2 MECHANICAL PENCILS   \n",
       "26380       26381                    #4 NATURAL BROWN COFFEE FILTERS   \n",
       "20603       20604             & GO! HAZELNUT SPREAD + PRETZEL STICKS   \n",
       "...           ...                                                ...   \n",
       "13816       13817  \\\"IM PEI-NUT BUTTER\\\" DOUBLE CHOCOLATE COOKIE ...   \n",
       "44343       44344  \\\"LOUIS BA-KAHN\\\" CHOCOLATE CHIP COOKIE & BROW...   \n",
       "25916       25917               \\\"MIES VANILLA ROHE\\\" ICE CREAM BARS   \n",
       "45315       45316  \\\"MOKACCINO\\\" MILK + BLUE BOTTLE COFFEE CHOCOLATE   \n",
       "37             38                                                NaN   \n",
       "\n",
       "       aisle_id  department_id  \n",
       "25772        26              7  \n",
       "2157         26              7  \n",
       "26684        87             17  \n",
       "26380        26              7  \n",
       "20603        88             13  \n",
       "...         ...            ...  \n",
       "13816        37              1  \n",
       "44343        37              1  \n",
       "25916       119              1  \n",
       "45315        45             19  \n",
       "37          100             21  \n",
       "\n",
       "[48437 rows x 4 columns]"
      ]
     },
     "execution_count": 18,
     "metadata": {},
     "output_type": "execute_result"
    }
   ],
   "source": [
    "# Revisa si hay nombres duplicados de productos no faltantes\n",
    "\n",
    "df_products[df_products['product_name'].duplicated() & df_products['product_name'].isna() == False].sort_values('product_name')"
   ]
  },
  {
   "cell_type": "markdown",
   "id": "9da8d293",
   "metadata": {
    "id": "9da8d293"
   },
   "source": [
    "El siguiente dataset a analizar es products, en cual se verifica si hay valores duplicados, primeramente se revisa si hay duplicados por medio del id, para saber si hay filas completamente duplicadas, lo cual nos arroja que no existen filas duplicadas, posteriormente procedemos a analizar si hay nombres duplicados, o bien, el mismo nombre pero con detalles distintos, para uniformizar la información. para esto, se pasan los nombres a mayúsculas para que nos arroje la información que se quiere analizar, lo que nos arroja que, la columna product_name, arroja contiene información duplicada, sin embargo, al revisar el product_id de cada nombre de producto, podemos ver que pertenece a diferente producto, por lo tanto, esta información no se elimina. También se pudo observar que en la columna product_name hay valores nulos, que es necesario revisarlos, para trabajar en limpiarlos."
   ]
  },
  {
   "cell_type": "markdown",
   "id": "60f30db1",
   "metadata": {
    "id": "60f30db1"
   },
   "source": [
    "### `departments` data frame"
   ]
  },
  {
   "cell_type": "code",
   "execution_count": 19,
   "id": "fb410ad4-0fbf-4b80-bb09-23fdea79afe3",
   "metadata": {
    "id": "fb410ad4-0fbf-4b80-bb09-23fdea79afe3"
   },
   "outputs": [
    {
     "data": {
      "text/plain": [
       "0"
      ]
     },
     "execution_count": 19,
     "metadata": {},
     "output_type": "execute_result"
    }
   ],
   "source": [
    "# Revisa si hay filas totalmente duplicadas\n",
    "\n",
    "df_departments.duplicated().sum()"
   ]
  },
  {
   "cell_type": "code",
   "execution_count": 20,
   "id": "332b12bb",
   "metadata": {
    "id": "332b12bb"
   },
   "outputs": [
    {
     "data": {
      "text/plain": [
       "0"
      ]
     },
     "execution_count": 20,
     "metadata": {},
     "output_type": "execute_result"
    }
   ],
   "source": [
    "# Revisa si hay IDs duplicadas de productos\n",
    "\n",
    "df_departments['department_id'].duplicated().sum()"
   ]
  },
  {
   "cell_type": "markdown",
   "id": "bd30d78e",
   "metadata": {
    "id": "bd30d78e"
   },
   "source": [
    "Se analiza el dataset departments, para verificar si se encuentran valores duplicados mediante el método duplicated, lo que nos arroja que la información en la tabla se encuentra completa, sin duplicados, por lo que se mantiene la tabla sin cambio alguno por el momento."
   ]
  },
  {
   "cell_type": "markdown",
   "id": "889349c1",
   "metadata": {
    "id": "889349c1"
   },
   "source": [
    "### `aisles` data frame"
   ]
  },
  {
   "cell_type": "code",
   "execution_count": 21,
   "id": "9da89fb9-4679-40f5-ad0d-c34df753a3f8",
   "metadata": {
    "id": "9da89fb9-4679-40f5-ad0d-c34df753a3f8"
   },
   "outputs": [
    {
     "data": {
      "text/plain": [
       "0"
      ]
     },
     "execution_count": 21,
     "metadata": {},
     "output_type": "execute_result"
    }
   ],
   "source": [
    "# Revisa si hay filas totalmente duplicadas\n",
    "\n",
    "df_aisles.duplicated().sum()"
   ]
  },
  {
   "cell_type": "code",
   "execution_count": 22,
   "id": "da7c2822",
   "metadata": {
    "id": "da7c2822"
   },
   "outputs": [
    {
     "data": {
      "text/plain": [
       "0"
      ]
     },
     "execution_count": 22,
     "metadata": {},
     "output_type": "execute_result"
    }
   ],
   "source": [
    "# Revisa si hay IDs duplicadas de productos\n",
    "\n",
    "df_aisles['aisle_id'].duplicated().sum()"
   ]
  },
  {
   "cell_type": "markdown",
   "id": "ac63826f",
   "metadata": {
    "id": "ac63826f"
   },
   "source": [
    "Se analiza del dataset aisles, para buscar si hay información duplicada, lo que el método duplicated nos arroja que no se encuentran valores duplicados, por lo que se mantiene la tabla sin cambios por el momento."
   ]
  },
  {
   "cell_type": "markdown",
   "id": "274cd06a",
   "metadata": {
    "id": "274cd06a"
   },
   "source": [
    "### `order_products` data frame"
   ]
  },
  {
   "cell_type": "code",
   "execution_count": 23,
   "id": "52326689-84a8-4b8f-a881-7c68780f62c9",
   "metadata": {
    "id": "52326689-84a8-4b8f-a881-7c68780f62c9"
   },
   "outputs": [
    {
     "data": {
      "text/plain": [
       "0"
      ]
     },
     "execution_count": 23,
     "metadata": {},
     "output_type": "execute_result"
    }
   ],
   "source": [
    "# Revisa si hay filas totalmente duplicadas\n",
    "\n",
    "df_ord_prod.duplicated().sum()"
   ]
  },
  {
   "cell_type": "code",
   "execution_count": 24,
   "id": "7b861391",
   "metadata": {
    "id": "7b861391"
   },
   "outputs": [
    {
     "data": {
      "text/plain": [
       "0"
      ]
     },
     "execution_count": 24,
     "metadata": {},
     "output_type": "execute_result"
    }
   ],
   "source": [
    "# Vuelve a verificar si hay cualquier otro duplicado engañoso\n",
    "\n",
    "df_ord_prod.duplicated(subset=['order_id','product_id','add_to_cart_order']).sum()"
   ]
  },
  {
   "cell_type": "markdown",
   "id": "0b890492",
   "metadata": {
    "id": "0b890492"
   },
   "source": [
    "Se verifica si el dataset order_products cuenta con información duplicada, primeramente se buscan filas totalmente duplicadas, y posteriormente se verifica si no se encuentra algún duplicado en alguna otra columna que pudiera afectar al momento de realizar análisis. Los resultados del método utilizado duplicated nos arroja que no se encuentran filas duplicadas, ni algún otro duplicado, por lo que se mantiene la tabla sin cambios por el momento."
   ]
  },
  {
   "cell_type": "markdown",
   "id": "1e46de76",
   "metadata": {
    "id": "1e46de76"
   },
   "source": [
    "## Encuentra y elimina los valores ausentes\n",
    "\n",
    "Al trabajar con valores duplicados, pudimos observar que también nos falta investigar valores ausentes:\n",
    "\n",
    "* La columna `'product_name'` de la tabla products.\n",
    "* La columna `'days_since_prior_order'` de la tabla orders.\n",
    "* La columna `'add_to_cart_order'` de la tabla order_productos."
   ]
  },
  {
   "cell_type": "markdown",
   "id": "c0aebd78",
   "metadata": {
    "id": "c0aebd78"
   },
   "source": [
    "### `products` data frame"
   ]
  },
  {
   "cell_type": "code",
   "execution_count": 25,
   "id": "fe4a8b0f",
   "metadata": {
    "id": "fe4a8b0f"
   },
   "outputs": [
    {
     "data": {
      "text/html": [
       "<div>\n",
       "<style scoped>\n",
       "    .dataframe tbody tr th:only-of-type {\n",
       "        vertical-align: middle;\n",
       "    }\n",
       "\n",
       "    .dataframe tbody tr th {\n",
       "        vertical-align: top;\n",
       "    }\n",
       "\n",
       "    .dataframe thead th {\n",
       "        text-align: right;\n",
       "    }\n",
       "</style>\n",
       "<table border=\"1\" class=\"dataframe\">\n",
       "  <thead>\n",
       "    <tr style=\"text-align: right;\">\n",
       "      <th></th>\n",
       "      <th>product_id</th>\n",
       "      <th>product_name</th>\n",
       "      <th>aisle_id</th>\n",
       "      <th>department_id</th>\n",
       "    </tr>\n",
       "  </thead>\n",
       "  <tbody>\n",
       "    <tr>\n",
       "      <th>37</th>\n",
       "      <td>38</td>\n",
       "      <td>NaN</td>\n",
       "      <td>100</td>\n",
       "      <td>21</td>\n",
       "    </tr>\n",
       "    <tr>\n",
       "      <th>71</th>\n",
       "      <td>72</td>\n",
       "      <td>NaN</td>\n",
       "      <td>100</td>\n",
       "      <td>21</td>\n",
       "    </tr>\n",
       "    <tr>\n",
       "      <th>109</th>\n",
       "      <td>110</td>\n",
       "      <td>NaN</td>\n",
       "      <td>100</td>\n",
       "      <td>21</td>\n",
       "    </tr>\n",
       "    <tr>\n",
       "      <th>296</th>\n",
       "      <td>297</td>\n",
       "      <td>NaN</td>\n",
       "      <td>100</td>\n",
       "      <td>21</td>\n",
       "    </tr>\n",
       "    <tr>\n",
       "      <th>416</th>\n",
       "      <td>417</td>\n",
       "      <td>NaN</td>\n",
       "      <td>100</td>\n",
       "      <td>21</td>\n",
       "    </tr>\n",
       "    <tr>\n",
       "      <th>...</th>\n",
       "      <td>...</td>\n",
       "      <td>...</td>\n",
       "      <td>...</td>\n",
       "      <td>...</td>\n",
       "    </tr>\n",
       "    <tr>\n",
       "      <th>49552</th>\n",
       "      <td>49553</td>\n",
       "      <td>NaN</td>\n",
       "      <td>100</td>\n",
       "      <td>21</td>\n",
       "    </tr>\n",
       "    <tr>\n",
       "      <th>49574</th>\n",
       "      <td>49575</td>\n",
       "      <td>NaN</td>\n",
       "      <td>100</td>\n",
       "      <td>21</td>\n",
       "    </tr>\n",
       "    <tr>\n",
       "      <th>49640</th>\n",
       "      <td>49641</td>\n",
       "      <td>NaN</td>\n",
       "      <td>100</td>\n",
       "      <td>21</td>\n",
       "    </tr>\n",
       "    <tr>\n",
       "      <th>49663</th>\n",
       "      <td>49664</td>\n",
       "      <td>NaN</td>\n",
       "      <td>100</td>\n",
       "      <td>21</td>\n",
       "    </tr>\n",
       "    <tr>\n",
       "      <th>49668</th>\n",
       "      <td>49669</td>\n",
       "      <td>NaN</td>\n",
       "      <td>100</td>\n",
       "      <td>21</td>\n",
       "    </tr>\n",
       "  </tbody>\n",
       "</table>\n",
       "<p>1258 rows × 4 columns</p>\n",
       "</div>"
      ],
      "text/plain": [
       "       product_id product_name  aisle_id  department_id\n",
       "37             38          NaN       100             21\n",
       "71             72          NaN       100             21\n",
       "109           110          NaN       100             21\n",
       "296           297          NaN       100             21\n",
       "416           417          NaN       100             21\n",
       "...           ...          ...       ...            ...\n",
       "49552       49553          NaN       100             21\n",
       "49574       49575          NaN       100             21\n",
       "49640       49641          NaN       100             21\n",
       "49663       49664          NaN       100             21\n",
       "49668       49669          NaN       100             21\n",
       "\n",
       "[1258 rows x 4 columns]"
      ]
     },
     "execution_count": 25,
     "metadata": {},
     "output_type": "execute_result"
    }
   ],
   "source": [
    "# Encuentra los valores ausentes en la columna 'product_name'\n",
    "\n",
    "df_products['product_name'].isna().sum()\n",
    "df_products[df_products['product_name'].isna()]"
   ]
  },
  {
   "cell_type": "markdown",
   "id": "-A6x1AbJhjkp",
   "metadata": {
    "id": "-A6x1AbJhjkp"
   },
   "source": [
    "Como visualizamos en el paso anterior al buscar duplicados, nos pudimos dar cuenta que en la columna product_name se encuentran valores ausentes, ahora nos disponemos a trabajarlos, primeramente se tienen que encontrar todos los valores ausentes y revisar la información para revisar qué distinciones arroja. Para lo que podemos ver, visualizamos que los nombres de producto que se encuentran nulos, tienen similitud en las columnas aisle_id y department_id, los cuales cuentan con el mismo valor en todos los valores ausentes."
   ]
  },
  {
   "cell_type": "code",
   "execution_count": 26,
   "id": "e96167bc",
   "metadata": {
    "id": "e96167bc"
   },
   "outputs": [
    {
     "data": {
      "text/plain": [
       "array([100])"
      ]
     },
     "execution_count": 26,
     "metadata": {},
     "output_type": "execute_result"
    }
   ],
   "source": [
    "#  ¿Todos los nombres de productos ausentes están relacionados con el pasillo con ID 100?\n",
    "\n",
    "df_products[df_products['product_name'].isna()]['aisle_id'].unique()"
   ]
  },
  {
   "cell_type": "code",
   "execution_count": 27,
   "id": "8fd0a541",
   "metadata": {
    "id": "8fd0a541"
   },
   "outputs": [
    {
     "data": {
      "text/plain": [
       "array([21])"
      ]
     },
     "execution_count": 27,
     "metadata": {},
     "output_type": "execute_result"
    }
   ],
   "source": [
    "# ¿Todos los nombres de productos ausentes están relacionados con el departamento con ID 21?\n",
    "\n",
    "df_products[df_products['product_name'].isna()]['department_id'].unique()"
   ]
  },
  {
   "cell_type": "markdown",
   "id": "qDpdYn1Fht_I",
   "metadata": {
    "id": "qDpdYn1Fht_I"
   },
   "source": [
    "Al revisar las distinciones que arrojaron las líneas de código anterior, se procede a verificar si se encuentra algún otro nombre de producto que pudiera llegar a encontrarse algún valor distinto en la columna department_id, para lo que se busca cuales son todos los valores de department_id para los nombres de producto nulos, lo cual nos arroja que en efecto el departme id que arroja es 21"
   ]
  },
  {
   "cell_type": "code",
   "execution_count": 28,
   "id": "325c3464",
   "metadata": {
    "id": "325c3464"
   },
   "outputs": [
    {
     "name": "stdout",
     "output_type": "stream",
     "text": [
      "    aisle_id    aisle\n",
      "99       100  missing\n",
      "\n",
      "    department_id department\n",
      "20             21    missing\n"
     ]
    }
   ],
   "source": [
    "# Usa las tablas department y aisle para revisar los datos del pasillo con ID 100 y el departamento con ID 21.\n",
    "\n",
    "print(df_aisles[df_aisles['aisle_id'] == 100])\n",
    "print()\n",
    "print(df_departments[df_departments['department_id'] == 21])"
   ]
  },
  {
   "cell_type": "markdown",
   "id": "nqhSTUPhhvEJ",
   "metadata": {
    "id": "nqhSTUPhhvEJ"
   },
   "source": [
    "Posteriormente nos dedicamos a investigar más a fondo sobre la información que contiene cada uno de los registros que nos arrojó donde había valores pérdidos, nos fuimos a los datasets department y aisle para ver los datos que contenían los id's, para lo cual podemos ver que los datos del departamento y del pasillo no se tienen 'missing' por lo que no se sabe que departament y pasillo es al que pertenecen."
   ]
  },
  {
   "cell_type": "code",
   "execution_count": 29,
   "id": "6b295120",
   "metadata": {
    "id": "6b295120"
   },
   "outputs": [
    {
     "name": "stdout",
     "output_type": "stream",
     "text": [
      "       product_id                                      product_name  aisle_id  \\\n",
      "12615       12616                         CERTIFIED ORGANIC ORANGES       123   \n",
      "18020       18021             CRUNCHY NO-SALT ROASTED ALMOND BUTTER        88   \n",
      "27566       27567                        LIQUID COCONUT PREMIUM OIL        25   \n",
      "22621       22622                         ORGANIC SUNFLOWER KERNELS       117   \n",
      "14279       14280                                           WIENERS       106   \n",
      "28721       28722                                    EUCALYPTUS OIL       101   \n",
      "25336       25337                   WARRIOR BLEND RAW VEGAN PROTEIN        65   \n",
      "38622       38623                           WILD RICE- 100% NATURAL         4   \n",
      "5744         5745            BLACK & GREEN TEA- ORGANIC- CHAI- BAGS        94   \n",
      "47962       47963              WHOLE GRAIN MINI ABC'S & 123'S PASTA        59   \n",
      "5768         5769                             ORGANIC CHICKEN STOCK        69   \n",
      "6399         6400                              ALMOND ACAI LITE BAR         3   \n",
      "14661       14662                                 DUMPLINGS NOODLES       131   \n",
      "46276       46277                                ORGANIX CAT TREATS        41   \n",
      "13788       13789                               GARLIC HUMMUS TO GO        51   \n",
      "26851       26852            TROPICAL GREEN FRUIT & VEGETABLE JUICE        98   \n",
      "8308         8309          NONFAT ICELANDIC STYLE STRAWBERRY YOGURT       120   \n",
      "16358       16359                             MEDIUM PEARLED BARLEY        63   \n",
      "36735       36736                                      IODIZED SALT       104   \n",
      "45441       45442                   AIR EFFECTS GAIN ORIGINAL SCENT       101   \n",
      "43687       43688      TOILET BOWL CLEANER WITH LIME & RUST REMOVER       114   \n",
      "32673       32674          SLEEPY TIME LEMON JASMINE DECAF TEA BAGS        94   \n",
      "35007       35008                              DISNEY FROZEN CEREAL       121   \n",
      "19452       19453                              ORIGINAL SHAVE CREAM        55   \n",
      "23876       23877     VITAMIN CODE RAW PRENATAL VEGETARIAN CAPSULES        47   \n",
      "44701       44702                                HABANERO HOT SAUCE        89   \n",
      "10850       10851                       NATURAL ALPINE SPRING WATER       115   \n",
      "828           829  COMPLEATS GOOD MORNINGS BACON BREAKFAST SCRAMBLE         4   \n",
      "25538       25539                            MUENSTER CHEESE SLICES        21   \n",
      "14997       14998                                    LINGUINI PASTA       131   \n",
      "\n",
      "       department_id  \n",
      "12615              4  \n",
      "18020             13  \n",
      "27566             11  \n",
      "22621             19  \n",
      "14279             12  \n",
      "28721             17  \n",
      "25336             11  \n",
      "38622              9  \n",
      "5744               7  \n",
      "47962             15  \n",
      "5768              15  \n",
      "6399              19  \n",
      "14661              9  \n",
      "46276              8  \n",
      "13788             13  \n",
      "26851              7  \n",
      "8308              16  \n",
      "16358              9  \n",
      "36735             13  \n",
      "45441             17  \n",
      "43687             17  \n",
      "32673              7  \n",
      "35007             14  \n",
      "19452             11  \n",
      "23876             11  \n",
      "44701             13  \n",
      "10850              7  \n",
      "828                9  \n",
      "25538             16  \n",
      "14997              9  \n"
     ]
    }
   ],
   "source": [
    "# Completa los nombres de productos ausentes con 'Unknown'\n",
    "\n",
    "df_products['product_name'] = df_products['product_name'].fillna('UNKNOWN')\n",
    "print(df_products.sample(30))"
   ]
  },
  {
   "cell_type": "markdown",
   "id": "fc70e5ad",
   "metadata": {
    "id": "fc70e5ad"
   },
   "source": [
    "Al no encontrar información de valor en los datasets department y aisle, y no saber con certeza a donde pertenecen los productos, se decide no eliminarlos pero trabajarlos como desconocidos por lo que se procede a llenar todos los valores pérdidos y renombrarlos con el distintivo 'unknown', para así poder trabajar con ellos y el resto de la información que arroja, la cual puede ser de gran valor."
   ]
  },
  {
   "cell_type": "markdown",
   "id": "7eb45c86",
   "metadata": {
    "id": "7eb45c86"
   },
   "source": [
    "### `orders` data frame"
   ]
  },
  {
   "cell_type": "code",
   "execution_count": 30,
   "id": "93e41d96",
   "metadata": {
    "id": "93e41d96"
   },
   "outputs": [
    {
     "data": {
      "text/plain": [
       "order_id                      0\n",
       "user_id                       0\n",
       "order_number                  0\n",
       "order_dow                     0\n",
       "order_hour_of_day             0\n",
       "days_since_prior_order    28817\n",
       "dtype: int64"
      ]
     },
     "execution_count": 30,
     "metadata": {},
     "output_type": "execute_result"
    }
   ],
   "source": [
    "# Encuentra los valores ausentes\n",
    "\n",
    "df_instacart.isna().sum()"
   ]
  },
  {
   "cell_type": "code",
   "execution_count": 31,
   "id": "166e5a86",
   "metadata": {
    "id": "166e5a86"
   },
   "outputs": [
    {
     "data": {
      "text/plain": [
       "order_id  user_id  order_number  order_dow  order_hour_of_day  days_since_prior_order\n",
       "False     False    False         False      False              False                     450135\n",
       "                                                               True                       28817\n",
       "dtype: int64"
      ]
     },
     "execution_count": 31,
     "metadata": {},
     "output_type": "execute_result"
    }
   ],
   "source": [
    "# ¿Hay algún valor ausente que no sea el primer pedido del cliente?\n",
    "\n",
    "df_instacart.isna().value_counts()"
   ]
  },
  {
   "cell_type": "markdown",
   "id": "4e23d089",
   "metadata": {
    "id": "4e23d089"
   },
   "source": [
    "Se trabaja con el dataset instacart para revisar si se encuentran valores pérdidos en la tabla, mediante el método isna se analiza primero la tabla en general, lo que nos arroja, que se encuentran valores pérdidos únicamente en la columna que arroja los días desde el primer pedido, la cual por el momento no sufre alguna modificación ya que el universo de datos es bastante amplio para obtener información, sin embargo, los datos pérdidos se pudieran trabajar mediante algún método probabilístico para reemplazarlo, o bien reemplazarlo con algún número simbólico, ejemplo 0."
   ]
  },
  {
   "cell_type": "markdown",
   "id": "69dc9ca4",
   "metadata": {
    "id": "69dc9ca4"
   },
   "source": [
    "\n",
    "\n",
    "### `order_products` data frame"
   ]
  },
  {
   "cell_type": "code",
   "execution_count": 32,
   "id": "b8240253",
   "metadata": {
    "id": "b8240253"
   },
   "outputs": [
    {
     "data": {
      "text/plain": [
       "order_id               0\n",
       "product_id             0\n",
       "add_to_cart_order    836\n",
       "reordered              0\n",
       "dtype: int64"
      ]
     },
     "execution_count": 32,
     "metadata": {},
     "output_type": "execute_result"
    }
   ],
   "source": [
    "# Encuentra los valores ausentes\n",
    "\n",
    "df_ord_prod.isna().sum()"
   ]
  },
  {
   "cell_type": "code",
   "execution_count": 33,
   "id": "9a78e5ee",
   "metadata": {
    "id": "9a78e5ee"
   },
   "outputs": [
    {
     "name": "stdout",
     "output_type": "stream",
     "text": [
      "El valor mínimo es: 1.0\n",
      "El valor máximo es: 64.0\n"
     ]
    }
   ],
   "source": [
    "# ¿Cuáles son los valores mínimos y máximos en esta columna?\n",
    "\n",
    "print('El valor mínimo es:', df_ord_prod['add_to_cart_order'].min())\n",
    "print('El valor máximo es:', df_ord_prod['add_to_cart_order'].max())"
   ]
  },
  {
   "cell_type": "markdown",
   "id": "-Z2Ja215jW78",
   "metadata": {
    "id": "-Z2Ja215jW78"
   },
   "source": [
    "Analizamos el dataset order products, para verificar si se encuentran valores perdidos en la tabla, lo que encontramos que únicamente en la columna add to cart order hay valores perdidos, posteriormente, se analiza información que pueda arrojar algún distintivo, por lo que se revisan los valores tanto mínimos y máximos de la columna para revisar los resultados, ya que probablemente se pueda encontrar un detalle de los valores ausentes."
   ]
  },
  {
   "cell_type": "code",
   "execution_count": 34,
   "id": "ab9d0c2b",
   "metadata": {
    "id": "ab9d0c2b"
   },
   "outputs": [
    {
     "name": "stdout",
     "output_type": "stream",
     "text": [
      "737      2449164\n",
      "9926     1968313\n",
      "14394    2926893\n",
      "16418    1717990\n",
      "30114    1959075\n",
      "34183     844733\n",
      "57981      61355\n",
      "58228     936852\n",
      "62655     264710\n",
      "64336    1717990\n",
      "Name: order_id, dtype: int64\n"
     ]
    }
   ],
   "source": [
    "# Guarda todas las IDs de pedidos que tengan un valor ausente en 'add_to_cart_order'\n",
    "\n",
    "valores_ausentes = df_ord_prod[df_ord_prod['add_to_cart_order'].isna()]\n",
    "pedidos_ausentes = valores_ausentes['order_id']\n",
    "print(pedidos_ausentes.head(10))"
   ]
  },
  {
   "cell_type": "code",
   "execution_count": 35,
   "id": "54c31695",
   "metadata": {
    "id": "54c31695"
   },
   "outputs": [
    {
     "name": "stdout",
     "output_type": "stream",
     "text": [
      "order_id\n",
      "9310        65\n",
      "747668      65\n",
      "1598369     65\n",
      "1677118     65\n",
      "2170451     65\n",
      "          ... \n",
      "1959075     98\n",
      "171934     104\n",
      "2136777    108\n",
      "3308010    115\n",
      "61355      127\n",
      "Name: product_id, Length: 70, dtype: int64\n"
     ]
    }
   ],
   "source": [
    "# ¿Todos los pedidos con valores ausentes tienen más de 64 productos?\n",
    "# Agrupa todos los pedidos con datos ausentes por su ID de pedido.\n",
    "# Cuenta el número de 'product_id' en cada pedido y revisa el valor mínimo del conteo.\n",
    "\n",
    "ausentes = df_ord_prod[df_ord_prod['order_id'].isin(pedidos_ausentes)] #filtrar todos los valores ausentes dentro de valores_ausentes\n",
    "contar_producto = ausentes.groupby('order_id')['product_id'].count().sort_values()\n",
    "print(contar_producto)"
   ]
  },
  {
   "cell_type": "markdown",
   "id": "p9V6pddtjglj",
   "metadata": {
    "id": "p9V6pddtjglj"
   },
   "source": [
    "Podemos observar que los valores vendidos en add to cart los valores de conteo rebasan el valor máximo, por lo que se puede pensar que probablemente estos carritos no se finiquitaron por completo, es decir, el usuario no terminó de realizar la compra, solo se agregaron al carrito, y puede ser la razón por lo que se convirtieron en valores ausentes al no terminar el proceso."
   ]
  },
  {
   "cell_type": "code",
   "execution_count": 36,
   "id": "7a987d08",
   "metadata": {
    "id": "7a987d08"
   },
   "outputs": [
    {
     "name": "stdout",
     "output_type": "stream",
     "text": [
      "<class 'pandas.core.frame.DataFrame'>\n",
      "RangeIndex: 4545007 entries, 0 to 4545006\n",
      "Data columns (total 4 columns):\n",
      " #   Column             Non-Null Count    Dtype\n",
      "---  ------             --------------    -----\n",
      " 0   order_id           4545007 non-null  int64\n",
      " 1   product_id         4545007 non-null  int64\n",
      " 2   add_to_cart_order  4545007 non-null  int64\n",
      " 3   reordered          4545007 non-null  int64\n",
      "dtypes: int64(4)\n",
      "memory usage: 138.7 MB\n"
     ]
    }
   ],
   "source": [
    "# Remplaza los valores ausentes en la columna 'add_to_cart? con 999 y convierte la columna al tipo entero.\n",
    "\n",
    "df_ord_prod['add_to_cart_order'] = df_ord_prod['add_to_cart_order'].fillna(999)\n",
    "df_ord_prod['add_to_cart_order'] = df_ord_prod['add_to_cart_order'].astype(int)\n",
    "df_ord_prod.info(show_counts=True)"
   ]
  },
  {
   "cell_type": "markdown",
   "id": "fea4bcc7",
   "metadata": {
    "id": "fea4bcc7"
   },
   "source": [
    "Para poder trabajar con la información de la columna, al detectarse los valores ausentes, y analizarlos, se procede a procesarlos, reemplazando los ausentes con un número simbólico, en este caso '999' mediante el método fillna, así como también al tratarse de una columna que maneja números enteros, se asigna el tipo de datos correcto, entero, ya que contaba con tipo float. de esta manera, se podrán trabajar los números sin que arroje información errónea y/o complicada de leer, y con una tabla limpia, para que arroje los datos lo más certeros posible."
   ]
  },
  {
   "cell_type": "markdown",
   "id": "RnplPFY1gSrb",
   "metadata": {
    "id": "RnplPFY1gSrb"
   },
   "source": [
    "## Conclusiones\n",
    "\n",
    "Podemos ver que analizar cada una de las tablas es de suma importancia, para poder tener datasets limpios y que arrojen la información adecuada, el preprocesamiento de datos es de los pasos más importantes en un análisis para adquirir información acertada y obtener los resultados deseados y adecuados, ya que si se llega a saltar este paso, o se llega a pasar alguna información puede llegar a ser más complicado en en análisis de los datos, y también arrojar información que no es la adecuada, entorpeciendo los resultados finales, e impidiendo lograr el objetivo deseado. Es importante revisar la información general de la tabla, así como valores nulos y duplicados, el tipo de información que arroja, la manera en que está capturada la información para que el resultado sea exitoso."
   ]
  },
  {
   "cell_type": "markdown",
   "id": "UjrOIwTcz3ri",
   "metadata": {
    "id": "UjrOIwTcz3ri"
   },
   "source": [
    "# Paso 3. Análisis de los datos\n",
    "\n",
    "Una vez los datos estén procesados y listos, haz el siguiente análisis:"
   ]
  },
  {
   "cell_type": "markdown",
   "id": "turkish-kidney",
   "metadata": {
    "id": "turkish-kidney"
   },
   "source": [
    "# [A] Fácil (deben completarse todos para aprobar)\n",
    "\n",
    "1. Verifica que los valores en las columnas `'order_hour_of_day'` y `'order_dow'` en la tabla orders sean razonables (es decir, `'order_hour_of_day'` oscile entre 0 y 23 y `'order_dow'` oscile entre 0 y 6).\n",
    "2. Crea un gráfico que muestre el número de personas que hacen pedidos dependiendo de la hora del día.\n",
    "3. Crea un gráfico que muestre qué día de la semana la gente hace sus compras.\n",
    "4. Crea un gráfico que muestre el tiempo que la gente espera hasta hacer su siguiente pedido, y comenta sobre los valores mínimos y máximos."
   ]
  },
  {
   "cell_type": "markdown",
   "id": "short-capability",
   "metadata": {
    "id": "short-capability"
   },
   "source": [
    "### [A1] Verifica que los valores sean sensibles"
   ]
  },
  {
   "cell_type": "code",
   "execution_count": 37,
   "id": "growing-fruit",
   "metadata": {
    "id": "growing-fruit"
   },
   "outputs": [
    {
     "data": {
      "text/plain": [
       "array([13, 12, 19, 20, 11,  8, 18, 15, 16,  9, 22, 10,  0, 14, 17,  1,  7,\n",
       "        6,  2, 21,  3, 23,  5,  4])"
      ]
     },
     "execution_count": 37,
     "metadata": {},
     "output_type": "execute_result"
    }
   ],
   "source": [
    "df_instacart['order_hour_of_day'].unique()"
   ]
  },
  {
   "cell_type": "code",
   "execution_count": 38,
   "id": "accessory-malaysia",
   "metadata": {
    "id": "accessory-malaysia"
   },
   "outputs": [
    {
     "data": {
      "text/plain": [
       "array([6, 5, 0, 4, 3, 1, 2])"
      ]
     },
     "execution_count": 38,
     "metadata": {},
     "output_type": "execute_result"
    }
   ],
   "source": [
    "df_instacart['order_dow'].unique()"
   ]
  },
  {
   "cell_type": "markdown",
   "id": "hmR2GNQ6lCsX",
   "metadata": {
    "id": "hmR2GNQ6lCsX"
   },
   "source": [
    "Es importante verificar que los valores de las columnas sean los adecuados, en este caso en la tabla order hour of day, revisar lo valores no sobre pasen a 23, ya que se trata de las horas, tomando estas en el formato de 24:00 hrs, llevando los valores de 0 a 23, para que arroje la información adecuada, ya que si arroja algún otro valor, estaría tomándose como un valor incorrecto. Es el mismo caso de la columna order dow, la cual señala los días de la semana en valor numérico teniendo como límite del 0 a 6, representando cada número un día de la semana, en caso de arrojar un número diferente, sería un valor erróneo y habría que revisarlo, analizarlo y tratarlo."
   ]
  },
  {
   "cell_type": "markdown",
   "id": "a6743a70",
   "metadata": {
    "id": "a6743a70"
   },
   "source": [
    "### [A2] Para cada hora del día, ¿cuántas personas hacen órdenes?"
   ]
  },
  {
   "cell_type": "code",
   "execution_count": 39,
   "id": "a36cca27",
   "metadata": {
    "id": "a36cca27"
   },
   "outputs": [
    {
     "data": {
      "text/plain": [
       "<function matplotlib.pyplot.show(close=None, block=None)>"
      ]
     },
     "execution_count": 39,
     "metadata": {},
     "output_type": "execute_result"
    },
    {
     "data": {
      "image/png": "[encoded data removed]",
      "text/plain": [
       "<Figure size 640x480 with 1 Axes>"
      ]
     },
     "metadata": {},
     "output_type": "display_data"
    }
   ],
   "source": [
    "df_pedido_semana = df_instacart.groupby('order_hour_of_day')['user_id'].count()\n",
    "df_pedido_semana.plot(kind='bar', title='Ordenes por hora', xlabel='Hora del día', ylabel='Ordenes realizadas', rot=45)\n",
    "plt.show"
   ]
  },
  {
   "cell_type": "markdown",
   "id": "11270eed",
   "metadata": {
    "id": "11270eed"
   },
   "source": [
    "Podemos ver que durante las primeras horas del día son muy pocas las órdenes realizadas, lo que hace sentido, ya que es de madrugada, miramos que la cantidad empieza a incrementar, llegando a sus puntos máximos entre las 10:00 am y 3:00 y 4:00 pm, lo que podemos pensar que estos pedidos pueden tratarse o bien contener productos como comida rápida, que es cuando la mayoría de la gente toma esas horas para desayunar y comer respectivamente."
   ]
  },
  {
   "cell_type": "markdown",
   "id": "documented-command",
   "metadata": {
    "id": "documented-command"
   },
   "source": [
    "### [A3] ¿Qué día de la semana compran víveres las personas?"
   ]
  },
  {
   "cell_type": "code",
   "execution_count": 40,
   "id": "chief-digit",
   "metadata": {
    "id": "chief-digit"
   },
   "outputs": [
    {
     "data": {
      "text/plain": [
       "<function matplotlib.pyplot.show(close=None, block=None)>"
      ]
     },
     "execution_count": 40,
     "metadata": {},
     "output_type": "execute_result"
    },
    {
     "data": {
      "image/png": "[encoded data removed]",
      "text/plain": [
       "<Figure size 640x480 with 1 Axes>"
      ]
     },
     "metadata": {},
     "output_type": "display_data"
    }
   ],
   "source": [
    "df_pedido_semana = df_instacart.groupby('order_dow')['user_id'].count()\n",
    "df_pedido_semana.plot(kind='bar', xlabel='Día de la semana', ylabel='Cantidad de víveres', rot=45, title='Cantidad de compras por día')\n",
    "plt.xticks(ticks = range(7), labels=['Domingo','Lunes','Martes','Miércoles','Jueves','Viernes','Sábado'])\n",
    "plt.show"
   ]
  },
  {
   "cell_type": "markdown",
   "id": "dominant-lightning",
   "metadata": {
    "id": "dominant-lightning"
   },
   "source": [
    "Podemos ver que el punto más alto se encuentra en el día domingo, que al tratarse de un día de descanso laboral, deducimos que la gente aprovecha para realizar las compras, así como otras actividades, que se complican en un día laboral, sin embargo, también visualizamos que el día lunes es un punto alto en la gráfica, esto nos puede indicar que la gente puede utilizar tanto un domingo, como lunes, para realizar las compras de la semana completa."
   ]
  },
  {
   "cell_type": "markdown",
   "id": "cutting-concert",
   "metadata": {
    "id": "cutting-concert"
   },
   "source": [
    "### [A4] ¿Cuánto tiempo esperan las personas hasta hacer otro pedido? Comenta sobre los valores mínimos y máximos."
   ]
  },
  {
   "cell_type": "code",
   "execution_count": 41,
   "id": "c231f523",
   "metadata": {
    "id": "c231f523"
   },
   "outputs": [
    {
     "data": {
      "text/plain": [
       "<function matplotlib.pyplot.show(close=None, block=None)>"
      ]
     },
     "execution_count": 41,
     "metadata": {},
     "output_type": "execute_result"
    },
    {
     "data": {
      "image/png": "[encoded data removed]",
      "text/plain": [
       "<Figure size 640x480 with 1 Axes>"
      ]
     },
     "metadata": {},
     "output_type": "display_data"
    }
   ],
   "source": [
    "df_proximo_pedido = df_instacart.groupby('days_since_prior_order')['user_id'].count()\n",
    "df_proximo_pedido.plot(kind='bar', title='Tiempo de espera para siguiente pedido', xlabel='Días de espera', ylabel='Cantidad de personas')\n",
    "plt.show"
   ]
  },
  {
   "cell_type": "markdown",
   "id": "discrete-vertex",
   "metadata": {
    "id": "discrete-vertex"
   },
   "source": [
    "Podemos observar que los puntos máximos indican que las personas esperan tanto una semana, como un mes para realizar su siguiente pedido, que es cuando probablemente la gente suele realizar las compras cotidianas, ya sea de manera semanal o mensual, también podemos observar que en los valores mínimos que se acercan a los días 25, 26, 29, que tal vez al ser final de mes, y en ocasiones al estar un poco limitados de efectivo y esperar el día de sueldo, se limiten a realizar compras en esos días."
   ]
  },
  {
   "cell_type": "markdown",
   "id": "tight-staff",
   "metadata": {
    "id": "tight-staff"
   },
   "source": [
    "# [B] Intermedio (deben completarse todos para aprobar)\n",
    "\n",
    "1. ¿Existe alguna diferencia entre las distribuciones `'order_hour_of_day'` de los miércoles y los sábados? Traza gráficos de barra de `'order_hour_of_day'` para ambos días en la misma figura y describe las diferencias que observes.\n",
    "2. Grafica la distribución para el número de órdenes que hacen los clientes (es decir, cuántos clientes hicieron solo 1 pedido, cuántos hicieron 2, cuántos 3, y así sucesivamente...).\n",
    "3. ¿Cuáles son los 20 principales productos que se piden con más frecuencia (muestra su identificación y nombre)?"
   ]
  },
  {
   "cell_type": "markdown",
   "id": "packed-classic",
   "metadata": {
    "id": "packed-classic"
   },
   "source": [
    "### [B1] Diferencia entre miércoles y sábados para  `'order_hour_of_day'`. Traza gráficos de barra para los dos días y describe las diferencias que veas."
   ]
  },
  {
   "cell_type": "code",
   "execution_count": 42,
   "id": "d89b8403",
   "metadata": {
    "id": "d89b8403"
   },
   "outputs": [
    {
     "name": "stdout",
     "output_type": "stream",
     "text": [
      "order_hour_of_day\n",
      "0      373\n",
      "1      215\n",
      "2      106\n",
      "3      101\n",
      "4      108\n",
      "5      170\n",
      "6      643\n",
      "7     1732\n",
      "8     3125\n",
      "9     4490\n",
      "10    5026\n",
      "11    5004\n",
      "12    4688\n",
      "13    4674\n",
      "14    4774\n",
      "15    5163\n",
      "16    4976\n",
      "17    4175\n",
      "18    3463\n",
      "19    2652\n",
      "20    1917\n",
      "21    1450\n",
      "22    1154\n",
      "23     718\n",
      "Name: order_number, dtype: int64\n"
     ]
    }
   ],
   "source": [
    "df_miercoles = df_instacart[df_instacart['order_dow'] == 3]\n",
    "conteo_miercoles = df_miercoles.groupby('order_hour_of_day')['order_number'].count()\n",
    "print(conteo_miercoles)"
   ]
  },
  {
   "cell_type": "code",
   "execution_count": 43,
   "id": "94e54e8a",
   "metadata": {
    "id": "94e54e8a"
   },
   "outputs": [
    {
     "name": "stdout",
     "output_type": "stream",
     "text": [
      "order_hour_of_day\n",
      "0      464\n",
      "1      254\n",
      "2      177\n",
      "3      125\n",
      "4      118\n",
      "5      161\n",
      "6      451\n",
      "7     1619\n",
      "8     3246\n",
      "9     4311\n",
      "10    4919\n",
      "11    5116\n",
      "12    5132\n",
      "13    5323\n",
      "14    5375\n",
      "15    5188\n",
      "16    5029\n",
      "17    4295\n",
      "18    3338\n",
      "19    2610\n",
      "20    1847\n",
      "21    1473\n",
      "22    1185\n",
      "23     893\n",
      "Name: order_number, dtype: int64\n"
     ]
    }
   ],
   "source": [
    "df_sabado = df_instacart[df_instacart['order_dow'] == 6]\n",
    "conteo_sabado = df_sabado.groupby('order_hour_of_day')['order_number'].count()\n",
    "print(conteo_sabado)"
   ]
  },
  {
   "cell_type": "code",
   "execution_count": 44,
   "id": "797c90a8",
   "metadata": {
    "id": "797c90a8"
   },
   "outputs": [
    {
     "name": "stdout",
     "output_type": "stream",
     "text": [
      "                   miercoles  sabado\n",
      "order_hour_of_day                   \n",
      "0                        373     464\n",
      "1                        215     254\n",
      "2                        106     177\n",
      "3                        101     125\n",
      "4                        108     118\n",
      "5                        170     161\n",
      "6                        643     451\n",
      "7                       1732    1619\n",
      "8                       3125    3246\n",
      "9                       4490    4311\n",
      "10                      5026    4919\n",
      "11                      5004    5116\n",
      "12                      4688    5132\n",
      "13                      4674    5323\n",
      "14                      4774    5375\n",
      "15                      5163    5188\n",
      "16                      4976    5029\n",
      "17                      4175    4295\n",
      "18                      3463    3338\n",
      "19                      2652    2610\n",
      "20                      1917    1847\n",
      "21                      1450    1473\n",
      "22                      1154    1185\n",
      "23                       718     893\n"
     ]
    }
   ],
   "source": [
    "df_distribucion = pd.concat([conteo_miercoles,conteo_sabado], axis=1)\n",
    "df_distribucion.columns = ['miercoles', 'sabado']\n",
    "print(df_distribucion)"
   ]
  },
  {
   "cell_type": "code",
   "execution_count": 45,
   "id": "35bcea30",
   "metadata": {
    "id": "35bcea30"
   },
   "outputs": [
    {
     "data": {
      "image/png": "[encoded data removed]",
      "text/plain": [
       "<Figure size 640x480 with 1 Axes>"
      ]
     },
     "metadata": {},
     "output_type": "display_data"
    }
   ],
   "source": [
    "df_distribucion.plot(kind='bar', title='Pedidos miércoles vs sábado', xlabel='horas', ylabel='cantidad de pedidos')\n",
    "plt.show()"
   ]
  },
  {
   "cell_type": "markdown",
   "id": "charitable-congo",
   "metadata": {
    "id": "charitable-congo"
   },
   "source": [
    "Podemos visualizar que el día miércoles las horas con mayor afluencia se encuentran entre las 10:00 am y 15:00 pm, que es cuando las personas en muchas ocasiones por sus trabajos piden comida rápida ya sea para desayunar o bien para la hora de la comida, esto difiere un poco en el día sábado, que las horas con mayor afluencia son entre la 1:00 y 2:00 pm que al ser fin de semana y la hora de la comida, suelen pedir comida rapida"
   ]
  },
  {
   "cell_type": "markdown",
   "id": "e3891143",
   "metadata": {
    "id": "e3891143"
   },
   "source": [
    "### [B2] ¿Cuál es la distribución para el número de pedidos por cliente?"
   ]
  },
  {
   "cell_type": "code",
   "execution_count": 46,
   "id": "d8c26c23",
   "metadata": {
    "id": "d8c26c23"
   },
   "outputs": [
    {
     "data": {
      "image/png": "[encoded data removed]",
      "text/plain": [
       "<Figure size 640x480 with 1 Axes>"
      ]
     },
     "metadata": {},
     "output_type": "display_data"
    }
   ],
   "source": [
    "df_proximo_pedido = df_instacart.groupby('user_id')['order_id'].count()\n",
    "df_proximo_pedido.plot(kind='hist', title='Número de pedidos por cliente') #xlabel='Pedidos', ylabel='Clientes'\n",
    "plt.show()"
   ]
  },
  {
   "cell_type": "markdown",
   "id": "d2eff7d5",
   "metadata": {
    "id": "d2eff7d5"
   },
   "source": [
    "Podemos observar que la mayoría de las personas realizan pocos pedidos, menos de 5 pedidos, esto, porque tal vez, aunado a análisis anteriores, las personas realizan pedidos cada cierto tiempo, es decir ya sea de manera semanal o mensual"
   ]
  },
  {
   "cell_type": "markdown",
   "id": "54a0319c",
   "metadata": {
    "id": "54a0319c"
   },
   "source": [
    "### [B3] ¿Cuáles son los 20 productos más populares (muestra su ID y nombre)?"
   ]
  },
  {
   "cell_type": "code",
   "execution_count": 47,
   "id": "exterior-arizona",
   "metadata": {
    "id": "exterior-arizona",
    "scrolled": true
   },
   "outputs": [
    {
     "data": {
      "text/html": [
       "<div>\n",
       "<style scoped>\n",
       "    .dataframe tbody tr th:only-of-type {\n",
       "        vertical-align: middle;\n",
       "    }\n",
       "\n",
       "    .dataframe tbody tr th {\n",
       "        vertical-align: top;\n",
       "    }\n",
       "\n",
       "    .dataframe thead th {\n",
       "        text-align: right;\n",
       "    }\n",
       "</style>\n",
       "<table border=\"1\" class=\"dataframe\">\n",
       "  <thead>\n",
       "    <tr style=\"text-align: right;\">\n",
       "      <th></th>\n",
       "      <th>order_id</th>\n",
       "      <th>product_id</th>\n",
       "      <th>add_to_cart_order</th>\n",
       "      <th>reordered</th>\n",
       "      <th>product_name</th>\n",
       "      <th>aisle_id</th>\n",
       "      <th>department_id</th>\n",
       "    </tr>\n",
       "  </thead>\n",
       "  <tbody>\n",
       "    <tr>\n",
       "      <th>0</th>\n",
       "      <td>2141543</td>\n",
       "      <td>11440</td>\n",
       "      <td>17</td>\n",
       "      <td>0</td>\n",
       "      <td>CHICKEN BREAST TENDERS BREADED</td>\n",
       "      <td>129</td>\n",
       "      <td>1</td>\n",
       "    </tr>\n",
       "    <tr>\n",
       "      <th>1</th>\n",
       "      <td>147172</td>\n",
       "      <td>11440</td>\n",
       "      <td>7</td>\n",
       "      <td>1</td>\n",
       "      <td>CHICKEN BREAST TENDERS BREADED</td>\n",
       "      <td>129</td>\n",
       "      <td>1</td>\n",
       "    </tr>\n",
       "    <tr>\n",
       "      <th>2</th>\n",
       "      <td>3341719</td>\n",
       "      <td>11440</td>\n",
       "      <td>4</td>\n",
       "      <td>1</td>\n",
       "      <td>CHICKEN BREAST TENDERS BREADED</td>\n",
       "      <td>129</td>\n",
       "      <td>1</td>\n",
       "    </tr>\n",
       "    <tr>\n",
       "      <th>3</th>\n",
       "      <td>1938779</td>\n",
       "      <td>11440</td>\n",
       "      <td>8</td>\n",
       "      <td>1</td>\n",
       "      <td>CHICKEN BREAST TENDERS BREADED</td>\n",
       "      <td>129</td>\n",
       "      <td>1</td>\n",
       "    </tr>\n",
       "    <tr>\n",
       "      <th>4</th>\n",
       "      <td>1728338</td>\n",
       "      <td>11440</td>\n",
       "      <td>23</td>\n",
       "      <td>0</td>\n",
       "      <td>CHICKEN BREAST TENDERS BREADED</td>\n",
       "      <td>129</td>\n",
       "      <td>1</td>\n",
       "    </tr>\n",
       "    <tr>\n",
       "      <th>...</th>\n",
       "      <td>...</td>\n",
       "      <td>...</td>\n",
       "      <td>...</td>\n",
       "      <td>...</td>\n",
       "      <td>...</td>\n",
       "      <td>...</td>\n",
       "      <td>...</td>\n",
       "    </tr>\n",
       "    <tr>\n",
       "      <th>4545002</th>\n",
       "      <td>267402</td>\n",
       "      <td>45226</td>\n",
       "      <td>14</td>\n",
       "      <td>0</td>\n",
       "      <td>SWEET TERIYAKI CHICKEN OVEN SAUCE</td>\n",
       "      <td>5</td>\n",
       "      <td>13</td>\n",
       "    </tr>\n",
       "    <tr>\n",
       "      <th>4545003</th>\n",
       "      <td>2621676</td>\n",
       "      <td>25201</td>\n",
       "      <td>10</td>\n",
       "      <td>0</td>\n",
       "      <td>CRISP WATERS CANDLE SCENTS</td>\n",
       "      <td>101</td>\n",
       "      <td>17</td>\n",
       "    </tr>\n",
       "    <tr>\n",
       "      <th>4545004</th>\n",
       "      <td>937623</td>\n",
       "      <td>49153</td>\n",
       "      <td>2</td>\n",
       "      <td>0</td>\n",
       "      <td>SHINE COLLECTION BRILLANCE SHAMPOO</td>\n",
       "      <td>22</td>\n",
       "      <td>11</td>\n",
       "    </tr>\n",
       "    <tr>\n",
       "      <th>4545005</th>\n",
       "      <td>532895</td>\n",
       "      <td>8182</td>\n",
       "      <td>1</td>\n",
       "      <td>0</td>\n",
       "      <td>TOTAL MINT STRIPE GEL TOOTHPASTE</td>\n",
       "      <td>20</td>\n",
       "      <td>11</td>\n",
       "    </tr>\n",
       "    <tr>\n",
       "      <th>4545006</th>\n",
       "      <td>3132243</td>\n",
       "      <td>40024</td>\n",
       "      <td>1</td>\n",
       "      <td>0</td>\n",
       "      <td>EGG REPLACER POWDER</td>\n",
       "      <td>17</td>\n",
       "      <td>13</td>\n",
       "    </tr>\n",
       "  </tbody>\n",
       "</table>\n",
       "<p>4545007 rows × 7 columns</p>\n",
       "</div>"
      ],
      "text/plain": [
       "         order_id  product_id  add_to_cart_order  reordered  \\\n",
       "0         2141543       11440                 17          0   \n",
       "1          147172       11440                  7          1   \n",
       "2         3341719       11440                  4          1   \n",
       "3         1938779       11440                  8          1   \n",
       "4         1728338       11440                 23          0   \n",
       "...           ...         ...                ...        ...   \n",
       "4545002    267402       45226                 14          0   \n",
       "4545003   2621676       25201                 10          0   \n",
       "4545004    937623       49153                  2          0   \n",
       "4545005    532895        8182                  1          0   \n",
       "4545006   3132243       40024                  1          0   \n",
       "\n",
       "                               product_name  aisle_id  department_id  \n",
       "0            CHICKEN BREAST TENDERS BREADED       129              1  \n",
       "1            CHICKEN BREAST TENDERS BREADED       129              1  \n",
       "2            CHICKEN BREAST TENDERS BREADED       129              1  \n",
       "3            CHICKEN BREAST TENDERS BREADED       129              1  \n",
       "4            CHICKEN BREAST TENDERS BREADED       129              1  \n",
       "...                                     ...       ...            ...  \n",
       "4545002   SWEET TERIYAKI CHICKEN OVEN SAUCE         5             13  \n",
       "4545003          CRISP WATERS CANDLE SCENTS       101             17  \n",
       "4545004  SHINE COLLECTION BRILLANCE SHAMPOO        22             11  \n",
       "4545005    TOTAL MINT STRIPE GEL TOOTHPASTE        20             11  \n",
       "4545006                 EGG REPLACER POWDER        17             13  \n",
       "\n",
       "[4545007 rows x 7 columns]"
      ]
     },
     "execution_count": 47,
     "metadata": {},
     "output_type": "execute_result"
    }
   ],
   "source": [
    "nombre_producto = df_ord_prod.merge(df_products, on='product_id')\n",
    "nombre_producto"
   ]
  },
  {
   "cell_type": "code",
   "execution_count": 48,
   "id": "universal-facial",
   "metadata": {
    "id": "universal-facial"
   },
   "outputs": [
    {
     "name": "stdout",
     "output_type": "stream",
     "text": [
      "    product_id              product_name  order_id\n",
      "0        24852                    BANANA     66050\n",
      "1        13176    BAG OF ORGANIC BANANAS     53297\n",
      "2        21137      ORGANIC STRAWBERRIES     37039\n",
      "3        21903      ORGANIC BABY SPINACH     33971\n",
      "4        47209      ORGANIC HASS AVOCADO     29773\n",
      "5        47766           ORGANIC AVOCADO     24689\n",
      "6        47626               LARGE LEMON     21495\n",
      "7        16797              STRAWBERRIES     20018\n",
      "8        26209                     LIMES     19690\n",
      "9        27845        ORGANIC WHOLE MILK     19600\n",
      "10       27966       ORGANIC RASPBERRIES     19197\n",
      "11       22935      ORGANIC YELLOW ONION     15898\n",
      "12       24964            ORGANIC GARLIC     15292\n",
      "13       45007          ORGANIC ZUCCHINI     14584\n",
      "14       39275       ORGANIC BLUEBERRIES     13879\n",
      "15       49683            CUCUMBER KIRBY     13675\n",
      "16       28204        ORGANIC FUJI APPLE     12544\n",
      "17        5876             ORGANIC LEMON     12232\n",
      "18        8277  APPLE HONEYCRISP ORGANIC     11993\n",
      "19       40706    ORGANIC GRAPE TOMATOES     11781\n"
     ]
    }
   ],
   "source": [
    "mas_populares = nombre_producto.groupby(['product_id', 'product_name'])['order_id'].count().sort_values(ascending=False).reset_index()\n",
    "print(mas_populares.head(20))"
   ]
  },
  {
   "cell_type": "markdown",
   "id": "7df00f47",
   "metadata": {
    "id": "7df00f47"
   },
   "source": [
    "Mediante este análisis podemos observar que los productos más solicitados se encuentran en el área de frutas y verduras, lo que nos muestra que las personas en los pedidos suelen también solicitar productos del super, para realizar sus comidas de la semana o bien del día, aunado a análisis anteriores, en donde nos da a conocer que las personas realizan sus pedidos ya sea de manera semanal o mensual, podemos pensar, que aprovechan para realizar el super con esta frecuencia, y solicitando mayormente los productos mencionados"
   ]
  },
  {
   "cell_type": "markdown",
   "id": "gross-theme",
   "metadata": {
    "id": "gross-theme"
   },
   "source": [
    "# [C] Difícil (deben completarse todos para aprobar)\n",
    "\n",
    "1. ¿Cuántos artículos suelen comprar las personas en un pedido? ¿Cómo es la distribución?\n",
    "2. ¿Cuáles son los 20 principales artículos que vuelven a pedirse con mayor frecuencia (muestra sus nombres e IDs de los productos)?\n",
    "3. Para cada producto, ¿cuál es la tasa de repetición del pedido (número de repeticiones de pedido/total de pedidos?\n",
    "4. Para cada cliente, ¿qué proporción de los productos que pidió ya los había pedido? Calcula la tasa de repetición de pedido para cada usuario en lugar de para cada producto.\n",
    "5. ¿Cuáles son los 20 principales artículos que la gente pone primero en sus carritos (muestra las IDs de los productos, sus nombres, y el número de veces en que fueron el primer artículo en añadirse al carrito)?"
   ]
  },
  {
   "cell_type": "markdown",
   "id": "romantic-deposit",
   "metadata": {
    "id": "romantic-deposit"
   },
   "source": [
    "### [C1] ¿Cuántos artículos compran normalmente las personas en un pedido? ¿Cómo es la distribución?"
   ]
  },
  {
   "cell_type": "code",
   "execution_count": 49,
   "id": "virtual-punch",
   "metadata": {
    "id": "virtual-punch"
   },
   "outputs": [
    {
     "data": {
      "text/html": [
       "<div>\n",
       "<style scoped>\n",
       "    .dataframe tbody tr th:only-of-type {\n",
       "        vertical-align: middle;\n",
       "    }\n",
       "\n",
       "    .dataframe tbody tr th {\n",
       "        vertical-align: top;\n",
       "    }\n",
       "\n",
       "    .dataframe thead th {\n",
       "        text-align: right;\n",
       "    }\n",
       "</style>\n",
       "<table border=\"1\" class=\"dataframe\">\n",
       "  <thead>\n",
       "    <tr style=\"text-align: right;\">\n",
       "      <th></th>\n",
       "      <th>order_id</th>\n",
       "      <th>product_id</th>\n",
       "    </tr>\n",
       "  </thead>\n",
       "  <tbody>\n",
       "    <tr>\n",
       "      <th>316026</th>\n",
       "      <td>2399965</td>\n",
       "      <td>10</td>\n",
       "    </tr>\n",
       "    <tr>\n",
       "      <th>133907</th>\n",
       "      <td>1019619</td>\n",
       "      <td>8</td>\n",
       "    </tr>\n",
       "    <tr>\n",
       "      <th>416051</th>\n",
       "      <td>3162926</td>\n",
       "      <td>20</td>\n",
       "    </tr>\n",
       "    <tr>\n",
       "      <th>354855</th>\n",
       "      <td>2695466</td>\n",
       "      <td>9</td>\n",
       "    </tr>\n",
       "    <tr>\n",
       "      <th>307413</th>\n",
       "      <td>2336098</td>\n",
       "      <td>7</td>\n",
       "    </tr>\n",
       "    <tr>\n",
       "      <th>102442</th>\n",
       "      <td>780272</td>\n",
       "      <td>8</td>\n",
       "    </tr>\n",
       "    <tr>\n",
       "      <th>204587</th>\n",
       "      <td>1555820</td>\n",
       "      <td>1</td>\n",
       "    </tr>\n",
       "    <tr>\n",
       "      <th>314712</th>\n",
       "      <td>2390154</td>\n",
       "      <td>1</td>\n",
       "    </tr>\n",
       "    <tr>\n",
       "      <th>159661</th>\n",
       "      <td>1216305</td>\n",
       "      <td>11</td>\n",
       "    </tr>\n",
       "    <tr>\n",
       "      <th>216385</th>\n",
       "      <td>1645489</td>\n",
       "      <td>16</td>\n",
       "    </tr>\n",
       "  </tbody>\n",
       "</table>\n",
       "</div>"
      ],
      "text/plain": [
       "        order_id  product_id\n",
       "316026   2399965          10\n",
       "133907   1019619           8\n",
       "416051   3162926          20\n",
       "354855   2695466           9\n",
       "307413   2336098           7\n",
       "102442    780272           8\n",
       "204587   1555820           1\n",
       "314712   2390154           1\n",
       "159661   1216305          11\n",
       "216385   1645489          16"
      ]
     },
     "execution_count": 49,
     "metadata": {},
     "output_type": "execute_result"
    }
   ],
   "source": [
    "producto_mas_pedido = df_ord_prod.groupby('order_id')['product_id'].count().reset_index()\n",
    "producto_mas_pedido.sample(10)"
   ]
  },
  {
   "cell_type": "code",
   "execution_count": 50,
   "id": "sensitive-breathing",
   "metadata": {
    "id": "sensitive-breathing"
   },
   "outputs": [
    {
     "data": {
      "text/html": [
       "<div>\n",
       "<style scoped>\n",
       "    .dataframe tbody tr th:only-of-type {\n",
       "        vertical-align: middle;\n",
       "    }\n",
       "\n",
       "    .dataframe tbody tr th {\n",
       "        vertical-align: top;\n",
       "    }\n",
       "\n",
       "    .dataframe thead th {\n",
       "        text-align: right;\n",
       "    }\n",
       "</style>\n",
       "<table border=\"1\" class=\"dataframe\">\n",
       "  <thead>\n",
       "    <tr style=\"text-align: right;\">\n",
       "      <th></th>\n",
       "      <th>order_id</th>\n",
       "      <th>product_id</th>\n",
       "    </tr>\n",
       "  </thead>\n",
       "  <tbody>\n",
       "    <tr>\n",
       "      <th>count</th>\n",
       "      <td>4.500460e+05</td>\n",
       "      <td>450046.000000</td>\n",
       "    </tr>\n",
       "    <tr>\n",
       "      <th>mean</th>\n",
       "      <td>1.710656e+06</td>\n",
       "      <td>10.098983</td>\n",
       "    </tr>\n",
       "    <tr>\n",
       "      <th>std</th>\n",
       "      <td>9.866356e+05</td>\n",
       "      <td>7.540206</td>\n",
       "    </tr>\n",
       "    <tr>\n",
       "      <th>min</th>\n",
       "      <td>4.000000e+00</td>\n",
       "      <td>1.000000</td>\n",
       "    </tr>\n",
       "    <tr>\n",
       "      <th>25%</th>\n",
       "      <td>8.576508e+05</td>\n",
       "      <td>5.000000</td>\n",
       "    </tr>\n",
       "    <tr>\n",
       "      <th>50%</th>\n",
       "      <td>1.710965e+06</td>\n",
       "      <td>8.000000</td>\n",
       "    </tr>\n",
       "    <tr>\n",
       "      <th>75%</th>\n",
       "      <td>2.563452e+06</td>\n",
       "      <td>14.000000</td>\n",
       "    </tr>\n",
       "    <tr>\n",
       "      <th>max</th>\n",
       "      <td>3.421079e+06</td>\n",
       "      <td>127.000000</td>\n",
       "    </tr>\n",
       "  </tbody>\n",
       "</table>\n",
       "</div>"
      ],
      "text/plain": [
       "           order_id     product_id\n",
       "count  4.500460e+05  450046.000000\n",
       "mean   1.710656e+06      10.098983\n",
       "std    9.866356e+05       7.540206\n",
       "min    4.000000e+00       1.000000\n",
       "25%    8.576508e+05       5.000000\n",
       "50%    1.710965e+06       8.000000\n",
       "75%    2.563452e+06      14.000000\n",
       "max    3.421079e+06     127.000000"
      ]
     },
     "execution_count": 50,
     "metadata": {},
     "output_type": "execute_result"
    }
   ],
   "source": [
    "producto_mas_pedido.describe()"
   ]
  },
  {
   "cell_type": "markdown",
   "id": "designed-mortality",
   "metadata": {
    "id": "designed-mortality"
   },
   "source": [
    "Podemos visualizar que la media de productos pedidos se encuentra entre 10 artículos, también observamos que la cantidad mínima de artículos en un pedido es de 1 artículo, y la cantidad máxima en un pedido es de 127 artículos"
   ]
  },
  {
   "cell_type": "markdown",
   "id": "5e6b5537",
   "metadata": {
    "id": "5e6b5537"
   },
   "source": [
    "### [C2] ¿Cuáles son los 20 principales artículos que vuelven a pedirse con mayor frecuencia (muestra sus nombres e IDs de los productos)?"
   ]
  },
  {
   "cell_type": "code",
   "execution_count": 52,
   "id": "9374e55a",
   "metadata": {
    "id": "9374e55a"
   },
   "outputs": [
    {
     "data": {
      "text/html": [
       "<div>\n",
       "<style scoped>\n",
       "    .dataframe tbody tr th:only-of-type {\n",
       "        vertical-align: middle;\n",
       "    }\n",
       "\n",
       "    .dataframe tbody tr th {\n",
       "        vertical-align: top;\n",
       "    }\n",
       "\n",
       "    .dataframe thead th {\n",
       "        text-align: right;\n",
       "    }\n",
       "</style>\n",
       "<table border=\"1\" class=\"dataframe\">\n",
       "  <thead>\n",
       "    <tr style=\"text-align: right;\">\n",
       "      <th></th>\n",
       "      <th>product_id</th>\n",
       "      <th>product_name</th>\n",
       "      <th>reordered</th>\n",
       "    </tr>\n",
       "  </thead>\n",
       "  <tbody>\n",
       "    <tr>\n",
       "      <th>22808</th>\n",
       "      <td>24852</td>\n",
       "      <td>BANANA</td>\n",
       "      <td>55763</td>\n",
       "    </tr>\n",
       "    <tr>\n",
       "      <th>12025</th>\n",
       "      <td>13176</td>\n",
       "      <td>BAG OF ORGANIC BANANAS</td>\n",
       "      <td>44450</td>\n",
       "    </tr>\n",
       "    <tr>\n",
       "      <th>19370</th>\n",
       "      <td>21137</td>\n",
       "      <td>ORGANIC STRAWBERRIES</td>\n",
       "      <td>28639</td>\n",
       "    </tr>\n",
       "    <tr>\n",
       "      <th>20077</th>\n",
       "      <td>21903</td>\n",
       "      <td>ORGANIC BABY SPINACH</td>\n",
       "      <td>26233</td>\n",
       "    </tr>\n",
       "    <tr>\n",
       "      <th>43271</th>\n",
       "      <td>47209</td>\n",
       "      <td>ORGANIC HASS AVOCADO</td>\n",
       "      <td>23629</td>\n",
       "    </tr>\n",
       "    <tr>\n",
       "      <th>43788</th>\n",
       "      <td>47766</td>\n",
       "      <td>ORGANIC AVOCADO</td>\n",
       "      <td>18743</td>\n",
       "    </tr>\n",
       "    <tr>\n",
       "      <th>25556</th>\n",
       "      <td>27845</td>\n",
       "      <td>ORGANIC WHOLE MILK</td>\n",
       "      <td>16251</td>\n",
       "    </tr>\n",
       "    <tr>\n",
       "      <th>43663</th>\n",
       "      <td>47626</td>\n",
       "      <td>LARGE LEMON</td>\n",
       "      <td>15044</td>\n",
       "    </tr>\n",
       "    <tr>\n",
       "      <th>25666</th>\n",
       "      <td>27966</td>\n",
       "      <td>ORGANIC RASPBERRIES</td>\n",
       "      <td>14748</td>\n",
       "    </tr>\n",
       "    <tr>\n",
       "      <th>15364</th>\n",
       "      <td>16797</td>\n",
       "      <td>STRAWBERRIES</td>\n",
       "      <td>13945</td>\n",
       "    </tr>\n",
       "    <tr>\n",
       "      <th>24047</th>\n",
       "      <td>26209</td>\n",
       "      <td>LIMES</td>\n",
       "      <td>13327</td>\n",
       "    </tr>\n",
       "    <tr>\n",
       "      <th>21025</th>\n",
       "      <td>22935</td>\n",
       "      <td>ORGANIC YELLOW ONION</td>\n",
       "      <td>11145</td>\n",
       "    </tr>\n",
       "    <tr>\n",
       "      <th>22908</th>\n",
       "      <td>24964</td>\n",
       "      <td>ORGANIC GARLIC</td>\n",
       "      <td>10411</td>\n",
       "    </tr>\n",
       "    <tr>\n",
       "      <th>41244</th>\n",
       "      <td>45007</td>\n",
       "      <td>ORGANIC ZUCCHINI</td>\n",
       "      <td>10076</td>\n",
       "    </tr>\n",
       "    <tr>\n",
       "      <th>45561</th>\n",
       "      <td>49683</td>\n",
       "      <td>CUCUMBER KIRBY</td>\n",
       "      <td>9538</td>\n",
       "    </tr>\n",
       "    <tr>\n",
       "      <th>25889</th>\n",
       "      <td>28204</td>\n",
       "      <td>ORGANIC FUJI APPLE</td>\n",
       "      <td>8989</td>\n",
       "    </tr>\n",
       "    <tr>\n",
       "      <th>7543</th>\n",
       "      <td>8277</td>\n",
       "      <td>APPLE HONEYCRISP ORGANIC</td>\n",
       "      <td>8836</td>\n",
       "    </tr>\n",
       "    <tr>\n",
       "      <th>35996</th>\n",
       "      <td>39275</td>\n",
       "      <td>ORGANIC BLUEBERRIES</td>\n",
       "      <td>8799</td>\n",
       "    </tr>\n",
       "    <tr>\n",
       "      <th>5375</th>\n",
       "      <td>5876</td>\n",
       "      <td>ORGANIC LEMON</td>\n",
       "      <td>8412</td>\n",
       "    </tr>\n",
       "    <tr>\n",
       "      <th>45155</th>\n",
       "      <td>49235</td>\n",
       "      <td>ORGANIC HALF &amp; HALF</td>\n",
       "      <td>8389</td>\n",
       "    </tr>\n",
       "  </tbody>\n",
       "</table>\n",
       "</div>"
      ],
      "text/plain": [
       "       product_id              product_name  reordered\n",
       "22808       24852                    BANANA      55763\n",
       "12025       13176    BAG OF ORGANIC BANANAS      44450\n",
       "19370       21137      ORGANIC STRAWBERRIES      28639\n",
       "20077       21903      ORGANIC BABY SPINACH      26233\n",
       "43271       47209      ORGANIC HASS AVOCADO      23629\n",
       "43788       47766           ORGANIC AVOCADO      18743\n",
       "25556       27845        ORGANIC WHOLE MILK      16251\n",
       "43663       47626               LARGE LEMON      15044\n",
       "25666       27966       ORGANIC RASPBERRIES      14748\n",
       "15364       16797              STRAWBERRIES      13945\n",
       "24047       26209                     LIMES      13327\n",
       "21025       22935      ORGANIC YELLOW ONION      11145\n",
       "22908       24964            ORGANIC GARLIC      10411\n",
       "41244       45007          ORGANIC ZUCCHINI      10076\n",
       "45561       49683            CUCUMBER KIRBY       9538\n",
       "25889       28204        ORGANIC FUJI APPLE       8989\n",
       "7543         8277  APPLE HONEYCRISP ORGANIC       8836\n",
       "35996       39275       ORGANIC BLUEBERRIES       8799\n",
       "5375         5876             ORGANIC LEMON       8412\n",
       "45155       49235       ORGANIC HALF & HALF       8389"
      ]
     },
     "execution_count": 52,
     "metadata": {},
     "output_type": "execute_result"
    }
   ],
   "source": [
    "frecuencia = nombre_producto.groupby(['product_id','product_name'])['reordered'].sum().reset_index()\n",
    "frecuencia_ordenada = frecuencia.sort_values('reordered', ascending=False)\n",
    "frecuencia_ordenada.head(20)"
   ]
  },
  {
   "cell_type": "markdown",
   "id": "80e70c74",
   "metadata": {
    "id": "80e70c74"
   },
   "source": [
    "Podemos observar que los productos que mayormente se re-compran se encuentran en el área de frutas y verduras la mayoría, siendo estos artículos de cuando las personas realizan el super, lo que aunado a anteriores análisis nos demuestra que las personas cuando realizan pedidos, ya sea de manera semanal o mensual, tienden a ser artículos de super"
   ]
  },
  {
   "cell_type": "markdown",
   "id": "9d312b14",
   "metadata": {
    "id": "9d312b14"
   },
   "source": [
    "### [C3] Para cada producto, ¿cuál es la proporción de las veces que se pide y que se vuelve a pedir?"
   ]
  },
  {
   "cell_type": "code",
   "execution_count": 53,
   "id": "8ae9f4b1",
   "metadata": {
    "id": "8ae9f4b1"
   },
   "outputs": [
    {
     "data": {
      "text/html": [
       "<div>\n",
       "<style scoped>\n",
       "    .dataframe tbody tr th:only-of-type {\n",
       "        vertical-align: middle;\n",
       "    }\n",
       "\n",
       "    .dataframe tbody tr th {\n",
       "        vertical-align: top;\n",
       "    }\n",
       "\n",
       "    .dataframe thead th {\n",
       "        text-align: right;\n",
       "    }\n",
       "</style>\n",
       "<table border=\"1\" class=\"dataframe\">\n",
       "  <thead>\n",
       "    <tr style=\"text-align: right;\">\n",
       "      <th></th>\n",
       "      <th>product_name</th>\n",
       "      <th>order_id</th>\n",
       "      <th>reordered</th>\n",
       "      <th>proporcion_pedido</th>\n",
       "      <th>recompra</th>\n",
       "    </tr>\n",
       "  </thead>\n",
       "  <tbody>\n",
       "    <tr>\n",
       "      <th>0</th>\n",
       "      <td>#2 COFFEE FILTERS</td>\n",
       "      <td>110</td>\n",
       "      <td>28</td>\n",
       "      <td>0.254545</td>\n",
       "      <td>0.745455</td>\n",
       "    </tr>\n",
       "    <tr>\n",
       "      <th>1</th>\n",
       "      <td>#2 CONE WHITE COFFEE FILTERS</td>\n",
       "      <td>2</td>\n",
       "      <td>0</td>\n",
       "      <td>0.000000</td>\n",
       "      <td>1.000000</td>\n",
       "    </tr>\n",
       "    <tr>\n",
       "      <th>2</th>\n",
       "      <td>#2 MECHANICAL PENCILS</td>\n",
       "      <td>3</td>\n",
       "      <td>0</td>\n",
       "      <td>0.000000</td>\n",
       "      <td>1.000000</td>\n",
       "    </tr>\n",
       "    <tr>\n",
       "      <th>3</th>\n",
       "      <td>#4 NATURAL BROWN COFFEE FILTERS</td>\n",
       "      <td>39</td>\n",
       "      <td>14</td>\n",
       "      <td>0.358974</td>\n",
       "      <td>0.641026</td>\n",
       "    </tr>\n",
       "    <tr>\n",
       "      <th>4</th>\n",
       "      <td>&amp; GO! HAZELNUT SPREAD + PRETZEL STICKS</td>\n",
       "      <td>15</td>\n",
       "      <td>7</td>\n",
       "      <td>0.466667</td>\n",
       "      <td>0.533333</td>\n",
       "    </tr>\n",
       "    <tr>\n",
       "      <th>...</th>\n",
       "      <td>...</td>\n",
       "      <td>...</td>\n",
       "      <td>...</td>\n",
       "      <td>...</td>\n",
       "      <td>...</td>\n",
       "    </tr>\n",
       "    <tr>\n",
       "      <th>44513</th>\n",
       "      <td>\\\"DARN GOOD\\\" CHILI MIX</td>\n",
       "      <td>5</td>\n",
       "      <td>2</td>\n",
       "      <td>0.400000</td>\n",
       "      <td>0.600000</td>\n",
       "    </tr>\n",
       "    <tr>\n",
       "      <th>44514</th>\n",
       "      <td>\\\"IM PEI-NUT BUTTER\\\" DOUBLE CHOCOLATE COOKIE ...</td>\n",
       "      <td>20</td>\n",
       "      <td>8</td>\n",
       "      <td>0.400000</td>\n",
       "      <td>0.600000</td>\n",
       "    </tr>\n",
       "    <tr>\n",
       "      <th>44515</th>\n",
       "      <td>\\\"LOUIS BA-KAHN\\\" CHOCOLATE CHIP COOKIE &amp; BROW...</td>\n",
       "      <td>2</td>\n",
       "      <td>0</td>\n",
       "      <td>0.000000</td>\n",
       "      <td>1.000000</td>\n",
       "    </tr>\n",
       "    <tr>\n",
       "      <th>44516</th>\n",
       "      <td>\\\"MIES VANILLA ROHE\\\" ICE CREAM BARS</td>\n",
       "      <td>8</td>\n",
       "      <td>4</td>\n",
       "      <td>0.500000</td>\n",
       "      <td>0.500000</td>\n",
       "    </tr>\n",
       "    <tr>\n",
       "      <th>44517</th>\n",
       "      <td>\\\"MOKACCINO\\\" MILK + BLUE BOTTLE COFFEE CHOCOLATE</td>\n",
       "      <td>52</td>\n",
       "      <td>37</td>\n",
       "      <td>0.711538</td>\n",
       "      <td>0.288462</td>\n",
       "    </tr>\n",
       "  </tbody>\n",
       "</table>\n",
       "<p>44518 rows × 5 columns</p>\n",
       "</div>"
      ],
      "text/plain": [
       "                                            product_name  order_id  reordered  \\\n",
       "0                                      #2 COFFEE FILTERS       110         28   \n",
       "1                           #2 CONE WHITE COFFEE FILTERS         2          0   \n",
       "2                                  #2 MECHANICAL PENCILS         3          0   \n",
       "3                        #4 NATURAL BROWN COFFEE FILTERS        39         14   \n",
       "4                 & GO! HAZELNUT SPREAD + PRETZEL STICKS        15          7   \n",
       "...                                                  ...       ...        ...   \n",
       "44513                            \\\"DARN GOOD\\\" CHILI MIX         5          2   \n",
       "44514  \\\"IM PEI-NUT BUTTER\\\" DOUBLE CHOCOLATE COOKIE ...        20          8   \n",
       "44515  \\\"LOUIS BA-KAHN\\\" CHOCOLATE CHIP COOKIE & BROW...         2          0   \n",
       "44516               \\\"MIES VANILLA ROHE\\\" ICE CREAM BARS         8          4   \n",
       "44517  \\\"MOKACCINO\\\" MILK + BLUE BOTTLE COFFEE CHOCOLATE        52         37   \n",
       "\n",
       "       proporcion_pedido  recompra  \n",
       "0               0.254545  0.745455  \n",
       "1               0.000000  1.000000  \n",
       "2               0.000000  1.000000  \n",
       "3               0.358974  0.641026  \n",
       "4               0.466667  0.533333  \n",
       "...                  ...       ...  \n",
       "44513           0.400000  0.600000  \n",
       "44514           0.400000  0.600000  \n",
       "44515           0.000000  1.000000  \n",
       "44516           0.500000  0.500000  \n",
       "44517           0.711538  0.288462  \n",
       "\n",
       "[44518 rows x 5 columns]"
      ]
     },
     "execution_count": 53,
     "metadata": {},
     "output_type": "execute_result"
    }
   ],
   "source": [
    "total_productos = nombre_producto.groupby('product_name')['order_id'].count().reset_index()\n",
    "total_productos_reorder = nombre_producto.groupby('product_name')['reordered'].sum().reset_index()\n",
    "proporcion_pedido = total_productos.merge(total_productos_reorder, on='product_name')\n",
    "proporcion_pedido['proporcion_pedido'] = proporcion_pedido['reordered']/proporcion_pedido['order_id']\n",
    "proporcion_pedido['recompra'] = 1-proporcion_pedido['proporcion_pedido']\n",
    "proporcion_pedido"
   ]
  },
  {
   "cell_type": "markdown",
   "id": "I10dEIAyldcO",
   "metadata": {
    "id": "I10dEIAyldcO"
   },
   "source": [
    "Mediante este análisis podemos visualizar cuantas veces se piden los artículos y de esos cuantas veces sufre una recompra, visualizando los datos, podemos ver cuáles artículos son los que se se piden con más frecuencia, y se vuelven a pedir, teniendo como pista los datos que nos arroja, podemos ver que los artículos que más se piden y sufren recompra, son producto tipo snack"
   ]
  },
  {
   "cell_type": "markdown",
   "id": "subject-boxing",
   "metadata": {
    "id": "subject-boxing"
   },
   "source": [
    "### [C4] Para cada cliente, ¿qué proporción de sus productos ya los había pedido?"
   ]
  },
  {
   "cell_type": "code",
   "execution_count": 54,
   "id": "medical-couple",
   "metadata": {
    "id": "medical-couple",
    "scrolled": true
   },
   "outputs": [
    {
     "data": {
      "text/html": [
       "<div>\n",
       "<style scoped>\n",
       "    .dataframe tbody tr th:only-of-type {\n",
       "        vertical-align: middle;\n",
       "    }\n",
       "\n",
       "    .dataframe tbody tr th {\n",
       "        vertical-align: top;\n",
       "    }\n",
       "\n",
       "    .dataframe thead th {\n",
       "        text-align: right;\n",
       "    }\n",
       "</style>\n",
       "<table border=\"1\" class=\"dataframe\">\n",
       "  <thead>\n",
       "    <tr style=\"text-align: right;\">\n",
       "      <th></th>\n",
       "      <th>user_id</th>\n",
       "      <th>product_id</th>\n",
       "      <th>reordered</th>\n",
       "    </tr>\n",
       "  </thead>\n",
       "  <tbody>\n",
       "    <tr>\n",
       "      <th>0</th>\n",
       "      <td>2</td>\n",
       "      <td>26</td>\n",
       "      <td>1</td>\n",
       "    </tr>\n",
       "    <tr>\n",
       "      <th>1</th>\n",
       "      <td>4</td>\n",
       "      <td>2</td>\n",
       "      <td>0</td>\n",
       "    </tr>\n",
       "    <tr>\n",
       "      <th>2</th>\n",
       "      <td>5</td>\n",
       "      <td>12</td>\n",
       "      <td>8</td>\n",
       "    </tr>\n",
       "    <tr>\n",
       "      <th>3</th>\n",
       "      <td>6</td>\n",
       "      <td>4</td>\n",
       "      <td>0</td>\n",
       "    </tr>\n",
       "    <tr>\n",
       "      <th>4</th>\n",
       "      <td>7</td>\n",
       "      <td>14</td>\n",
       "      <td>13</td>\n",
       "    </tr>\n",
       "    <tr>\n",
       "      <th>...</th>\n",
       "      <td>...</td>\n",
       "      <td>...</td>\n",
       "      <td>...</td>\n",
       "    </tr>\n",
       "    <tr>\n",
       "      <th>149621</th>\n",
       "      <td>206203</td>\n",
       "      <td>27</td>\n",
       "      <td>6</td>\n",
       "    </tr>\n",
       "    <tr>\n",
       "      <th>149622</th>\n",
       "      <td>206206</td>\n",
       "      <td>21</td>\n",
       "      <td>15</td>\n",
       "    </tr>\n",
       "    <tr>\n",
       "      <th>149623</th>\n",
       "      <td>206207</td>\n",
       "      <td>46</td>\n",
       "      <td>41</td>\n",
       "    </tr>\n",
       "    <tr>\n",
       "      <th>149624</th>\n",
       "      <td>206208</td>\n",
       "      <td>125</td>\n",
       "      <td>87</td>\n",
       "    </tr>\n",
       "    <tr>\n",
       "      <th>149625</th>\n",
       "      <td>206209</td>\n",
       "      <td>25</td>\n",
       "      <td>8</td>\n",
       "    </tr>\n",
       "  </tbody>\n",
       "</table>\n",
       "<p>149626 rows × 3 columns</p>\n",
       "</div>"
      ],
      "text/plain": [
       "        user_id  product_id  reordered\n",
       "0             2          26          1\n",
       "1             4           2          0\n",
       "2             5          12          8\n",
       "3             6           4          0\n",
       "4             7          14         13\n",
       "...         ...         ...        ...\n",
       "149621   206203          27          6\n",
       "149622   206206          21         15\n",
       "149623   206207          46         41\n",
       "149624   206208         125         87\n",
       "149625   206209          25          8\n",
       "\n",
       "[149626 rows x 3 columns]"
      ]
     },
     "execution_count": 54,
     "metadata": {},
     "output_type": "execute_result"
    }
   ],
   "source": [
    "recompra = df_instacart.merge(df_ord_prod, on='order_id')\n",
    "cliente_recompra = recompra.groupby('user_id')['product_id'].count().reset_index()\n",
    "total_recompra = recompra.groupby('user_id')['reordered'].sum()\n",
    "proporcion_pedidos = cliente_recompra.merge(total_recompra, on='user_id')\n",
    "proporcion_pedidos"
   ]
  },
  {
   "cell_type": "code",
   "execution_count": 55,
   "id": "8892e4b4",
   "metadata": {
    "id": "8892e4b4"
   },
   "outputs": [
    {
     "data": {
      "text/html": [
       "<div>\n",
       "<style scoped>\n",
       "    .dataframe tbody tr th:only-of-type {\n",
       "        vertical-align: middle;\n",
       "    }\n",
       "\n",
       "    .dataframe tbody tr th {\n",
       "        vertical-align: top;\n",
       "    }\n",
       "\n",
       "    .dataframe thead th {\n",
       "        text-align: right;\n",
       "    }\n",
       "</style>\n",
       "<table border=\"1\" class=\"dataframe\">\n",
       "  <thead>\n",
       "    <tr style=\"text-align: right;\">\n",
       "      <th></th>\n",
       "      <th>user_id</th>\n",
       "      <th>product_id</th>\n",
       "      <th>reordered</th>\n",
       "      <th>proporcion_pedidos</th>\n",
       "    </tr>\n",
       "  </thead>\n",
       "  <tbody>\n",
       "    <tr>\n",
       "      <th>0</th>\n",
       "      <td>2</td>\n",
       "      <td>26</td>\n",
       "      <td>1</td>\n",
       "      <td>0.038462</td>\n",
       "    </tr>\n",
       "    <tr>\n",
       "      <th>1</th>\n",
       "      <td>4</td>\n",
       "      <td>2</td>\n",
       "      <td>0</td>\n",
       "      <td>0.000000</td>\n",
       "    </tr>\n",
       "    <tr>\n",
       "      <th>2</th>\n",
       "      <td>5</td>\n",
       "      <td>12</td>\n",
       "      <td>8</td>\n",
       "      <td>0.666667</td>\n",
       "    </tr>\n",
       "    <tr>\n",
       "      <th>3</th>\n",
       "      <td>6</td>\n",
       "      <td>4</td>\n",
       "      <td>0</td>\n",
       "      <td>0.000000</td>\n",
       "    </tr>\n",
       "    <tr>\n",
       "      <th>4</th>\n",
       "      <td>7</td>\n",
       "      <td>14</td>\n",
       "      <td>13</td>\n",
       "      <td>0.928571</td>\n",
       "    </tr>\n",
       "    <tr>\n",
       "      <th>...</th>\n",
       "      <td>...</td>\n",
       "      <td>...</td>\n",
       "      <td>...</td>\n",
       "      <td>...</td>\n",
       "    </tr>\n",
       "    <tr>\n",
       "      <th>149621</th>\n",
       "      <td>206203</td>\n",
       "      <td>27</td>\n",
       "      <td>6</td>\n",
       "      <td>0.222222</td>\n",
       "    </tr>\n",
       "    <tr>\n",
       "      <th>149622</th>\n",
       "      <td>206206</td>\n",
       "      <td>21</td>\n",
       "      <td>15</td>\n",
       "      <td>0.714286</td>\n",
       "    </tr>\n",
       "    <tr>\n",
       "      <th>149623</th>\n",
       "      <td>206207</td>\n",
       "      <td>46</td>\n",
       "      <td>41</td>\n",
       "      <td>0.891304</td>\n",
       "    </tr>\n",
       "    <tr>\n",
       "      <th>149624</th>\n",
       "      <td>206208</td>\n",
       "      <td>125</td>\n",
       "      <td>87</td>\n",
       "      <td>0.696000</td>\n",
       "    </tr>\n",
       "    <tr>\n",
       "      <th>149625</th>\n",
       "      <td>206209</td>\n",
       "      <td>25</td>\n",
       "      <td>8</td>\n",
       "      <td>0.320000</td>\n",
       "    </tr>\n",
       "  </tbody>\n",
       "</table>\n",
       "<p>149626 rows × 4 columns</p>\n",
       "</div>"
      ],
      "text/plain": [
       "        user_id  product_id  reordered  proporcion_pedidos\n",
       "0             2          26          1            0.038462\n",
       "1             4           2          0            0.000000\n",
       "2             5          12          8            0.666667\n",
       "3             6           4          0            0.000000\n",
       "4             7          14         13            0.928571\n",
       "...         ...         ...        ...                 ...\n",
       "149621   206203          27          6            0.222222\n",
       "149622   206206          21         15            0.714286\n",
       "149623   206207          46         41            0.891304\n",
       "149624   206208         125         87            0.696000\n",
       "149625   206209          25          8            0.320000\n",
       "\n",
       "[149626 rows x 4 columns]"
      ]
     },
     "execution_count": 55,
     "metadata": {},
     "output_type": "execute_result"
    }
   ],
   "source": [
    "proporcion_pedidos['proporcion_pedidos'] = proporcion_pedidos['reordered']/proporcion_pedidos['product_id']\n",
    "proporcion_pedidos"
   ]
  },
  {
   "cell_type": "markdown",
   "id": "BgJSvXDsleXz",
   "metadata": {
    "id": "BgJSvXDsleXz"
   },
   "source": [
    "Observamos que en pedidos con varios productos la re-compra es más factible, a diferencia de pedidos con pocos productos no suele haber re-compra, o bien es bajo el porcentaje de la re-compra, entre más artículos tenga el pedido más alta es la probabilidad de realizar una recompra, esto puede ser, porque quizá el cliente es más adepto a realizar sus comprar mediante la plataforma."
   ]
  },
  {
   "cell_type": "markdown",
   "id": "92d35137",
   "metadata": {
    "id": "92d35137"
   },
   "source": [
    "### [C5] ¿Cuáles son los 20 principales artículos que las personas ponen primero en sus carritos?"
   ]
  },
  {
   "cell_type": "code",
   "execution_count": 56,
   "id": "0ae57274",
   "metadata": {
    "id": "0ae57274",
    "scrolled": true
   },
   "outputs": [
    {
     "data": {
      "text/html": [
       "<div>\n",
       "<style scoped>\n",
       "    .dataframe tbody tr th:only-of-type {\n",
       "        vertical-align: middle;\n",
       "    }\n",
       "\n",
       "    .dataframe tbody tr th {\n",
       "        vertical-align: top;\n",
       "    }\n",
       "\n",
       "    .dataframe thead th {\n",
       "        text-align: right;\n",
       "    }\n",
       "</style>\n",
       "<table border=\"1\" class=\"dataframe\">\n",
       "  <thead>\n",
       "    <tr style=\"text-align: right;\">\n",
       "      <th></th>\n",
       "      <th>product_id</th>\n",
       "      <th>order_id</th>\n",
       "      <th>product_name</th>\n",
       "    </tr>\n",
       "  </thead>\n",
       "  <tbody>\n",
       "    <tr>\n",
       "      <th>0</th>\n",
       "      <td>24852</td>\n",
       "      <td>15562</td>\n",
       "      <td>BANANA</td>\n",
       "    </tr>\n",
       "    <tr>\n",
       "      <th>1</th>\n",
       "      <td>13176</td>\n",
       "      <td>11026</td>\n",
       "      <td>BAG OF ORGANIC BANANAS</td>\n",
       "    </tr>\n",
       "    <tr>\n",
       "      <th>2</th>\n",
       "      <td>27845</td>\n",
       "      <td>4363</td>\n",
       "      <td>ORGANIC WHOLE MILK</td>\n",
       "    </tr>\n",
       "    <tr>\n",
       "      <th>3</th>\n",
       "      <td>21137</td>\n",
       "      <td>3946</td>\n",
       "      <td>ORGANIC STRAWBERRIES</td>\n",
       "    </tr>\n",
       "    <tr>\n",
       "      <th>4</th>\n",
       "      <td>47209</td>\n",
       "      <td>3390</td>\n",
       "      <td>ORGANIC HASS AVOCADO</td>\n",
       "    </tr>\n",
       "    <tr>\n",
       "      <th>5</th>\n",
       "      <td>21903</td>\n",
       "      <td>3336</td>\n",
       "      <td>ORGANIC BABY SPINACH</td>\n",
       "    </tr>\n",
       "    <tr>\n",
       "      <th>6</th>\n",
       "      <td>47766</td>\n",
       "      <td>3044</td>\n",
       "      <td>ORGANIC AVOCADO</td>\n",
       "    </tr>\n",
       "    <tr>\n",
       "      <th>7</th>\n",
       "      <td>19660</td>\n",
       "      <td>2336</td>\n",
       "      <td>SPRING WATER</td>\n",
       "    </tr>\n",
       "    <tr>\n",
       "      <th>8</th>\n",
       "      <td>16797</td>\n",
       "      <td>2308</td>\n",
       "      <td>STRAWBERRIES</td>\n",
       "    </tr>\n",
       "    <tr>\n",
       "      <th>9</th>\n",
       "      <td>27966</td>\n",
       "      <td>2024</td>\n",
       "      <td>ORGANIC RASPBERRIES</td>\n",
       "    </tr>\n",
       "    <tr>\n",
       "      <th>10</th>\n",
       "      <td>44632</td>\n",
       "      <td>1914</td>\n",
       "      <td>SPARKLING WATER GRAPEFRUIT</td>\n",
       "    </tr>\n",
       "    <tr>\n",
       "      <th>11</th>\n",
       "      <td>49235</td>\n",
       "      <td>1797</td>\n",
       "      <td>ORGANIC HALF &amp; HALF</td>\n",
       "    </tr>\n",
       "    <tr>\n",
       "      <th>12</th>\n",
       "      <td>47626</td>\n",
       "      <td>1737</td>\n",
       "      <td>LARGE LEMON</td>\n",
       "    </tr>\n",
       "    <tr>\n",
       "      <th>13</th>\n",
       "      <td>196</td>\n",
       "      <td>1733</td>\n",
       "      <td>SODA</td>\n",
       "    </tr>\n",
       "    <tr>\n",
       "      <th>14</th>\n",
       "      <td>38689</td>\n",
       "      <td>1397</td>\n",
       "      <td>ORGANIC REDUCED FAT MILK</td>\n",
       "    </tr>\n",
       "    <tr>\n",
       "      <th>15</th>\n",
       "      <td>26209</td>\n",
       "      <td>1370</td>\n",
       "      <td>LIMES</td>\n",
       "    </tr>\n",
       "    <tr>\n",
       "      <th>16</th>\n",
       "      <td>12341</td>\n",
       "      <td>1340</td>\n",
       "      <td>HASS AVOCADOS</td>\n",
       "    </tr>\n",
       "    <tr>\n",
       "      <th>17</th>\n",
       "      <td>5785</td>\n",
       "      <td>1310</td>\n",
       "      <td>ORGANIC REDUCED FAT 2% MILK</td>\n",
       "    </tr>\n",
       "    <tr>\n",
       "      <th>18</th>\n",
       "      <td>27086</td>\n",
       "      <td>1309</td>\n",
       "      <td>HALF &amp; HALF</td>\n",
       "    </tr>\n",
       "    <tr>\n",
       "      <th>19</th>\n",
       "      <td>43352</td>\n",
       "      <td>1246</td>\n",
       "      <td>RASPBERRIES</td>\n",
       "    </tr>\n",
       "  </tbody>\n",
       "</table>\n",
       "</div>"
      ],
      "text/plain": [
       "    product_id  order_id                 product_name\n",
       "0        24852     15562                       BANANA\n",
       "1        13176     11026       BAG OF ORGANIC BANANAS\n",
       "2        27845      4363           ORGANIC WHOLE MILK\n",
       "3        21137      3946         ORGANIC STRAWBERRIES\n",
       "4        47209      3390         ORGANIC HASS AVOCADO\n",
       "5        21903      3336         ORGANIC BABY SPINACH\n",
       "6        47766      3044              ORGANIC AVOCADO\n",
       "7        19660      2336                 SPRING WATER\n",
       "8        16797      2308                 STRAWBERRIES\n",
       "9        27966      2024          ORGANIC RASPBERRIES\n",
       "10       44632      1914   SPARKLING WATER GRAPEFRUIT\n",
       "11       49235      1797          ORGANIC HALF & HALF\n",
       "12       47626      1737                  LARGE LEMON\n",
       "13         196      1733                         SODA\n",
       "14       38689      1397     ORGANIC REDUCED FAT MILK\n",
       "15       26209      1370                        LIMES\n",
       "16       12341      1340                HASS AVOCADOS\n",
       "17        5785      1310  ORGANIC REDUCED FAT 2% MILK\n",
       "18       27086      1309                  HALF & HALF\n",
       "19       43352      1246                  RASPBERRIES"
      ]
     },
     "execution_count": 56,
     "metadata": {},
     "output_type": "execute_result"
    }
   ],
   "source": [
    "primer_pedido = df_ord_prod[df_ord_prod['add_to_cart_order'] == 1]\n",
    "df_primer_pedido = primer_pedido.groupby('product_id')['order_id'].count().reset_index().sort_values('order_id',ascending=False).head(20)\n",
    "top20 = df_primer_pedido.merge(df_products, on='product_id')\n",
    "top20 = top20.drop(['aisle_id','department_id'], axis='columns')\n",
    "top20"
   ]
  },
  {
   "cell_type": "markdown",
   "id": "28ce9872",
   "metadata": {
    "id": "28ce9872"
   },
   "source": [
    "Los artículos que las personas seleccionan primero en sus compras, suelen ser productos mayormente del área de frutas y verduras, y productos de tipo super, es decir, cuando las personas van a realizar el súper, así como también leche y refrescos, para productos principalmente para sus alimentos del día, más que alguna otra sección."
   ]
  },
  {
   "cell_type": "markdown",
   "id": "uITbFCEoDosC",
   "metadata": {
    "id": "uITbFCEoDosC"
   },
   "source": [
    "### Conclusion general del proyecto:"
   ]
  },
  {
   "cell_type": "markdown",
   "id": "25e072db",
   "metadata": {
    "id": "Nk-4GS7mDwqY"
   },
   "source": [
    "Realizar un análisis completo sin saltar pasos es de vital importancia, para llegar a los resultados deseados, es decir, cada paso del análisis es muy importante, tanto el análisis de las tablas, para conocer cómo está conformada cada una, y los valores de los registros y tipos de datos, la magnitud de la información, etc, trabajar en el pre procesamiento de datos, es sumamente indispensable para conseguir tablas sanas, limpias, sin valores duplicados, ni nulos, trabajar la manera en que está capturada la información es decir mayúsculas, minúsculas, tipos de formato adecuados es muy importante, para no sesgar, u obtener información errónea, posteriormente el análisis de datos nos podemos dar cuenta de el comportamiento de los datos mediante los diferentes análisis que se pueden realizar, llevándonos a realizar las estrategias adecuadas conforme a los objetivos que se tengan."
   ]
  }
 ],
 "metadata": {
  "ExecuteTimeLog": [
   {
    "duration": 219,
    "start_time": "2024-10-15T23:46:07.643Z"
   },
   {
    "duration": 2451,
    "start_time": "2024-10-15T23:46:35.161Z"
   },
   {
    "duration": 2875,
    "start_time": "2024-10-15T23:46:37.614Z"
   },
   {
    "duration": 3,
    "start_time": "2024-10-15T23:46:40.491Z"
   },
   {
    "duration": 3,
    "start_time": "2024-10-15T23:46:40.497Z"
   },
   {
    "duration": 4,
    "start_time": "2024-10-15T23:46:40.503Z"
   },
   {
    "duration": 2,
    "start_time": "2024-10-15T23:46:40.509Z"
   },
   {
    "duration": 18,
    "start_time": "2024-10-15T23:46:40.532Z"
   },
   {
    "duration": 2,
    "start_time": "2024-10-15T23:46:40.560Z"
   },
   {
    "duration": 3,
    "start_time": "2024-10-15T23:46:40.564Z"
   },
   {
    "duration": 2,
    "start_time": "2024-10-15T23:46:40.571Z"
   },
   {
    "duration": 2,
    "start_time": "2024-10-15T23:46:40.575Z"
   },
   {
    "duration": 2,
    "start_time": "2024-10-15T23:46:40.579Z"
   },
   {
    "duration": 3,
    "start_time": "2024-10-15T23:46:40.583Z"
   },
   {
    "duration": 3,
    "start_time": "2024-10-15T23:46:40.587Z"
   },
   {
    "duration": 3,
    "start_time": "2024-10-15T23:46:40.591Z"
   },
   {
    "duration": 2,
    "start_time": "2024-10-15T23:46:40.596Z"
   },
   {
    "duration": 2,
    "start_time": "2024-10-15T23:46:40.601Z"
   },
   {
    "duration": 45,
    "start_time": "2024-10-15T23:46:40.605Z"
   },
   {
    "duration": 2,
    "start_time": "2024-10-15T23:46:40.660Z"
   },
   {
    "duration": 3,
    "start_time": "2024-10-15T23:46:40.664Z"
   },
   {
    "duration": 3,
    "start_time": "2024-10-15T23:46:40.669Z"
   },
   {
    "duration": 2,
    "start_time": "2024-10-15T23:46:40.674Z"
   },
   {
    "duration": 3,
    "start_time": "2024-10-15T23:46:40.678Z"
   },
   {
    "duration": 2,
    "start_time": "2024-10-15T23:46:40.683Z"
   },
   {
    "duration": 3,
    "start_time": "2024-10-15T23:46:40.687Z"
   },
   {
    "duration": 3,
    "start_time": "2024-10-15T23:46:40.692Z"
   },
   {
    "duration": 3,
    "start_time": "2024-10-15T23:46:40.696Z"
   },
   {
    "duration": 3,
    "start_time": "2024-10-15T23:46:40.704Z"
   },
   {
    "duration": 46,
    "start_time": "2024-10-15T23:46:40.708Z"
   },
   {
    "duration": 2,
    "start_time": "2024-10-15T23:46:40.756Z"
   },
   {
    "duration": 2,
    "start_time": "2024-10-15T23:46:40.760Z"
   },
   {
    "duration": 2,
    "start_time": "2024-10-15T23:46:40.765Z"
   },
   {
    "duration": 3,
    "start_time": "2024-10-15T23:46:40.768Z"
   },
   {
    "duration": 3,
    "start_time": "2024-10-15T23:46:40.773Z"
   },
   {
    "duration": 3,
    "start_time": "2024-10-15T23:52:50.295Z"
   },
   {
    "duration": 2497,
    "start_time": "2024-10-15T23:52:54.166Z"
   },
   {
    "duration": 22,
    "start_time": "2024-10-15T23:53:15.952Z"
   },
   {
    "duration": 942,
    "start_time": "2024-10-15T23:55:56.346Z"
   },
   {
    "duration": 12,
    "start_time": "2024-10-15T23:56:00.610Z"
   },
   {
    "duration": 11,
    "start_time": "2024-10-15T23:56:21.722Z"
   },
   {
    "duration": 8,
    "start_time": "2024-10-15T23:56:34.136Z"
   },
   {
    "duration": 11,
    "start_time": "2024-10-15T23:57:02.360Z"
   },
   {
    "duration": 26,
    "start_time": "2024-10-15T23:57:40.351Z"
   },
   {
    "duration": 159,
    "start_time": "2024-10-16T22:45:15.170Z"
   },
   {
    "duration": 2119,
    "start_time": "2024-10-16T22:45:58.006Z"
   },
   {
    "duration": 1019,
    "start_time": "2024-10-16T22:46:00.127Z"
   },
   {
    "duration": 11,
    "start_time": "2024-10-16T22:46:01.148Z"
   },
   {
    "duration": 8,
    "start_time": "2024-10-16T22:46:01.161Z"
   },
   {
    "duration": 8,
    "start_time": "2024-10-16T22:46:01.173Z"
   },
   {
    "duration": 10,
    "start_time": "2024-10-16T22:46:01.187Z"
   },
   {
    "duration": 47,
    "start_time": "2024-10-16T22:46:01.198Z"
   },
   {
    "duration": 167,
    "start_time": "2024-10-16T22:46:01.247Z"
   },
   {
    "duration": 2,
    "start_time": "2024-10-16T22:46:01.424Z"
   },
   {
    "duration": 3,
    "start_time": "2024-10-16T22:46:01.428Z"
   },
   {
    "duration": 4,
    "start_time": "2024-10-16T22:46:01.432Z"
   },
   {
    "duration": 2,
    "start_time": "2024-10-16T22:46:01.437Z"
   },
   {
    "duration": 3,
    "start_time": "2024-10-16T22:46:01.441Z"
   },
   {
    "duration": 1,
    "start_time": "2024-10-16T22:46:01.448Z"
   },
   {
    "duration": 3,
    "start_time": "2024-10-16T22:46:01.451Z"
   },
   {
    "duration": 3,
    "start_time": "2024-10-16T22:46:01.455Z"
   },
   {
    "duration": 3,
    "start_time": "2024-10-16T22:46:01.460Z"
   },
   {
    "duration": 3,
    "start_time": "2024-10-16T22:46:01.464Z"
   },
   {
    "duration": 2,
    "start_time": "2024-10-16T22:46:01.469Z"
   },
   {
    "duration": 3,
    "start_time": "2024-10-16T22:46:01.473Z"
   },
   {
    "duration": 48,
    "start_time": "2024-10-16T22:46:01.477Z"
   },
   {
    "duration": 2,
    "start_time": "2024-10-16T22:46:01.527Z"
   },
   {
    "duration": 3,
    "start_time": "2024-10-16T22:46:01.531Z"
   },
   {
    "duration": 3,
    "start_time": "2024-10-16T22:46:01.535Z"
   },
   {
    "duration": 3,
    "start_time": "2024-10-16T22:46:01.540Z"
   },
   {
    "duration": 3,
    "start_time": "2024-10-16T22:46:01.544Z"
   },
   {
    "duration": 4,
    "start_time": "2024-10-16T22:46:01.548Z"
   },
   {
    "duration": 2,
    "start_time": "2024-10-16T22:46:01.555Z"
   },
   {
    "duration": 3,
    "start_time": "2024-10-16T22:46:01.558Z"
   },
   {
    "duration": 2,
    "start_time": "2024-10-16T22:46:01.563Z"
   },
   {
    "duration": 2,
    "start_time": "2024-10-16T22:46:01.568Z"
   },
   {
    "duration": 2,
    "start_time": "2024-10-16T22:46:01.572Z"
   },
   {
    "duration": 2,
    "start_time": "2024-10-16T22:46:01.576Z"
   },
   {
    "duration": 45,
    "start_time": "2024-10-16T22:46:01.580Z"
   },
   {
    "duration": 154,
    "start_time": "2024-10-16T22:50:43.476Z"
   },
   {
    "duration": 619,
    "start_time": "2024-10-16T22:55:30.972Z"
   },
   {
    "duration": 20,
    "start_time": "2024-10-16T22:56:13.453Z"
   },
   {
    "duration": 14,
    "start_time": "2024-10-16T22:56:32.704Z"
   },
   {
    "duration": 46,
    "start_time": "2024-10-16T22:56:45.686Z"
   },
   {
    "duration": 17,
    "start_time": "2024-10-16T22:56:56.520Z"
   },
   {
    "duration": 87,
    "start_time": "2024-10-16T22:57:12.405Z"
   },
   {
    "duration": 9,
    "start_time": "2024-10-16T22:58:14.631Z"
   },
   {
    "duration": 8,
    "start_time": "2024-10-16T23:08:04.583Z"
   },
   {
    "duration": 6,
    "start_time": "2024-10-16T23:08:36.974Z"
   },
   {
    "duration": 6,
    "start_time": "2024-10-16T23:08:50.205Z"
   },
   {
    "duration": 7,
    "start_time": "2024-10-16T23:09:16.060Z"
   },
   {
    "duration": 6,
    "start_time": "2024-10-16T23:09:34.578Z"
   },
   {
    "duration": 8,
    "start_time": "2024-10-16T23:10:26.888Z"
   },
   {
    "duration": 6,
    "start_time": "2024-10-16T23:11:14.639Z"
   },
   {
    "duration": 7,
    "start_time": "2024-10-16T23:12:55.295Z"
   },
   {
    "duration": 6,
    "start_time": "2024-10-16T23:13:07.135Z"
   },
   {
    "duration": 6,
    "start_time": "2024-10-16T23:13:18.456Z"
   },
   {
    "duration": 7,
    "start_time": "2024-10-16T23:15:00.689Z"
   },
   {
    "duration": 6,
    "start_time": "2024-10-16T23:15:12.679Z"
   },
   {
    "duration": 6,
    "start_time": "2024-10-16T23:16:23.040Z"
   },
   {
    "duration": 6,
    "start_time": "2024-10-16T23:16:35.963Z"
   },
   {
    "duration": 9,
    "start_time": "2024-10-16T23:16:58.974Z"
   },
   {
    "duration": 7,
    "start_time": "2024-10-16T23:17:30.106Z"
   },
   {
    "duration": 7,
    "start_time": "2024-10-16T23:17:41.991Z"
   },
   {
    "duration": 6,
    "start_time": "2024-10-16T23:18:00.925Z"
   },
   {
    "duration": 15,
    "start_time": "2024-10-16T23:18:30.156Z"
   },
   {
    "duration": 5,
    "start_time": "2024-10-16T23:18:45.632Z"
   },
   {
    "duration": 7,
    "start_time": "2024-10-16T23:19:09.802Z"
   },
   {
    "duration": 7,
    "start_time": "2024-10-16T23:19:39.820Z"
   },
   {
    "duration": 6,
    "start_time": "2024-10-16T23:22:52.906Z"
   },
   {
    "duration": 6,
    "start_time": "2024-10-16T23:24:27.698Z"
   },
   {
    "duration": 8,
    "start_time": "2024-10-16T23:24:49.743Z"
   },
   {
    "duration": 9,
    "start_time": "2024-10-16T23:25:38.026Z"
   },
   {
    "duration": 6,
    "start_time": "2024-10-16T23:26:16.197Z"
   },
   {
    "duration": 102,
    "start_time": "2024-10-16T23:29:19.705Z"
   },
   {
    "duration": 83,
    "start_time": "2024-10-16T23:35:26.955Z"
   },
   {
    "duration": 82,
    "start_time": "2024-10-16T23:35:44.455Z"
   },
   {
    "duration": 26,
    "start_time": "2024-10-16T23:37:15.365Z"
   },
   {
    "duration": 25,
    "start_time": "2024-10-16T23:37:23.786Z"
   },
   {
    "duration": 350,
    "start_time": "2024-10-16T23:47:38.840Z"
   },
   {
    "duration": 14,
    "start_time": "2024-10-16T23:50:18.792Z"
   },
   {
    "duration": 853,
    "start_time": "2024-10-16T23:50:31.252Z"
   },
   {
    "duration": 435,
    "start_time": "2024-10-16T23:50:37.957Z"
   },
   {
    "duration": 897,
    "start_time": "2024-10-16T23:50:38.394Z"
   },
   {
    "duration": 11,
    "start_time": "2024-10-16T23:50:39.293Z"
   },
   {
    "duration": 20,
    "start_time": "2024-10-16T23:50:39.307Z"
   },
   {
    "duration": 7,
    "start_time": "2024-10-16T23:50:39.329Z"
   },
   {
    "duration": 7,
    "start_time": "2024-10-16T23:50:39.338Z"
   },
   {
    "duration": 22,
    "start_time": "2024-10-16T23:50:39.346Z"
   },
   {
    "duration": 199,
    "start_time": "2024-10-16T23:50:39.370Z"
   },
   {
    "duration": 8,
    "start_time": "2024-10-16T23:50:39.571Z"
   },
   {
    "duration": 106,
    "start_time": "2024-10-16T23:50:39.582Z"
   },
   {
    "duration": 86,
    "start_time": "2024-10-16T23:50:39.691Z"
   },
   {
    "duration": 27,
    "start_time": "2024-10-16T23:50:39.779Z"
   },
   {
    "duration": 2,
    "start_time": "2024-10-16T23:50:39.808Z"
   },
   {
    "duration": 2,
    "start_time": "2024-10-16T23:50:39.824Z"
   },
   {
    "duration": 2,
    "start_time": "2024-10-16T23:50:39.828Z"
   },
   {
    "duration": 2,
    "start_time": "2024-10-16T23:50:39.832Z"
   },
   {
    "duration": 2,
    "start_time": "2024-10-16T23:50:39.836Z"
   },
   {
    "duration": 2,
    "start_time": "2024-10-16T23:50:39.840Z"
   },
   {
    "duration": 3,
    "start_time": "2024-10-16T23:50:39.843Z"
   },
   {
    "duration": 2,
    "start_time": "2024-10-16T23:50:39.847Z"
   },
   {
    "duration": 2,
    "start_time": "2024-10-16T23:50:39.851Z"
   },
   {
    "duration": 3,
    "start_time": "2024-10-16T23:50:39.854Z"
   },
   {
    "duration": 3,
    "start_time": "2024-10-16T23:50:39.858Z"
   },
   {
    "duration": 4,
    "start_time": "2024-10-16T23:50:39.862Z"
   },
   {
    "duration": 4,
    "start_time": "2024-10-16T23:50:39.867Z"
   },
   {
    "duration": 51,
    "start_time": "2024-10-16T23:50:39.873Z"
   },
   {
    "duration": 3,
    "start_time": "2024-10-16T23:50:39.926Z"
   },
   {
    "duration": 2,
    "start_time": "2024-10-16T23:50:39.933Z"
   },
   {
    "duration": 2,
    "start_time": "2024-10-16T23:50:39.937Z"
   },
   {
    "duration": 3,
    "start_time": "2024-10-16T23:50:39.941Z"
   },
   {
    "duration": 3,
    "start_time": "2024-10-16T23:50:39.945Z"
   },
   {
    "duration": 2,
    "start_time": "2024-10-16T23:50:39.950Z"
   },
   {
    "duration": 2,
    "start_time": "2024-10-16T23:50:39.954Z"
   },
   {
    "duration": 3,
    "start_time": "2024-10-16T23:50:39.958Z"
   },
   {
    "duration": 3,
    "start_time": "2024-10-16T23:51:26.189Z"
   },
   {
    "duration": 16,
    "start_time": "2024-10-16T23:51:59.823Z"
   },
   {
    "duration": 15,
    "start_time": "2024-10-16T23:52:11.872Z"
   },
   {
    "duration": 7,
    "start_time": "2024-10-16T23:53:12.603Z"
   },
   {
    "duration": 6,
    "start_time": "2024-10-16T23:53:25.221Z"
   },
   {
    "duration": 6,
    "start_time": "2024-10-16T23:53:48.220Z"
   },
   {
    "duration": 7,
    "start_time": "2024-10-16T23:54:57.863Z"
   },
   {
    "duration": 8,
    "start_time": "2024-10-16T23:55:11.295Z"
   },
   {
    "duration": 173,
    "start_time": "2024-10-16T23:55:55.709Z"
   },
   {
    "duration": 6,
    "start_time": "2024-10-16T23:56:08.532Z"
   },
   {
    "duration": 103,
    "start_time": "2024-10-16T23:59:28.041Z"
   },
   {
    "duration": 78,
    "start_time": "2024-10-16T23:59:37.536Z"
   },
   {
    "duration": 28,
    "start_time": "2024-10-16T23:59:47.658Z"
   },
   {
    "duration": 45,
    "start_time": "2024-10-17T00:00:26.921Z"
   },
   {
    "duration": 5,
    "start_time": "2024-10-17T00:00:46.642Z"
   },
   {
    "duration": 7,
    "start_time": "2024-10-17T00:00:59.038Z"
   },
   {
    "duration": 93,
    "start_time": "2024-10-17T00:01:07.188Z"
   },
   {
    "duration": 77,
    "start_time": "2024-10-17T00:01:14.841Z"
   },
   {
    "duration": 94,
    "start_time": "2024-10-17T00:11:41.267Z"
   },
   {
    "duration": 89,
    "start_time": "2024-10-17T00:11:48.082Z"
   },
   {
    "duration": 19,
    "start_time": "2024-10-17T00:16:04.914Z"
   },
   {
    "duration": 397,
    "start_time": "2024-10-17T00:26:56.889Z"
   },
   {
    "duration": 921,
    "start_time": "2024-10-17T00:26:57.288Z"
   },
   {
    "duration": 17,
    "start_time": "2024-10-17T00:26:58.211Z"
   },
   {
    "duration": 9,
    "start_time": "2024-10-17T00:26:58.230Z"
   },
   {
    "duration": 8,
    "start_time": "2024-10-17T00:26:58.241Z"
   },
   {
    "duration": 8,
    "start_time": "2024-10-17T00:26:58.251Z"
   },
   {
    "duration": 22,
    "start_time": "2024-10-17T00:26:58.261Z"
   },
   {
    "duration": 79,
    "start_time": "2024-10-17T00:26:58.284Z"
   },
   {
    "duration": 8,
    "start_time": "2024-10-17T00:26:58.365Z"
   },
   {
    "duration": 104,
    "start_time": "2024-10-17T00:26:58.375Z"
   },
   {
    "duration": 92,
    "start_time": "2024-10-17T00:26:58.481Z"
   },
   {
    "duration": 26,
    "start_time": "2024-10-17T00:26:58.575Z"
   },
   {
    "duration": 31,
    "start_time": "2024-10-17T00:26:58.602Z"
   },
   {
    "duration": 188,
    "start_time": "2024-10-17T00:26:58.637Z"
   },
   {
    "duration": 0,
    "start_time": "2024-10-17T00:26:58.826Z"
   },
   {
    "duration": 0,
    "start_time": "2024-10-17T00:26:58.827Z"
   },
   {
    "duration": 0,
    "start_time": "2024-10-17T00:26:58.829Z"
   },
   {
    "duration": 0,
    "start_time": "2024-10-17T00:26:58.830Z"
   },
   {
    "duration": 0,
    "start_time": "2024-10-17T00:26:58.831Z"
   },
   {
    "duration": 0,
    "start_time": "2024-10-17T00:26:58.832Z"
   },
   {
    "duration": 0,
    "start_time": "2024-10-17T00:26:58.833Z"
   },
   {
    "duration": 0,
    "start_time": "2024-10-17T00:26:58.834Z"
   },
   {
    "duration": 0,
    "start_time": "2024-10-17T00:26:58.835Z"
   },
   {
    "duration": 0,
    "start_time": "2024-10-17T00:26:58.836Z"
   },
   {
    "duration": 0,
    "start_time": "2024-10-17T00:26:58.837Z"
   },
   {
    "duration": 0,
    "start_time": "2024-10-17T00:26:58.838Z"
   },
   {
    "duration": 0,
    "start_time": "2024-10-17T00:26:58.840Z"
   },
   {
    "duration": 0,
    "start_time": "2024-10-17T00:26:58.841Z"
   },
   {
    "duration": 0,
    "start_time": "2024-10-17T00:26:58.842Z"
   },
   {
    "duration": 0,
    "start_time": "2024-10-17T00:26:58.843Z"
   },
   {
    "duration": 0,
    "start_time": "2024-10-17T00:26:58.844Z"
   },
   {
    "duration": 0,
    "start_time": "2024-10-17T00:26:58.845Z"
   },
   {
    "duration": 0,
    "start_time": "2024-10-17T00:26:58.846Z"
   },
   {
    "duration": 0,
    "start_time": "2024-10-17T00:26:58.847Z"
   },
   {
    "duration": 4,
    "start_time": "2024-10-17T00:28:30.462Z"
   },
   {
    "duration": 2078,
    "start_time": "2024-10-17T13:15:24.955Z"
   },
   {
    "duration": 1003,
    "start_time": "2024-10-17T13:15:27.035Z"
   },
   {
    "duration": 11,
    "start_time": "2024-10-17T13:15:28.040Z"
   },
   {
    "duration": 9,
    "start_time": "2024-10-17T13:15:28.052Z"
   },
   {
    "duration": 7,
    "start_time": "2024-10-17T13:15:28.064Z"
   },
   {
    "duration": 7,
    "start_time": "2024-10-17T13:15:28.073Z"
   },
   {
    "duration": 56,
    "start_time": "2024-10-17T13:15:28.081Z"
   },
   {
    "duration": 51,
    "start_time": "2024-10-17T13:15:28.139Z"
   },
   {
    "duration": 8,
    "start_time": "2024-10-17T13:15:28.192Z"
   },
   {
    "duration": 109,
    "start_time": "2024-10-17T13:15:28.201Z"
   },
   {
    "duration": 86,
    "start_time": "2024-10-17T13:15:28.312Z"
   },
   {
    "duration": 40,
    "start_time": "2024-10-17T13:15:28.400Z"
   },
   {
    "duration": 23,
    "start_time": "2024-10-17T13:15:28.441Z"
   },
   {
    "duration": 5,
    "start_time": "2024-10-17T13:15:28.468Z"
   },
   {
    "duration": 3,
    "start_time": "2024-10-17T13:15:28.475Z"
   },
   {
    "duration": 2,
    "start_time": "2024-10-17T13:15:28.480Z"
   },
   {
    "duration": 2,
    "start_time": "2024-10-17T13:15:28.484Z"
   },
   {
    "duration": 3,
    "start_time": "2024-10-17T13:15:28.488Z"
   },
   {
    "duration": 33,
    "start_time": "2024-10-17T13:15:28.492Z"
   },
   {
    "duration": 3,
    "start_time": "2024-10-17T13:15:28.527Z"
   },
   {
    "duration": 3,
    "start_time": "2024-10-17T13:15:28.531Z"
   },
   {
    "duration": 3,
    "start_time": "2024-10-17T13:15:28.535Z"
   },
   {
    "duration": 3,
    "start_time": "2024-10-17T13:15:28.539Z"
   },
   {
    "duration": 2,
    "start_time": "2024-10-17T13:15:28.544Z"
   },
   {
    "duration": 3,
    "start_time": "2024-10-17T13:15:28.548Z"
   },
   {
    "duration": 1,
    "start_time": "2024-10-17T13:15:28.554Z"
   },
   {
    "duration": 3,
    "start_time": "2024-10-17T13:15:28.557Z"
   },
   {
    "duration": 2,
    "start_time": "2024-10-17T13:15:28.562Z"
   },
   {
    "duration": 2,
    "start_time": "2024-10-17T13:15:28.566Z"
   },
   {
    "duration": 3,
    "start_time": "2024-10-17T13:15:28.570Z"
   },
   {
    "duration": 49,
    "start_time": "2024-10-17T13:15:28.575Z"
   },
   {
    "duration": 2,
    "start_time": "2024-10-17T13:15:28.626Z"
   },
   {
    "duration": 2,
    "start_time": "2024-10-17T13:15:28.630Z"
   },
   {
    "duration": 3,
    "start_time": "2024-10-17T13:15:28.634Z"
   },
   {
    "duration": 248,
    "start_time": "2024-10-17T13:15:57.427Z"
   },
   {
    "duration": 8,
    "start_time": "2024-10-17T13:18:45.953Z"
   },
   {
    "duration": 5,
    "start_time": "2024-10-17T13:19:26.239Z"
   },
   {
    "duration": 6,
    "start_time": "2024-10-17T13:19:36.667Z"
   },
   {
    "duration": 8,
    "start_time": "2024-10-17T13:20:05.784Z"
   },
   {
    "duration": 427,
    "start_time": "2024-10-17T13:21:12.116Z"
   },
   {
    "duration": 59,
    "start_time": "2024-10-17T13:21:28.759Z"
   },
   {
    "duration": 65,
    "start_time": "2024-10-17T13:22:06.758Z"
   },
   {
    "duration": 72,
    "start_time": "2024-10-17T13:22:30.571Z"
   },
   {
    "duration": 73,
    "start_time": "2024-10-17T13:22:38.338Z"
   },
   {
    "duration": 93,
    "start_time": "2024-10-17T13:23:09.575Z"
   },
   {
    "duration": 69,
    "start_time": "2024-10-17T13:23:26.885Z"
   },
   {
    "duration": 8,
    "start_time": "2024-10-17T13:23:39.844Z"
   },
   {
    "duration": 14,
    "start_time": "2024-10-17T13:23:48.396Z"
   },
   {
    "duration": 7,
    "start_time": "2024-10-17T13:23:54.024Z"
   },
   {
    "duration": 7,
    "start_time": "2024-10-17T13:24:03.388Z"
   },
   {
    "duration": 69,
    "start_time": "2024-10-17T13:24:58.053Z"
   },
   {
    "duration": 8,
    "start_time": "2024-10-17T13:26:53.920Z"
   },
   {
    "duration": 86,
    "start_time": "2024-10-17T13:29:03.524Z"
   },
   {
    "duration": 87,
    "start_time": "2024-10-17T13:29:11.101Z"
   },
   {
    "duration": 3,
    "start_time": "2024-10-17T13:30:10.826Z"
   },
   {
    "duration": 26,
    "start_time": "2024-10-17T13:30:15.908Z"
   },
   {
    "duration": 19,
    "start_time": "2024-10-17T13:30:33.996Z"
   },
   {
    "duration": 5,
    "start_time": "2024-10-17T13:41:28.221Z"
   },
   {
    "duration": 14,
    "start_time": "2024-10-17T13:41:41.913Z"
   },
   {
    "duration": 21,
    "start_time": "2024-10-17T13:41:48.190Z"
   },
   {
    "duration": 13,
    "start_time": "2024-10-17T13:42:22.331Z"
   },
   {
    "duration": 4,
    "start_time": "2024-10-17T13:43:06.207Z"
   },
   {
    "duration": 3,
    "start_time": "2024-10-17T13:43:10.590Z"
   },
   {
    "duration": 14,
    "start_time": "2024-10-17T13:43:55.472Z"
   },
   {
    "duration": 14,
    "start_time": "2024-10-17T13:44:21.272Z"
   },
   {
    "duration": 9,
    "start_time": "2024-10-17T13:47:42.246Z"
   },
   {
    "duration": 5,
    "start_time": "2024-10-17T13:47:55.554Z"
   },
   {
    "duration": 8,
    "start_time": "2024-10-17T13:48:01.080Z"
   },
   {
    "duration": 7,
    "start_time": "2024-10-17T13:53:24.315Z"
   },
   {
    "duration": 8,
    "start_time": "2024-10-17T13:53:43.672Z"
   },
   {
    "duration": 15,
    "start_time": "2024-10-17T13:54:26.110Z"
   },
   {
    "duration": 16,
    "start_time": "2024-10-17T13:54:59.937Z"
   },
   {
    "duration": 12,
    "start_time": "2024-10-17T13:57:15.600Z"
   },
   {
    "duration": 13,
    "start_time": "2024-10-17T13:58:15.441Z"
   },
   {
    "duration": 13,
    "start_time": "2024-10-17T13:59:29.768Z"
   },
   {
    "duration": 39,
    "start_time": "2024-10-17T14:01:57.329Z"
   },
   {
    "duration": 42,
    "start_time": "2024-10-17T14:02:32.730Z"
   },
   {
    "duration": 11,
    "start_time": "2024-10-17T14:02:55.929Z"
   },
   {
    "duration": 13,
    "start_time": "2024-10-17T14:03:23.130Z"
   },
   {
    "duration": 14,
    "start_time": "2024-10-17T14:03:46.636Z"
   },
   {
    "duration": 13,
    "start_time": "2024-10-17T14:03:53.929Z"
   },
   {
    "duration": 13,
    "start_time": "2024-10-17T14:21:02.286Z"
   },
   {
    "duration": 13,
    "start_time": "2024-10-17T14:25:38.623Z"
   },
   {
    "duration": 12,
    "start_time": "2024-10-17T14:26:41.239Z"
   },
   {
    "duration": 18,
    "start_time": "2024-10-17T14:28:10.048Z"
   },
   {
    "duration": 15,
    "start_time": "2024-10-17T14:29:52.476Z"
   },
   {
    "duration": 44,
    "start_time": "2024-10-17T14:30:14.884Z"
   },
   {
    "duration": 12,
    "start_time": "2024-10-17T14:31:00.319Z"
   },
   {
    "duration": 10,
    "start_time": "2024-10-17T14:32:32.783Z"
   },
   {
    "duration": 4,
    "start_time": "2024-10-17T14:33:40.878Z"
   },
   {
    "duration": 14,
    "start_time": "2024-10-17T14:33:51.820Z"
   },
   {
    "duration": 4,
    "start_time": "2024-10-17T14:34:00.034Z"
   },
   {
    "duration": 5,
    "start_time": "2024-10-17T14:34:10.122Z"
   },
   {
    "duration": 12,
    "start_time": "2024-10-17T14:34:25.578Z"
   },
   {
    "duration": 12,
    "start_time": "2024-10-17T14:34:41.488Z"
   },
   {
    "duration": 12,
    "start_time": "2024-10-17T14:35:44.512Z"
   },
   {
    "duration": 117,
    "start_time": "2024-10-17T14:40:54.195Z"
   },
   {
    "duration": 3,
    "start_time": "2024-10-17T14:41:13.435Z"
   },
   {
    "duration": 12,
    "start_time": "2024-10-17T14:41:20.946Z"
   },
   {
    "duration": 400,
    "start_time": "2024-10-17T14:41:39.383Z"
   },
   {
    "duration": 901,
    "start_time": "2024-10-17T14:41:39.785Z"
   },
   {
    "duration": 12,
    "start_time": "2024-10-17T14:41:40.688Z"
   },
   {
    "duration": 24,
    "start_time": "2024-10-17T14:41:40.701Z"
   },
   {
    "duration": 6,
    "start_time": "2024-10-17T14:41:40.728Z"
   },
   {
    "duration": 8,
    "start_time": "2024-10-17T14:41:40.736Z"
   },
   {
    "duration": 23,
    "start_time": "2024-10-17T14:41:40.746Z"
   },
   {
    "duration": 90,
    "start_time": "2024-10-17T14:41:40.771Z"
   },
   {
    "duration": 8,
    "start_time": "2024-10-17T14:41:40.863Z"
   },
   {
    "duration": 105,
    "start_time": "2024-10-17T14:41:40.872Z"
   },
   {
    "duration": 87,
    "start_time": "2024-10-17T14:41:40.978Z"
   },
   {
    "duration": 28,
    "start_time": "2024-10-17T14:41:41.067Z"
   },
   {
    "duration": 31,
    "start_time": "2024-10-17T14:41:41.097Z"
   },
   {
    "duration": 6,
    "start_time": "2024-10-17T14:41:41.132Z"
   },
   {
    "duration": 4,
    "start_time": "2024-10-17T14:41:41.139Z"
   },
   {
    "duration": 2,
    "start_time": "2024-10-17T14:41:41.146Z"
   },
   {
    "duration": 3,
    "start_time": "2024-10-17T14:41:41.150Z"
   },
   {
    "duration": 3,
    "start_time": "2024-10-17T14:41:41.154Z"
   },
   {
    "duration": 3,
    "start_time": "2024-10-17T14:41:41.159Z"
   },
   {
    "duration": 3,
    "start_time": "2024-10-17T14:41:41.163Z"
   },
   {
    "duration": 3,
    "start_time": "2024-10-17T14:41:41.168Z"
   },
   {
    "duration": 6,
    "start_time": "2024-10-17T14:41:41.174Z"
   },
   {
    "duration": 6,
    "start_time": "2024-10-17T14:41:41.182Z"
   },
   {
    "duration": 3,
    "start_time": "2024-10-17T14:41:41.224Z"
   },
   {
    "duration": 4,
    "start_time": "2024-10-17T14:41:41.228Z"
   },
   {
    "duration": 3,
    "start_time": "2024-10-17T14:41:41.233Z"
   },
   {
    "duration": 3,
    "start_time": "2024-10-17T14:41:41.237Z"
   },
   {
    "duration": 2,
    "start_time": "2024-10-17T14:41:41.242Z"
   },
   {
    "duration": 2,
    "start_time": "2024-10-17T14:41:41.246Z"
   },
   {
    "duration": 3,
    "start_time": "2024-10-17T14:41:41.249Z"
   },
   {
    "duration": 3,
    "start_time": "2024-10-17T14:41:41.254Z"
   },
   {
    "duration": 3,
    "start_time": "2024-10-17T14:41:41.258Z"
   },
   {
    "duration": 2,
    "start_time": "2024-10-17T14:41:41.262Z"
   },
   {
    "duration": 3,
    "start_time": "2024-10-17T14:41:41.266Z"
   },
   {
    "duration": 181,
    "start_time": "2024-10-17T14:42:10.881Z"
   },
   {
    "duration": 12,
    "start_time": "2024-10-17T14:42:20.759Z"
   },
   {
    "duration": 13,
    "start_time": "2024-10-17T14:42:34.047Z"
   },
   {
    "duration": 392,
    "start_time": "2024-10-17T14:42:45.093Z"
   },
   {
    "duration": 904,
    "start_time": "2024-10-17T14:42:45.487Z"
   },
   {
    "duration": 11,
    "start_time": "2024-10-17T14:42:46.392Z"
   },
   {
    "duration": 22,
    "start_time": "2024-10-17T14:42:46.405Z"
   },
   {
    "duration": 8,
    "start_time": "2024-10-17T14:42:46.429Z"
   },
   {
    "duration": 9,
    "start_time": "2024-10-17T14:42:46.438Z"
   },
   {
    "duration": 22,
    "start_time": "2024-10-17T14:42:46.449Z"
   },
   {
    "duration": 91,
    "start_time": "2024-10-17T14:42:46.473Z"
   },
   {
    "duration": 7,
    "start_time": "2024-10-17T14:42:46.566Z"
   },
   {
    "duration": 102,
    "start_time": "2024-10-17T14:42:46.575Z"
   },
   {
    "duration": 91,
    "start_time": "2024-10-17T14:42:46.678Z"
   },
   {
    "duration": 30,
    "start_time": "2024-10-17T14:42:46.771Z"
   },
   {
    "duration": 31,
    "start_time": "2024-10-17T14:42:46.803Z"
   },
   {
    "duration": 6,
    "start_time": "2024-10-17T14:42:46.838Z"
   },
   {
    "duration": 194,
    "start_time": "2024-10-17T14:42:46.846Z"
   },
   {
    "duration": 0,
    "start_time": "2024-10-17T14:42:47.042Z"
   },
   {
    "duration": 0,
    "start_time": "2024-10-17T14:42:47.043Z"
   },
   {
    "duration": 0,
    "start_time": "2024-10-17T14:42:47.044Z"
   },
   {
    "duration": 0,
    "start_time": "2024-10-17T14:42:47.046Z"
   },
   {
    "duration": 0,
    "start_time": "2024-10-17T14:42:47.048Z"
   },
   {
    "duration": 0,
    "start_time": "2024-10-17T14:42:47.049Z"
   },
   {
    "duration": 0,
    "start_time": "2024-10-17T14:42:47.050Z"
   },
   {
    "duration": 0,
    "start_time": "2024-10-17T14:42:47.051Z"
   },
   {
    "duration": 0,
    "start_time": "2024-10-17T14:42:47.052Z"
   },
   {
    "duration": 0,
    "start_time": "2024-10-17T14:42:47.053Z"
   },
   {
    "duration": 0,
    "start_time": "2024-10-17T14:42:47.054Z"
   },
   {
    "duration": 0,
    "start_time": "2024-10-17T14:42:47.056Z"
   },
   {
    "duration": 0,
    "start_time": "2024-10-17T14:42:47.057Z"
   },
   {
    "duration": 0,
    "start_time": "2024-10-17T14:42:47.057Z"
   },
   {
    "duration": 0,
    "start_time": "2024-10-17T14:42:47.059Z"
   },
   {
    "duration": 0,
    "start_time": "2024-10-17T14:42:47.060Z"
   },
   {
    "duration": 0,
    "start_time": "2024-10-17T14:42:47.061Z"
   },
   {
    "duration": 0,
    "start_time": "2024-10-17T14:42:47.062Z"
   },
   {
    "duration": 0,
    "start_time": "2024-10-17T14:42:47.063Z"
   },
   {
    "duration": 2,
    "start_time": "2024-10-17T14:43:42.766Z"
   },
   {
    "duration": 3,
    "start_time": "2024-10-17T14:43:53.400Z"
   },
   {
    "duration": 3,
    "start_time": "2024-10-17T14:44:19.372Z"
   },
   {
    "duration": 19,
    "start_time": "2024-10-17T14:45:05.414Z"
   },
   {
    "duration": 3,
    "start_time": "2024-10-17T14:45:23.824Z"
   },
   {
    "duration": 13,
    "start_time": "2024-10-17T14:45:38.002Z"
   },
   {
    "duration": 13,
    "start_time": "2024-10-17T14:46:08.916Z"
   },
   {
    "duration": 2,
    "start_time": "2024-10-17T14:51:27.069Z"
   },
   {
    "duration": 12,
    "start_time": "2024-10-17T14:51:49.153Z"
   },
   {
    "duration": 2,
    "start_time": "2024-10-17T14:51:59.745Z"
   },
   {
    "duration": 13,
    "start_time": "2024-10-17T14:52:14.448Z"
   },
   {
    "duration": 12,
    "start_time": "2024-10-17T14:52:33.320Z"
   },
   {
    "duration": 408,
    "start_time": "2024-10-17T14:52:50.712Z"
   },
   {
    "duration": 911,
    "start_time": "2024-10-17T14:52:51.123Z"
   },
   {
    "duration": 12,
    "start_time": "2024-10-17T14:52:52.035Z"
   },
   {
    "duration": 9,
    "start_time": "2024-10-17T14:52:52.049Z"
   },
   {
    "duration": 7,
    "start_time": "2024-10-17T14:52:52.060Z"
   },
   {
    "duration": 6,
    "start_time": "2024-10-17T14:52:52.070Z"
   },
   {
    "duration": 51,
    "start_time": "2024-10-17T14:52:52.078Z"
   },
   {
    "duration": 66,
    "start_time": "2024-10-17T14:52:52.131Z"
   },
   {
    "duration": 7,
    "start_time": "2024-10-17T14:52:52.199Z"
   },
   {
    "duration": 92,
    "start_time": "2024-10-17T14:52:52.225Z"
   },
   {
    "duration": 83,
    "start_time": "2024-10-17T14:52:52.324Z"
   },
   {
    "duration": 38,
    "start_time": "2024-10-17T14:52:52.409Z"
   },
   {
    "duration": 19,
    "start_time": "2024-10-17T14:52:52.449Z"
   },
   {
    "duration": 6,
    "start_time": "2024-10-17T14:52:52.469Z"
   },
   {
    "duration": 9,
    "start_time": "2024-10-17T14:52:52.477Z"
   },
   {
    "duration": 3,
    "start_time": "2024-10-17T14:52:52.487Z"
   },
   {
    "duration": 2,
    "start_time": "2024-10-17T14:52:52.492Z"
   },
   {
    "duration": 2,
    "start_time": "2024-10-17T14:52:52.525Z"
   },
   {
    "duration": 3,
    "start_time": "2024-10-17T14:52:52.528Z"
   },
   {
    "duration": 3,
    "start_time": "2024-10-17T14:52:52.533Z"
   },
   {
    "duration": 3,
    "start_time": "2024-10-17T14:52:52.537Z"
   },
   {
    "duration": 3,
    "start_time": "2024-10-17T14:52:52.541Z"
   },
   {
    "duration": 3,
    "start_time": "2024-10-17T14:52:52.545Z"
   },
   {
    "duration": 2,
    "start_time": "2024-10-17T14:52:52.550Z"
   },
   {
    "duration": 4,
    "start_time": "2024-10-17T14:52:52.553Z"
   },
   {
    "duration": 3,
    "start_time": "2024-10-17T14:52:52.558Z"
   },
   {
    "duration": 3,
    "start_time": "2024-10-17T14:52:52.563Z"
   },
   {
    "duration": 2,
    "start_time": "2024-10-17T14:52:52.570Z"
   },
   {
    "duration": 50,
    "start_time": "2024-10-17T14:52:52.574Z"
   },
   {
    "duration": 2,
    "start_time": "2024-10-17T14:52:52.626Z"
   },
   {
    "duration": 2,
    "start_time": "2024-10-17T14:52:52.630Z"
   },
   {
    "duration": 2,
    "start_time": "2024-10-17T14:52:52.634Z"
   },
   {
    "duration": 3,
    "start_time": "2024-10-17T14:52:52.638Z"
   },
   {
    "duration": 3,
    "start_time": "2024-10-17T14:52:52.642Z"
   },
   {
    "duration": 4,
    "start_time": "2024-10-17T14:53:24.582Z"
   },
   {
    "duration": 92,
    "start_time": "2024-10-17T14:56:01.665Z"
   },
   {
    "duration": 17,
    "start_time": "2024-10-17T14:56:09.014Z"
   },
   {
    "duration": 14,
    "start_time": "2024-10-17T14:56:21.123Z"
   },
   {
    "duration": 15,
    "start_time": "2024-10-17T14:57:55.700Z"
   },
   {
    "duration": 24,
    "start_time": "2024-10-17T14:58:50.900Z"
   },
   {
    "duration": 24,
    "start_time": "2024-10-17T15:00:19.410Z"
   },
   {
    "duration": 9,
    "start_time": "2024-10-17T15:02:00.940Z"
   },
   {
    "duration": 6,
    "start_time": "2024-10-17T15:02:08.799Z"
   },
   {
    "duration": 233,
    "start_time": "2024-10-17T15:02:32.906Z"
   },
   {
    "duration": 28,
    "start_time": "2024-10-17T15:02:55.821Z"
   },
   {
    "duration": 26,
    "start_time": "2024-10-17T15:03:11.937Z"
   },
   {
    "duration": 400,
    "start_time": "2024-10-17T15:03:18.109Z"
   },
   {
    "duration": 900,
    "start_time": "2024-10-17T15:03:18.511Z"
   },
   {
    "duration": 16,
    "start_time": "2024-10-17T15:03:19.415Z"
   },
   {
    "duration": 10,
    "start_time": "2024-10-17T15:03:19.434Z"
   },
   {
    "duration": 9,
    "start_time": "2024-10-17T15:03:19.446Z"
   },
   {
    "duration": 7,
    "start_time": "2024-10-17T15:03:19.457Z"
   },
   {
    "duration": 22,
    "start_time": "2024-10-17T15:03:19.466Z"
   },
   {
    "duration": 95,
    "start_time": "2024-10-17T15:03:19.490Z"
   },
   {
    "duration": 8,
    "start_time": "2024-10-17T15:03:19.586Z"
   },
   {
    "duration": 101,
    "start_time": "2024-10-17T15:03:19.597Z"
   },
   {
    "duration": 92,
    "start_time": "2024-10-17T15:03:19.700Z"
   },
   {
    "duration": 37,
    "start_time": "2024-10-17T15:03:19.793Z"
   },
   {
    "duration": 22,
    "start_time": "2024-10-17T15:03:19.832Z"
   },
   {
    "duration": 7,
    "start_time": "2024-10-17T15:03:19.856Z"
   },
   {
    "duration": 334,
    "start_time": "2024-10-17T15:03:19.865Z"
   },
   {
    "duration": 0,
    "start_time": "2024-10-17T15:03:20.201Z"
   },
   {
    "duration": 0,
    "start_time": "2024-10-17T15:03:20.202Z"
   },
   {
    "duration": 0,
    "start_time": "2024-10-17T15:03:20.203Z"
   },
   {
    "duration": 0,
    "start_time": "2024-10-17T15:03:20.204Z"
   },
   {
    "duration": 0,
    "start_time": "2024-10-17T15:03:20.205Z"
   },
   {
    "duration": 0,
    "start_time": "2024-10-17T15:03:20.206Z"
   },
   {
    "duration": 0,
    "start_time": "2024-10-17T15:03:20.207Z"
   },
   {
    "duration": 0,
    "start_time": "2024-10-17T15:03:20.208Z"
   },
   {
    "duration": 0,
    "start_time": "2024-10-17T15:03:20.208Z"
   },
   {
    "duration": 0,
    "start_time": "2024-10-17T15:03:20.224Z"
   },
   {
    "duration": 0,
    "start_time": "2024-10-17T15:03:20.225Z"
   },
   {
    "duration": 0,
    "start_time": "2024-10-17T15:03:20.227Z"
   },
   {
    "duration": 0,
    "start_time": "2024-10-17T15:03:20.228Z"
   },
   {
    "duration": 0,
    "start_time": "2024-10-17T15:03:20.230Z"
   },
   {
    "duration": 0,
    "start_time": "2024-10-17T15:03:20.231Z"
   },
   {
    "duration": 0,
    "start_time": "2024-10-17T15:03:20.234Z"
   },
   {
    "duration": 0,
    "start_time": "2024-10-17T15:03:20.235Z"
   },
   {
    "duration": 0,
    "start_time": "2024-10-17T15:03:20.236Z"
   },
   {
    "duration": 0,
    "start_time": "2024-10-17T15:03:20.237Z"
   },
   {
    "duration": 27,
    "start_time": "2024-10-17T15:03:33.679Z"
   },
   {
    "duration": 436,
    "start_time": "2024-10-17T15:03:44.854Z"
   },
   {
    "duration": 904,
    "start_time": "2024-10-17T15:03:45.292Z"
   },
   {
    "duration": 10,
    "start_time": "2024-10-17T15:03:46.198Z"
   },
   {
    "duration": 15,
    "start_time": "2024-10-17T15:03:46.210Z"
   },
   {
    "duration": 8,
    "start_time": "2024-10-17T15:03:46.226Z"
   },
   {
    "duration": 7,
    "start_time": "2024-10-17T15:03:46.235Z"
   },
   {
    "duration": 21,
    "start_time": "2024-10-17T15:03:46.244Z"
   },
   {
    "duration": 88,
    "start_time": "2024-10-17T15:03:46.267Z"
   },
   {
    "duration": 8,
    "start_time": "2024-10-17T15:03:46.357Z"
   },
   {
    "duration": 104,
    "start_time": "2024-10-17T15:03:46.368Z"
   },
   {
    "duration": 86,
    "start_time": "2024-10-17T15:03:46.474Z"
   },
   {
    "duration": 29,
    "start_time": "2024-10-17T15:03:46.562Z"
   },
   {
    "duration": 32,
    "start_time": "2024-10-17T15:03:46.592Z"
   },
   {
    "duration": 6,
    "start_time": "2024-10-17T15:03:46.626Z"
   },
   {
    "duration": 25,
    "start_time": "2024-10-17T15:03:46.633Z"
   },
   {
    "duration": 6,
    "start_time": "2024-10-17T15:03:46.659Z"
   },
   {
    "duration": 2,
    "start_time": "2024-10-17T15:03:46.667Z"
   },
   {
    "duration": 2,
    "start_time": "2024-10-17T15:03:46.670Z"
   },
   {
    "duration": 3,
    "start_time": "2024-10-17T15:03:46.674Z"
   },
   {
    "duration": 2,
    "start_time": "2024-10-17T15:03:46.678Z"
   },
   {
    "duration": 42,
    "start_time": "2024-10-17T15:03:46.682Z"
   },
   {
    "duration": 2,
    "start_time": "2024-10-17T15:03:46.726Z"
   },
   {
    "duration": 2,
    "start_time": "2024-10-17T15:03:46.730Z"
   },
   {
    "duration": 2,
    "start_time": "2024-10-17T15:03:46.734Z"
   },
   {
    "duration": 2,
    "start_time": "2024-10-17T15:03:46.738Z"
   },
   {
    "duration": 2,
    "start_time": "2024-10-17T15:03:46.742Z"
   },
   {
    "duration": 2,
    "start_time": "2024-10-17T15:03:46.746Z"
   },
   {
    "duration": 2,
    "start_time": "2024-10-17T15:03:46.752Z"
   },
   {
    "duration": 2,
    "start_time": "2024-10-17T15:03:46.756Z"
   },
   {
    "duration": 2,
    "start_time": "2024-10-17T15:03:46.760Z"
   },
   {
    "duration": 2,
    "start_time": "2024-10-17T15:03:46.764Z"
   },
   {
    "duration": 2,
    "start_time": "2024-10-17T15:03:46.768Z"
   },
   {
    "duration": 53,
    "start_time": "2024-10-17T15:03:46.772Z"
   },
   {
    "duration": 2,
    "start_time": "2024-10-17T15:03:46.827Z"
   },
   {
    "duration": 230,
    "start_time": "2024-10-17T15:04:26.499Z"
   },
   {
    "duration": 149,
    "start_time": "2024-10-17T15:04:57.323Z"
   },
   {
    "duration": 5,
    "start_time": "2024-10-17T15:05:06.179Z"
   },
   {
    "duration": 433,
    "start_time": "2024-10-17T15:05:38.052Z"
   },
   {
    "duration": 909,
    "start_time": "2024-10-17T15:05:38.487Z"
   },
   {
    "duration": 11,
    "start_time": "2024-10-17T15:05:39.397Z"
   },
   {
    "duration": 19,
    "start_time": "2024-10-17T15:05:39.410Z"
   },
   {
    "duration": 8,
    "start_time": "2024-10-17T15:05:39.431Z"
   },
   {
    "duration": 7,
    "start_time": "2024-10-17T15:05:39.441Z"
   },
   {
    "duration": 22,
    "start_time": "2024-10-17T15:05:39.450Z"
   },
   {
    "duration": 94,
    "start_time": "2024-10-17T15:05:39.474Z"
   },
   {
    "duration": 8,
    "start_time": "2024-10-17T15:05:39.570Z"
   },
   {
    "duration": 103,
    "start_time": "2024-10-17T15:05:39.581Z"
   },
   {
    "duration": 90,
    "start_time": "2024-10-17T15:05:39.686Z"
   },
   {
    "duration": 27,
    "start_time": "2024-10-17T15:05:39.778Z"
   },
   {
    "duration": 27,
    "start_time": "2024-10-17T15:05:39.807Z"
   },
   {
    "duration": 7,
    "start_time": "2024-10-17T15:05:39.836Z"
   },
   {
    "duration": 332,
    "start_time": "2024-10-17T15:05:39.844Z"
   },
   {
    "duration": 0,
    "start_time": "2024-10-17T15:05:40.178Z"
   },
   {
    "duration": 0,
    "start_time": "2024-10-17T15:05:40.179Z"
   },
   {
    "duration": 0,
    "start_time": "2024-10-17T15:05:40.180Z"
   },
   {
    "duration": 0,
    "start_time": "2024-10-17T15:05:40.181Z"
   },
   {
    "duration": 0,
    "start_time": "2024-10-17T15:05:40.182Z"
   },
   {
    "duration": 0,
    "start_time": "2024-10-17T15:05:40.183Z"
   },
   {
    "duration": 0,
    "start_time": "2024-10-17T15:05:40.184Z"
   },
   {
    "duration": 0,
    "start_time": "2024-10-17T15:05:40.185Z"
   },
   {
    "duration": 0,
    "start_time": "2024-10-17T15:05:40.185Z"
   },
   {
    "duration": 0,
    "start_time": "2024-10-17T15:05:40.186Z"
   },
   {
    "duration": 0,
    "start_time": "2024-10-17T15:05:40.187Z"
   },
   {
    "duration": 0,
    "start_time": "2024-10-17T15:05:40.188Z"
   },
   {
    "duration": 0,
    "start_time": "2024-10-17T15:05:40.189Z"
   },
   {
    "duration": 0,
    "start_time": "2024-10-17T15:05:40.190Z"
   },
   {
    "duration": 0,
    "start_time": "2024-10-17T15:05:40.190Z"
   },
   {
    "duration": 0,
    "start_time": "2024-10-17T15:05:40.192Z"
   },
   {
    "duration": 0,
    "start_time": "2024-10-17T15:05:40.193Z"
   },
   {
    "duration": 0,
    "start_time": "2024-10-17T15:05:40.194Z"
   },
   {
    "duration": 0,
    "start_time": "2024-10-17T15:05:40.195Z"
   },
   {
    "duration": 4,
    "start_time": "2024-10-17T15:05:55.269Z"
   },
   {
    "duration": 13,
    "start_time": "2024-10-17T15:06:03.393Z"
   },
   {
    "duration": 28,
    "start_time": "2024-10-17T15:06:30.086Z"
   },
   {
    "duration": 432,
    "start_time": "2024-10-17T15:09:44.731Z"
   },
   {
    "duration": 900,
    "start_time": "2024-10-17T15:09:45.165Z"
   },
   {
    "duration": 13,
    "start_time": "2024-10-17T15:09:46.067Z"
   },
   {
    "duration": 10,
    "start_time": "2024-10-17T15:09:46.083Z"
   },
   {
    "duration": 9,
    "start_time": "2024-10-17T15:09:46.094Z"
   },
   {
    "duration": 25,
    "start_time": "2024-10-17T15:09:46.104Z"
   },
   {
    "duration": 22,
    "start_time": "2024-10-17T15:09:46.130Z"
   },
   {
    "duration": 81,
    "start_time": "2024-10-17T15:09:46.154Z"
   },
   {
    "duration": 8,
    "start_time": "2024-10-17T15:09:46.237Z"
   },
   {
    "duration": 104,
    "start_time": "2024-10-17T15:09:46.248Z"
   },
   {
    "duration": 93,
    "start_time": "2024-10-17T15:09:46.354Z"
   },
   {
    "duration": 28,
    "start_time": "2024-10-17T15:09:46.449Z"
   },
   {
    "duration": 18,
    "start_time": "2024-10-17T15:09:46.479Z"
   },
   {
    "duration": 26,
    "start_time": "2024-10-17T15:09:46.499Z"
   },
   {
    "duration": 13,
    "start_time": "2024-10-17T15:09:46.527Z"
   },
   {
    "duration": 100,
    "start_time": "2024-10-17T15:09:46.542Z"
   },
   {
    "duration": 0,
    "start_time": "2024-10-17T15:09:46.644Z"
   },
   {
    "duration": 0,
    "start_time": "2024-10-17T15:09:46.645Z"
   },
   {
    "duration": 0,
    "start_time": "2024-10-17T15:09:46.646Z"
   },
   {
    "duration": 0,
    "start_time": "2024-10-17T15:09:46.647Z"
   },
   {
    "duration": 0,
    "start_time": "2024-10-17T15:09:46.650Z"
   },
   {
    "duration": 0,
    "start_time": "2024-10-17T15:09:46.651Z"
   },
   {
    "duration": 0,
    "start_time": "2024-10-17T15:09:46.652Z"
   },
   {
    "duration": 0,
    "start_time": "2024-10-17T15:09:46.652Z"
   },
   {
    "duration": 0,
    "start_time": "2024-10-17T15:09:46.656Z"
   },
   {
    "duration": 0,
    "start_time": "2024-10-17T15:09:46.657Z"
   },
   {
    "duration": 0,
    "start_time": "2024-10-17T15:09:46.658Z"
   },
   {
    "duration": 0,
    "start_time": "2024-10-17T15:09:46.659Z"
   },
   {
    "duration": 0,
    "start_time": "2024-10-17T15:09:46.660Z"
   },
   {
    "duration": 0,
    "start_time": "2024-10-17T15:09:46.662Z"
   },
   {
    "duration": 0,
    "start_time": "2024-10-17T15:09:46.663Z"
   },
   {
    "duration": 0,
    "start_time": "2024-10-17T15:09:46.664Z"
   },
   {
    "duration": 0,
    "start_time": "2024-10-17T15:09:46.666Z"
   },
   {
    "duration": 0,
    "start_time": "2024-10-17T15:09:46.667Z"
   },
   {
    "duration": 227,
    "start_time": "2024-10-17T15:09:58.185Z"
   },
   {
    "duration": 2,
    "start_time": "2024-10-17T15:10:18.228Z"
   },
   {
    "duration": 11,
    "start_time": "2024-10-17T15:10:20.413Z"
   },
   {
    "duration": 396,
    "start_time": "2024-10-17T15:10:29.603Z"
   },
   {
    "duration": 890,
    "start_time": "2024-10-17T15:10:30.001Z"
   },
   {
    "duration": 11,
    "start_time": "2024-10-17T15:10:30.892Z"
   },
   {
    "duration": 18,
    "start_time": "2024-10-17T15:10:30.906Z"
   },
   {
    "duration": 7,
    "start_time": "2024-10-17T15:10:30.925Z"
   },
   {
    "duration": 8,
    "start_time": "2024-10-17T15:10:30.934Z"
   },
   {
    "duration": 23,
    "start_time": "2024-10-17T15:10:30.943Z"
   },
   {
    "duration": 103,
    "start_time": "2024-10-17T15:10:30.968Z"
   },
   {
    "duration": 8,
    "start_time": "2024-10-17T15:10:31.072Z"
   },
   {
    "duration": 113,
    "start_time": "2024-10-17T15:10:31.084Z"
   },
   {
    "duration": 85,
    "start_time": "2024-10-17T15:10:31.199Z"
   },
   {
    "duration": 29,
    "start_time": "2024-10-17T15:10:31.286Z"
   },
   {
    "duration": 24,
    "start_time": "2024-10-17T15:10:31.317Z"
   },
   {
    "duration": 7,
    "start_time": "2024-10-17T15:10:31.343Z"
   },
   {
    "duration": 2,
    "start_time": "2024-10-17T15:10:31.351Z"
   },
   {
    "duration": 9,
    "start_time": "2024-10-17T15:10:31.354Z"
   },
   {
    "duration": 2,
    "start_time": "2024-10-17T15:10:31.365Z"
   },
   {
    "duration": 2,
    "start_time": "2024-10-17T15:10:31.369Z"
   },
   {
    "duration": 2,
    "start_time": "2024-10-17T15:10:31.373Z"
   },
   {
    "duration": 3,
    "start_time": "2024-10-17T15:10:31.376Z"
   },
   {
    "duration": 1,
    "start_time": "2024-10-17T15:10:31.424Z"
   },
   {
    "duration": 2,
    "start_time": "2024-10-17T15:10:31.427Z"
   },
   {
    "duration": 2,
    "start_time": "2024-10-17T15:10:31.431Z"
   },
   {
    "duration": 2,
    "start_time": "2024-10-17T15:10:31.435Z"
   },
   {
    "duration": 3,
    "start_time": "2024-10-17T15:10:31.438Z"
   },
   {
    "duration": 2,
    "start_time": "2024-10-17T15:10:31.443Z"
   },
   {
    "duration": 3,
    "start_time": "2024-10-17T15:10:31.446Z"
   },
   {
    "duration": 2,
    "start_time": "2024-10-17T15:10:31.452Z"
   },
   {
    "duration": 2,
    "start_time": "2024-10-17T15:10:31.456Z"
   },
   {
    "duration": 2,
    "start_time": "2024-10-17T15:10:31.459Z"
   },
   {
    "duration": 2,
    "start_time": "2024-10-17T15:10:31.463Z"
   },
   {
    "duration": 2,
    "start_time": "2024-10-17T15:10:31.467Z"
   },
   {
    "duration": 53,
    "start_time": "2024-10-17T15:10:31.471Z"
   },
   {
    "duration": 2,
    "start_time": "2024-10-17T15:10:31.526Z"
   },
   {
    "duration": 17,
    "start_time": "2024-10-17T15:15:15.106Z"
   },
   {
    "duration": 9,
    "start_time": "2024-10-17T15:15:37.890Z"
   },
   {
    "duration": 6,
    "start_time": "2024-10-17T15:15:43.793Z"
   },
   {
    "duration": 12,
    "start_time": "2024-10-17T15:16:21.830Z"
   },
   {
    "duration": 14,
    "start_time": "2024-10-17T15:25:49.623Z"
   },
   {
    "duration": 13,
    "start_time": "2024-10-17T15:25:52.308Z"
   },
   {
    "duration": 11,
    "start_time": "2024-10-17T15:26:04.339Z"
   },
   {
    "duration": 6,
    "start_time": "2024-10-17T15:26:07.548Z"
   },
   {
    "duration": 14,
    "start_time": "2024-10-17T15:26:16.393Z"
   },
   {
    "duration": 6,
    "start_time": "2024-10-17T15:26:24.325Z"
   },
   {
    "duration": 14,
    "start_time": "2024-10-17T15:39:07.203Z"
   },
   {
    "duration": 7,
    "start_time": "2024-10-17T15:39:12.684Z"
   },
   {
    "duration": 21,
    "start_time": "2024-10-17T17:05:53.401Z"
   },
   {
    "duration": 29,
    "start_time": "2024-10-17T17:06:01.136Z"
   },
   {
    "duration": 22,
    "start_time": "2024-10-17T17:30:39.729Z"
   },
   {
    "duration": 114,
    "start_time": "2024-10-17T17:30:49.928Z"
   },
   {
    "duration": 7,
    "start_time": "2024-10-17T17:30:59.543Z"
   },
   {
    "duration": 33,
    "start_time": "2024-10-17T17:31:05.587Z"
   },
   {
    "duration": 387,
    "start_time": "2024-10-17T17:31:11.698Z"
   },
   {
    "duration": 887,
    "start_time": "2024-10-17T17:31:12.087Z"
   },
   {
    "duration": 11,
    "start_time": "2024-10-17T17:31:12.975Z"
   },
   {
    "duration": 9,
    "start_time": "2024-10-17T17:31:12.987Z"
   },
   {
    "duration": 6,
    "start_time": "2024-10-17T17:31:12.999Z"
   },
   {
    "duration": 8,
    "start_time": "2024-10-17T17:31:13.024Z"
   },
   {
    "duration": 23,
    "start_time": "2024-10-17T17:31:13.033Z"
   },
   {
    "duration": 81,
    "start_time": "2024-10-17T17:31:13.057Z"
   },
   {
    "duration": 7,
    "start_time": "2024-10-17T17:31:13.140Z"
   },
   {
    "duration": 101,
    "start_time": "2024-10-17T17:31:13.149Z"
   },
   {
    "duration": 91,
    "start_time": "2024-10-17T17:31:13.252Z"
   },
   {
    "duration": 29,
    "start_time": "2024-10-17T17:31:13.344Z"
   },
   {
    "duration": 19,
    "start_time": "2024-10-17T17:31:13.375Z"
   },
   {
    "duration": 6,
    "start_time": "2024-10-17T17:31:13.397Z"
   },
   {
    "duration": 119,
    "start_time": "2024-10-17T17:31:13.423Z"
   },
   {
    "duration": 0,
    "start_time": "2024-10-17T17:31:13.544Z"
   },
   {
    "duration": 0,
    "start_time": "2024-10-17T17:31:13.545Z"
   },
   {
    "duration": 0,
    "start_time": "2024-10-17T17:31:13.545Z"
   },
   {
    "duration": 0,
    "start_time": "2024-10-17T17:31:13.546Z"
   },
   {
    "duration": 0,
    "start_time": "2024-10-17T17:31:13.548Z"
   },
   {
    "duration": 0,
    "start_time": "2024-10-17T17:31:13.549Z"
   },
   {
    "duration": 0,
    "start_time": "2024-10-17T17:31:13.550Z"
   },
   {
    "duration": 0,
    "start_time": "2024-10-17T17:31:13.552Z"
   },
   {
    "duration": 0,
    "start_time": "2024-10-17T17:31:13.553Z"
   },
   {
    "duration": 0,
    "start_time": "2024-10-17T17:31:13.554Z"
   },
   {
    "duration": 0,
    "start_time": "2024-10-17T17:31:13.555Z"
   },
   {
    "duration": 0,
    "start_time": "2024-10-17T17:31:13.556Z"
   },
   {
    "duration": 0,
    "start_time": "2024-10-17T17:31:13.557Z"
   },
   {
    "duration": 0,
    "start_time": "2024-10-17T17:31:13.558Z"
   },
   {
    "duration": 0,
    "start_time": "2024-10-17T17:31:13.558Z"
   },
   {
    "duration": 0,
    "start_time": "2024-10-17T17:31:13.559Z"
   },
   {
    "duration": 0,
    "start_time": "2024-10-17T17:31:13.560Z"
   },
   {
    "duration": 0,
    "start_time": "2024-10-17T17:31:13.561Z"
   },
   {
    "duration": 0,
    "start_time": "2024-10-17T17:31:13.562Z"
   },
   {
    "duration": 239,
    "start_time": "2024-10-17T17:33:29.298Z"
   },
   {
    "duration": 33,
    "start_time": "2024-10-17T17:34:12.339Z"
   },
   {
    "duration": 15,
    "start_time": "2024-10-17T17:34:21.669Z"
   },
   {
    "duration": 21,
    "start_time": "2024-10-17T17:34:26.676Z"
   },
   {
    "duration": 33,
    "start_time": "2024-10-17T17:34:36.924Z"
   },
   {
    "duration": 26,
    "start_time": "2024-10-17T17:34:50.544Z"
   },
   {
    "duration": 27,
    "start_time": "2024-10-17T17:35:27.765Z"
   },
   {
    "duration": 5,
    "start_time": "2024-10-17T17:46:53.125Z"
   },
   {
    "duration": 4,
    "start_time": "2024-10-17T17:47:00.610Z"
   },
   {
    "duration": 5,
    "start_time": "2024-10-17T17:48:26.392Z"
   },
   {
    "duration": 4,
    "start_time": "2024-10-17T17:48:35.106Z"
   },
   {
    "duration": 5,
    "start_time": "2024-10-17T17:49:11.410Z"
   },
   {
    "duration": 4,
    "start_time": "2024-10-17T17:49:40.155Z"
   },
   {
    "duration": 720,
    "start_time": "2024-10-17T17:50:25.090Z"
   },
   {
    "duration": 74,
    "start_time": "2024-10-17T17:51:17.939Z"
   },
   {
    "duration": 955,
    "start_time": "2024-10-17T17:53:02.633Z"
   },
   {
    "duration": 222,
    "start_time": "2024-10-17T18:00:00.788Z"
   },
   {
    "duration": 830,
    "start_time": "2024-10-17T18:01:10.863Z"
   },
   {
    "duration": 18,
    "start_time": "2024-10-17T18:04:11.942Z"
   },
   {
    "duration": 3,
    "start_time": "2024-10-17T18:04:19.526Z"
   },
   {
    "duration": 26,
    "start_time": "2024-10-17T18:04:36.346Z"
   },
   {
    "duration": 6,
    "start_time": "2024-10-17T18:05:46.318Z"
   },
   {
    "duration": 6,
    "start_time": "2024-10-17T18:05:55.342Z"
   },
   {
    "duration": 6,
    "start_time": "2024-10-17T18:07:13.733Z"
   },
   {
    "duration": 6,
    "start_time": "2024-10-17T18:07:25.197Z"
   },
   {
    "duration": 14,
    "start_time": "2024-10-17T18:07:52.464Z"
   },
   {
    "duration": 13,
    "start_time": "2024-10-17T18:08:04.103Z"
   },
   {
    "duration": 9,
    "start_time": "2024-10-17T18:14:44.927Z"
   },
   {
    "duration": 7,
    "start_time": "2024-10-17T18:15:09.442Z"
   },
   {
    "duration": 7,
    "start_time": "2024-10-17T18:21:17.299Z"
   },
   {
    "duration": 7,
    "start_time": "2024-10-17T18:22:08.877Z"
   },
   {
    "duration": 319,
    "start_time": "2024-10-17T18:24:04.705Z"
   },
   {
    "duration": 10,
    "start_time": "2024-10-17T18:25:39.141Z"
   },
   {
    "duration": 9,
    "start_time": "2024-10-17T18:26:07.448Z"
   },
   {
    "duration": 8,
    "start_time": "2024-10-17T18:26:40.723Z"
   },
   {
    "duration": 3,
    "start_time": "2024-10-17T18:27:56.751Z"
   },
   {
    "duration": 824,
    "start_time": "2024-10-17T18:27:56.757Z"
   },
   {
    "duration": 10,
    "start_time": "2024-10-17T18:27:57.584Z"
   },
   {
    "duration": 9,
    "start_time": "2024-10-17T18:27:57.596Z"
   },
   {
    "duration": 23,
    "start_time": "2024-10-17T18:27:57.607Z"
   },
   {
    "duration": 8,
    "start_time": "2024-10-17T18:27:57.632Z"
   },
   {
    "duration": 20,
    "start_time": "2024-10-17T18:27:57.642Z"
   },
   {
    "duration": 82,
    "start_time": "2024-10-17T18:27:57.664Z"
   },
   {
    "duration": 7,
    "start_time": "2024-10-17T18:27:57.748Z"
   },
   {
    "duration": 94,
    "start_time": "2024-10-17T18:27:57.756Z"
   },
   {
    "duration": 72,
    "start_time": "2024-10-17T18:27:57.852Z"
   },
   {
    "duration": 24,
    "start_time": "2024-10-17T18:27:57.926Z"
   },
   {
    "duration": 8,
    "start_time": "2024-10-17T18:28:12.644Z"
   },
   {
    "duration": 19,
    "start_time": "2024-10-17T18:29:14.522Z"
   },
   {
    "duration": 6,
    "start_time": "2024-10-17T18:29:19.725Z"
   },
   {
    "duration": 27,
    "start_time": "2024-10-17T18:29:25.519Z"
   },
   {
    "duration": 22,
    "start_time": "2024-10-17T18:29:35.612Z"
   },
   {
    "duration": 43,
    "start_time": "2024-10-17T18:32:06.483Z"
   },
   {
    "duration": 607,
    "start_time": "2024-10-17T18:36:55.817Z"
   },
   {
    "duration": 601,
    "start_time": "2024-10-17T18:37:08.795Z"
   },
   {
    "duration": 8,
    "start_time": "2024-10-17T18:39:32.572Z"
   },
   {
    "duration": 15,
    "start_time": "2024-10-17T18:40:06.883Z"
   },
   {
    "duration": 14,
    "start_time": "2024-10-17T18:40:32.767Z"
   },
   {
    "duration": 16,
    "start_time": "2024-10-17T18:40:41.266Z"
   },
   {
    "duration": 10,
    "start_time": "2024-10-17T18:40:56.414Z"
   },
   {
    "duration": 6,
    "start_time": "2024-10-17T18:46:27.551Z"
   },
   {
    "duration": 12,
    "start_time": "2024-10-17T18:46:33.631Z"
   },
   {
    "duration": 7,
    "start_time": "2024-10-17T18:46:39.533Z"
   },
   {
    "duration": 7,
    "start_time": "2024-10-17T18:57:30.221Z"
   },
   {
    "duration": 12,
    "start_time": "2024-10-17T19:12:53.311Z"
   },
   {
    "duration": 387,
    "start_time": "2024-10-17T19:12:58.943Z"
   },
   {
    "duration": 114,
    "start_time": "2024-10-17T19:13:26.672Z"
   },
   {
    "duration": 128,
    "start_time": "2024-10-17T19:14:47.152Z"
   },
   {
    "duration": 11,
    "start_time": "2024-10-17T19:15:20.517Z"
   },
   {
    "duration": 12,
    "start_time": "2024-10-17T19:15:30.730Z"
   },
   {
    "duration": 8,
    "start_time": "2024-10-17T19:15:47.474Z"
   },
   {
    "duration": 199,
    "start_time": "2024-10-17T19:16:38.213Z"
   },
   {
    "duration": 40,
    "start_time": "2024-10-17T19:20:32.247Z"
   },
   {
    "duration": 452,
    "start_time": "2024-10-17T19:20:43.036Z"
   },
   {
    "duration": 929,
    "start_time": "2024-10-17T19:20:43.491Z"
   },
   {
    "duration": 11,
    "start_time": "2024-10-17T19:20:44.423Z"
   },
   {
    "duration": 11,
    "start_time": "2024-10-17T19:20:44.435Z"
   },
   {
    "duration": 6,
    "start_time": "2024-10-17T19:20:44.449Z"
   },
   {
    "duration": 7,
    "start_time": "2024-10-17T19:20:44.457Z"
   },
   {
    "duration": 22,
    "start_time": "2024-10-17T19:20:44.466Z"
   },
   {
    "duration": 96,
    "start_time": "2024-10-17T19:20:44.489Z"
   },
   {
    "duration": 9,
    "start_time": "2024-10-17T19:20:44.586Z"
   },
   {
    "duration": 107,
    "start_time": "2024-10-17T19:20:44.596Z"
   },
   {
    "duration": 86,
    "start_time": "2024-10-17T19:20:44.704Z"
   },
   {
    "duration": 36,
    "start_time": "2024-10-17T19:20:44.792Z"
   },
   {
    "duration": 19,
    "start_time": "2024-10-17T19:20:44.830Z"
   },
   {
    "duration": 7,
    "start_time": "2024-10-17T19:20:44.853Z"
   },
   {
    "duration": 26,
    "start_time": "2024-10-17T19:20:44.861Z"
   },
   {
    "duration": 44,
    "start_time": "2024-10-17T19:20:44.889Z"
   },
   {
    "duration": 7,
    "start_time": "2024-10-17T19:20:44.935Z"
   },
   {
    "duration": 41,
    "start_time": "2024-10-17T19:20:44.945Z"
   },
   {
    "duration": 7,
    "start_time": "2024-10-17T19:20:44.988Z"
   },
   {
    "duration": 4,
    "start_time": "2024-10-17T19:20:44.996Z"
   },
   {
    "duration": 26,
    "start_time": "2024-10-17T19:20:45.001Z"
   },
   {
    "duration": 3,
    "start_time": "2024-10-17T19:20:45.029Z"
   },
   {
    "duration": 732,
    "start_time": "2024-10-17T19:20:45.034Z"
   },
   {
    "duration": 704,
    "start_time": "2024-10-17T19:20:45.768Z"
   },
   {
    "duration": 12,
    "start_time": "2024-10-17T19:20:46.474Z"
   },
   {
    "duration": 7,
    "start_time": "2024-10-17T19:20:46.487Z"
   },
   {
    "duration": 6,
    "start_time": "2024-10-17T19:20:46.495Z"
   },
   {
    "duration": 545,
    "start_time": "2024-10-17T19:20:46.524Z"
   },
   {
    "duration": 0,
    "start_time": "2024-10-17T19:20:47.071Z"
   },
   {
    "duration": 0,
    "start_time": "2024-10-17T19:20:47.072Z"
   },
   {
    "duration": 0,
    "start_time": "2024-10-17T19:20:47.073Z"
   },
   {
    "duration": 0,
    "start_time": "2024-10-17T19:20:47.075Z"
   },
   {
    "duration": 0,
    "start_time": "2024-10-17T19:20:47.076Z"
   },
   {
    "duration": 0,
    "start_time": "2024-10-17T19:20:47.077Z"
   },
   {
    "duration": 0,
    "start_time": "2024-10-17T19:20:47.079Z"
   },
   {
    "duration": 0,
    "start_time": "2024-10-17T19:20:47.080Z"
   },
   {
    "duration": 3,
    "start_time": "2024-10-17T19:21:14.193Z"
   },
   {
    "duration": 5,
    "start_time": "2024-10-17T19:21:33.051Z"
   },
   {
    "duration": 11,
    "start_time": "2024-10-17T21:20:05.704Z"
   },
   {
    "duration": 7,
    "start_time": "2024-10-17T21:20:14.467Z"
   },
   {
    "duration": 13,
    "start_time": "2024-10-17T21:20:53.857Z"
   },
   {
    "duration": 11,
    "start_time": "2024-10-17T21:22:05.470Z"
   },
   {
    "duration": 561,
    "start_time": "2024-10-17T21:22:24.064Z"
   },
   {
    "duration": 1421,
    "start_time": "2024-10-17T21:22:24.631Z"
   },
   {
    "duration": 16,
    "start_time": "2024-10-17T21:22:26.053Z"
   },
   {
    "duration": 14,
    "start_time": "2024-10-17T21:22:26.071Z"
   },
   {
    "duration": 8,
    "start_time": "2024-10-17T21:22:26.091Z"
   },
   {
    "duration": 25,
    "start_time": "2024-10-17T21:22:26.100Z"
   },
   {
    "duration": 31,
    "start_time": "2024-10-17T21:22:26.127Z"
   },
   {
    "duration": 100,
    "start_time": "2024-10-17T21:22:26.160Z"
   },
   {
    "duration": 9,
    "start_time": "2024-10-17T21:22:26.262Z"
   },
   {
    "duration": 140,
    "start_time": "2024-10-17T21:22:26.273Z"
   },
   {
    "duration": 128,
    "start_time": "2024-10-17T21:22:26.415Z"
   },
   {
    "duration": 50,
    "start_time": "2024-10-17T21:22:26.549Z"
   },
   {
    "duration": 34,
    "start_time": "2024-10-17T21:22:26.602Z"
   },
   {
    "duration": 7,
    "start_time": "2024-10-17T21:22:26.640Z"
   },
   {
    "duration": 43,
    "start_time": "2024-10-17T21:22:26.648Z"
   },
   {
    "duration": 46,
    "start_time": "2024-10-17T21:22:26.695Z"
   },
   {
    "duration": 10,
    "start_time": "2024-10-17T21:22:26.745Z"
   },
   {
    "duration": 69,
    "start_time": "2024-10-17T21:22:26.757Z"
   },
   {
    "duration": 4,
    "start_time": "2024-10-17T21:22:26.831Z"
   },
   {
    "duration": 5,
    "start_time": "2024-10-17T21:22:26.836Z"
   },
   {
    "duration": 5,
    "start_time": "2024-10-17T21:22:26.842Z"
   },
   {
    "duration": 4,
    "start_time": "2024-10-17T21:22:26.848Z"
   },
   {
    "duration": 1141,
    "start_time": "2024-10-17T21:22:26.854Z"
   },
   {
    "duration": 1055,
    "start_time": "2024-10-17T21:22:27.997Z"
   },
   {
    "duration": 16,
    "start_time": "2024-10-17T21:22:29.054Z"
   },
   {
    "duration": 6,
    "start_time": "2024-10-17T21:22:29.073Z"
   },
   {
    "duration": 7,
    "start_time": "2024-10-17T21:22:29.081Z"
   },
   {
    "duration": 2,
    "start_time": "2024-10-17T21:22:29.090Z"
   },
   {
    "duration": 3,
    "start_time": "2024-10-17T21:22:29.094Z"
   },
   {
    "duration": 3,
    "start_time": "2024-10-17T21:22:29.124Z"
   },
   {
    "duration": 3,
    "start_time": "2024-10-17T21:22:29.128Z"
   },
   {
    "duration": 3,
    "start_time": "2024-10-17T21:22:29.132Z"
   },
   {
    "duration": 3,
    "start_time": "2024-10-17T21:22:29.136Z"
   },
   {
    "duration": 3,
    "start_time": "2024-10-17T21:22:29.140Z"
   },
   {
    "duration": 3,
    "start_time": "2024-10-17T21:22:29.144Z"
   },
   {
    "duration": 3,
    "start_time": "2024-10-17T21:22:29.148Z"
   },
   {
    "duration": 3,
    "start_time": "2024-10-17T21:23:32.197Z"
   },
   {
    "duration": 4,
    "start_time": "2024-10-17T21:23:40.155Z"
   },
   {
    "duration": 4,
    "start_time": "2024-10-17T21:23:54.515Z"
   },
   {
    "duration": 10,
    "start_time": "2024-10-17T21:24:06.462Z"
   },
   {
    "duration": 4,
    "start_time": "2024-10-17T21:24:44.371Z"
   },
   {
    "duration": 4,
    "start_time": "2024-10-17T21:24:53.560Z"
   },
   {
    "duration": 4,
    "start_time": "2024-10-17T21:25:12.319Z"
   },
   {
    "duration": 4,
    "start_time": "2024-10-17T21:25:27.936Z"
   },
   {
    "duration": 12,
    "start_time": "2024-10-17T21:25:47.735Z"
   },
   {
    "duration": 7,
    "start_time": "2024-10-17T21:27:46.527Z"
   },
   {
    "duration": 8,
    "start_time": "2024-10-17T21:27:55.325Z"
   },
   {
    "duration": 7,
    "start_time": "2024-10-17T21:28:40.836Z"
   },
   {
    "duration": 5,
    "start_time": "2024-10-17T21:29:04.139Z"
   },
   {
    "duration": 6,
    "start_time": "2024-10-17T21:29:12.100Z"
   },
   {
    "duration": 745,
    "start_time": "2024-10-17T21:32:31.610Z"
   },
   {
    "duration": 67,
    "start_time": "2024-10-17T21:32:50.835Z"
   },
   {
    "duration": 7,
    "start_time": "2024-10-17T21:33:33.389Z"
   },
   {
    "duration": 19,
    "start_time": "2024-10-17T21:33:57.616Z"
   },
   {
    "duration": 16,
    "start_time": "2024-10-17T21:34:36.416Z"
   },
   {
    "duration": 12,
    "start_time": "2024-10-17T21:34:50.123Z"
   },
   {
    "duration": 12,
    "start_time": "2024-10-17T21:35:00.782Z"
   },
   {
    "duration": 12,
    "start_time": "2024-10-17T21:35:38.644Z"
   },
   {
    "duration": 11,
    "start_time": "2024-10-17T21:35:55.536Z"
   },
   {
    "duration": 531,
    "start_time": "2024-10-17T21:36:07.381Z"
   },
   {
    "duration": 1240,
    "start_time": "2024-10-17T21:36:07.914Z"
   },
   {
    "duration": 13,
    "start_time": "2024-10-17T21:36:09.155Z"
   },
   {
    "duration": 23,
    "start_time": "2024-10-17T21:36:09.171Z"
   },
   {
    "duration": 14,
    "start_time": "2024-10-17T21:36:09.199Z"
   },
   {
    "duration": 15,
    "start_time": "2024-10-17T21:36:09.215Z"
   },
   {
    "duration": 33,
    "start_time": "2024-10-17T21:36:09.232Z"
   },
   {
    "duration": 124,
    "start_time": "2024-10-17T21:36:09.267Z"
   },
   {
    "duration": 12,
    "start_time": "2024-10-17T21:36:09.395Z"
   },
   {
    "duration": 163,
    "start_time": "2024-10-17T21:36:09.414Z"
   },
   {
    "duration": 139,
    "start_time": "2024-10-17T21:36:09.581Z"
   },
   {
    "duration": 44,
    "start_time": "2024-10-17T21:36:09.724Z"
   },
   {
    "duration": 33,
    "start_time": "2024-10-17T21:36:09.770Z"
   },
   {
    "duration": 26,
    "start_time": "2024-10-17T21:36:09.805Z"
   },
   {
    "duration": 45,
    "start_time": "2024-10-17T21:36:09.833Z"
   },
   {
    "duration": 46,
    "start_time": "2024-10-17T21:36:09.880Z"
   },
   {
    "duration": 14,
    "start_time": "2024-10-17T21:36:09.928Z"
   },
   {
    "duration": 69,
    "start_time": "2024-10-17T21:36:09.946Z"
   },
   {
    "duration": 8,
    "start_time": "2024-10-17T21:36:10.023Z"
   },
   {
    "duration": 7,
    "start_time": "2024-10-17T21:36:10.035Z"
   },
   {
    "duration": 5,
    "start_time": "2024-10-17T21:36:10.045Z"
   },
   {
    "duration": 7,
    "start_time": "2024-10-17T21:36:10.052Z"
   },
   {
    "duration": 1308,
    "start_time": "2024-10-17T21:36:10.060Z"
   },
   {
    "duration": 818,
    "start_time": "2024-10-17T21:36:11.370Z"
   },
   {
    "duration": 15,
    "start_time": "2024-10-17T21:36:12.190Z"
   },
   {
    "duration": 19,
    "start_time": "2024-10-17T21:36:12.207Z"
   },
   {
    "duration": 7,
    "start_time": "2024-10-17T21:36:12.228Z"
   },
   {
    "duration": 6,
    "start_time": "2024-10-17T21:36:12.241Z"
   },
   {
    "duration": 12,
    "start_time": "2024-10-17T21:36:12.249Z"
   },
   {
    "duration": 3,
    "start_time": "2024-10-17T21:36:12.263Z"
   },
   {
    "duration": 2,
    "start_time": "2024-10-17T21:36:12.269Z"
   },
   {
    "duration": 3,
    "start_time": "2024-10-17T21:36:12.273Z"
   },
   {
    "duration": 2,
    "start_time": "2024-10-17T21:36:12.278Z"
   },
   {
    "duration": 41,
    "start_time": "2024-10-17T21:36:12.283Z"
   },
   {
    "duration": 3,
    "start_time": "2024-10-17T21:36:12.326Z"
   },
   {
    "duration": 3,
    "start_time": "2024-10-17T21:36:12.331Z"
   },
   {
    "duration": 17,
    "start_time": "2024-10-17T21:38:58.788Z"
   },
   {
    "duration": 11,
    "start_time": "2024-10-17T21:39:35.782Z"
   },
   {
    "duration": 13,
    "start_time": "2024-10-17T21:44:01.754Z"
   },
   {
    "duration": 8,
    "start_time": "2024-10-17T21:44:14.021Z"
   },
   {
    "duration": 62,
    "start_time": "2024-10-17T21:44:41.065Z"
   },
   {
    "duration": 268,
    "start_time": "2024-10-17T21:49:20.470Z"
   },
   {
    "duration": 31,
    "start_time": "2024-10-17T21:49:26.812Z"
   },
   {
    "duration": 26,
    "start_time": "2024-10-17T21:51:04.865Z"
   },
   {
    "duration": 46,
    "start_time": "2024-10-17T21:51:30.243Z"
   },
   {
    "duration": 50,
    "start_time": "2024-10-17T21:51:52.057Z"
   },
   {
    "duration": 59,
    "start_time": "2024-10-17T21:52:31.216Z"
   },
   {
    "duration": 64,
    "start_time": "2024-10-17T21:52:41.977Z"
   },
   {
    "duration": 43,
    "start_time": "2024-10-17T21:52:49.345Z"
   },
   {
    "duration": 48,
    "start_time": "2024-10-17T21:53:50.626Z"
   },
   {
    "duration": 45,
    "start_time": "2024-10-17T21:54:12.555Z"
   },
   {
    "duration": 46,
    "start_time": "2024-10-17T21:54:25.748Z"
   },
   {
    "duration": 47,
    "start_time": "2024-10-17T21:54:47.063Z"
   },
   {
    "duration": 42,
    "start_time": "2024-10-17T21:55:02.963Z"
   },
   {
    "duration": 7,
    "start_time": "2024-10-17T21:55:13.274Z"
   },
   {
    "duration": 46,
    "start_time": "2024-10-17T21:55:38.709Z"
   },
   {
    "duration": 4,
    "start_time": "2024-10-17T21:55:50.220Z"
   },
   {
    "duration": 45,
    "start_time": "2024-10-17T21:56:11.893Z"
   },
   {
    "duration": 45,
    "start_time": "2024-10-17T21:57:07.823Z"
   },
   {
    "duration": 5,
    "start_time": "2024-10-17T21:57:22.718Z"
   },
   {
    "duration": 45,
    "start_time": "2024-10-17T21:57:46.658Z"
   },
   {
    "duration": 46,
    "start_time": "2024-10-17T21:58:18.216Z"
   },
   {
    "duration": 9,
    "start_time": "2024-10-17T22:02:56.355Z"
   },
   {
    "duration": 25,
    "start_time": "2024-10-17T22:03:16.063Z"
   },
   {
    "duration": 680,
    "start_time": "2024-10-17T22:05:50.469Z"
   },
   {
    "duration": 8,
    "start_time": "2024-10-17T22:06:17.404Z"
   },
   {
    "duration": 3,
    "start_time": "2024-10-17T22:06:19.243Z"
   },
   {
    "duration": 17,
    "start_time": "2024-10-17T22:06:27.092Z"
   },
   {
    "duration": 28,
    "start_time": "2024-10-17T22:10:15.254Z"
   },
   {
    "duration": 70,
    "start_time": "2024-10-17T22:11:58.212Z"
   },
   {
    "duration": 65,
    "start_time": "2024-10-17T22:12:41.961Z"
   },
   {
    "duration": 64,
    "start_time": "2024-10-17T22:13:22.111Z"
   },
   {
    "duration": 71,
    "start_time": "2024-10-17T22:13:45.061Z"
   },
   {
    "duration": 26,
    "start_time": "2024-10-17T22:13:57.415Z"
   },
   {
    "duration": 6,
    "start_time": "2024-10-17T22:16:33.097Z"
   },
   {
    "duration": 23,
    "start_time": "2024-10-17T22:16:38.965Z"
   },
   {
    "duration": 22,
    "start_time": "2024-10-17T22:16:49.122Z"
   },
   {
    "duration": 8,
    "start_time": "2024-10-17T22:19:53.516Z"
   },
   {
    "duration": 4,
    "start_time": "2024-10-17T22:20:15.074Z"
   },
   {
    "duration": 7,
    "start_time": "2024-10-17T22:20:59.653Z"
   },
   {
    "duration": 2159,
    "start_time": "2024-10-18T15:21:45.380Z"
   },
   {
    "duration": 1010,
    "start_time": "2024-10-18T15:21:47.541Z"
   },
   {
    "duration": 12,
    "start_time": "2024-10-18T15:21:48.552Z"
   },
   {
    "duration": 10,
    "start_time": "2024-10-18T15:21:48.567Z"
   },
   {
    "duration": 8,
    "start_time": "2024-10-18T15:21:48.578Z"
   },
   {
    "duration": 29,
    "start_time": "2024-10-18T15:21:48.587Z"
   },
   {
    "duration": 29,
    "start_time": "2024-10-18T15:21:48.618Z"
   },
   {
    "duration": 99,
    "start_time": "2024-10-18T15:21:48.649Z"
   },
   {
    "duration": 9,
    "start_time": "2024-10-18T15:21:48.750Z"
   },
   {
    "duration": 104,
    "start_time": "2024-10-18T15:21:48.762Z"
   },
   {
    "duration": 91,
    "start_time": "2024-10-18T15:21:48.868Z"
   },
   {
    "duration": 34,
    "start_time": "2024-10-18T15:21:48.961Z"
   },
   {
    "duration": 28,
    "start_time": "2024-10-18T15:21:48.998Z"
   },
   {
    "duration": 7,
    "start_time": "2024-10-18T15:21:49.028Z"
   },
   {
    "duration": 27,
    "start_time": "2024-10-18T15:21:49.036Z"
   },
   {
    "duration": 46,
    "start_time": "2024-10-18T15:21:49.065Z"
   },
   {
    "duration": 7,
    "start_time": "2024-10-18T15:21:49.115Z"
   },
   {
    "duration": 46,
    "start_time": "2024-10-18T15:21:49.124Z"
   },
   {
    "duration": 4,
    "start_time": "2024-10-18T15:21:49.172Z"
   },
   {
    "duration": 5,
    "start_time": "2024-10-18T15:21:49.177Z"
   },
   {
    "duration": 4,
    "start_time": "2024-10-18T15:21:49.209Z"
   },
   {
    "duration": 4,
    "start_time": "2024-10-18T15:21:49.215Z"
   },
   {
    "duration": 790,
    "start_time": "2024-10-18T15:21:49.221Z"
   },
   {
    "duration": 740,
    "start_time": "2024-10-18T15:21:50.013Z"
   },
   {
    "duration": 12,
    "start_time": "2024-10-18T15:21:50.755Z"
   },
   {
    "duration": 8,
    "start_time": "2024-10-18T15:21:50.769Z"
   },
   {
    "duration": 6,
    "start_time": "2024-10-18T15:21:50.778Z"
   },
   {
    "duration": 6,
    "start_time": "2024-10-18T15:21:50.808Z"
   },
   {
    "duration": 8,
    "start_time": "2024-10-18T15:21:50.816Z"
   },
   {
    "duration": 7,
    "start_time": "2024-10-18T15:21:50.825Z"
   },
   {
    "duration": 37,
    "start_time": "2024-10-18T15:21:50.834Z"
   },
   {
    "duration": 49,
    "start_time": "2024-10-18T15:21:50.873Z"
   },
   {
    "duration": 30,
    "start_time": "2024-10-18T15:21:50.924Z"
   },
   {
    "duration": 5,
    "start_time": "2024-10-18T15:21:50.956Z"
   },
   {
    "duration": 0,
    "start_time": "2024-10-18T15:21:50.962Z"
   },
   {
    "duration": 0,
    "start_time": "2024-10-18T15:21:50.963Z"
   },
   {
    "duration": 5,
    "start_time": "2024-10-18T15:23:15.978Z"
   },
   {
    "duration": 1240,
    "start_time": "2024-10-18T15:23:50.120Z"
   },
   {
    "duration": 3,
    "start_time": "2024-10-18T15:23:51.839Z"
   },
   {
    "duration": 15,
    "start_time": "2024-10-18T15:25:04.156Z"
   },
   {
    "duration": 21,
    "start_time": "2024-10-18T15:31:37.269Z"
   },
   {
    "duration": 9,
    "start_time": "2024-10-18T15:32:51.551Z"
   },
   {
    "duration": 9,
    "start_time": "2024-10-18T15:33:17.602Z"
   },
   {
    "duration": 7,
    "start_time": "2024-10-18T15:34:21.639Z"
   },
   {
    "duration": 274,
    "start_time": "2024-10-18T15:34:35.100Z"
   },
   {
    "duration": 16,
    "start_time": "2024-10-18T15:35:01.028Z"
   },
   {
    "duration": 7,
    "start_time": "2024-10-18T15:35:21.542Z"
   },
   {
    "duration": 7,
    "start_time": "2024-10-18T15:35:41.707Z"
   },
   {
    "duration": 7,
    "start_time": "2024-10-18T15:36:04.242Z"
   },
   {
    "duration": 12,
    "start_time": "2024-10-18T15:39:50.351Z"
   },
   {
    "duration": 5,
    "start_time": "2024-10-18T15:46:02.616Z"
   },
   {
    "duration": 6,
    "start_time": "2024-10-18T15:46:31.702Z"
   },
   {
    "duration": 7,
    "start_time": "2024-10-18T15:46:45.059Z"
   },
   {
    "duration": 5,
    "start_time": "2024-10-18T15:46:59.332Z"
   },
   {
    "duration": 8,
    "start_time": "2024-10-18T15:47:04.541Z"
   },
   {
    "duration": 21,
    "start_time": "2024-10-18T15:48:12.194Z"
   },
   {
    "duration": 6,
    "start_time": "2024-10-18T15:48:58.752Z"
   },
   {
    "duration": 21,
    "start_time": "2024-10-18T15:50:01.780Z"
   },
   {
    "duration": 7,
    "start_time": "2024-10-18T15:50:27.630Z"
   },
   {
    "duration": 562,
    "start_time": "2024-10-18T15:59:17.622Z"
   },
   {
    "duration": 21,
    "start_time": "2024-10-18T15:59:42.129Z"
   },
   {
    "duration": 26,
    "start_time": "2024-10-18T16:00:28.768Z"
   },
   {
    "duration": 132,
    "start_time": "2024-10-18T16:00:49.520Z"
   },
   {
    "duration": 148,
    "start_time": "2024-10-18T16:00:56.429Z"
   },
   {
    "duration": 153,
    "start_time": "2024-10-18T16:00:59.948Z"
   },
   {
    "duration": 187,
    "start_time": "2024-10-18T16:01:04.870Z"
   },
   {
    "duration": 156,
    "start_time": "2024-10-18T16:01:11.953Z"
   },
   {
    "duration": 119,
    "start_time": "2024-10-18T16:01:25.030Z"
   },
   {
    "duration": 141,
    "start_time": "2024-10-18T16:01:31.401Z"
   },
   {
    "duration": 134,
    "start_time": "2024-10-18T16:01:40.090Z"
   },
   {
    "duration": 124,
    "start_time": "2024-10-18T16:01:45.764Z"
   },
   {
    "duration": 165,
    "start_time": "2024-10-18T16:01:57.453Z"
   },
   {
    "duration": 30,
    "start_time": "2024-10-18T16:02:32.856Z"
   },
   {
    "duration": 484,
    "start_time": "2024-10-18T16:03:17.098Z"
   },
   {
    "duration": 153,
    "start_time": "2024-10-18T16:03:36.233Z"
   },
   {
    "duration": 204,
    "start_time": "2024-10-18T16:04:24.397Z"
   },
   {
    "duration": 162,
    "start_time": "2024-10-18T16:04:51.707Z"
   },
   {
    "duration": 5,
    "start_time": "2024-10-18T16:09:01.238Z"
   },
   {
    "duration": 15,
    "start_time": "2024-10-18T16:09:36.431Z"
   },
   {
    "duration": 15,
    "start_time": "2024-10-18T16:09:46.975Z"
   },
   {
    "duration": 6,
    "start_time": "2024-10-18T16:09:58.083Z"
   },
   {
    "duration": 14,
    "start_time": "2024-10-18T16:10:29.373Z"
   },
   {
    "duration": 5,
    "start_time": "2024-10-18T16:10:37.749Z"
   },
   {
    "duration": 14,
    "start_time": "2024-10-18T16:12:47.074Z"
   },
   {
    "duration": 4,
    "start_time": "2024-10-18T16:13:04.102Z"
   },
   {
    "duration": 4,
    "start_time": "2024-10-18T16:13:08.070Z"
   },
   {
    "duration": 4,
    "start_time": "2024-10-18T16:13:17.664Z"
   },
   {
    "duration": 6,
    "start_time": "2024-10-18T16:13:26.633Z"
   },
   {
    "duration": 6,
    "start_time": "2024-10-18T16:13:51.556Z"
   },
   {
    "duration": 16,
    "start_time": "2024-10-18T16:33:17.107Z"
   },
   {
    "duration": 9,
    "start_time": "2024-10-18T16:33:39.884Z"
   },
   {
    "duration": 10,
    "start_time": "2024-10-18T16:35:39.007Z"
   },
   {
    "duration": 117,
    "start_time": "2024-10-18T16:37:31.568Z"
   },
   {
    "duration": 120,
    "start_time": "2024-10-18T16:38:14.735Z"
   },
   {
    "duration": 413,
    "start_time": "2024-10-18T16:48:57.537Z"
   },
   {
    "duration": 21,
    "start_time": "2024-10-18T16:51:37.541Z"
   },
   {
    "duration": 50,
    "start_time": "2024-10-18T16:55:05.569Z"
   },
   {
    "duration": 51,
    "start_time": "2024-10-18T16:56:18.119Z"
   },
   {
    "duration": 64,
    "start_time": "2024-10-18T16:57:44.678Z"
   },
   {
    "duration": 106,
    "start_time": "2024-10-18T17:01:26.282Z"
   },
   {
    "duration": 105,
    "start_time": "2024-10-18T17:02:25.875Z"
   },
   {
    "duration": 172,
    "start_time": "2024-10-18T17:03:09.382Z"
   },
   {
    "duration": 105,
    "start_time": "2024-10-18T17:04:12.783Z"
   },
   {
    "duration": 184,
    "start_time": "2024-10-18T17:07:27.874Z"
   },
   {
    "duration": 114,
    "start_time": "2024-10-18T17:08:17.368Z"
   },
   {
    "duration": 645,
    "start_time": "2024-10-18T21:45:20.112Z"
   },
   {
    "duration": 114,
    "start_time": "2024-10-18T21:45:48.742Z"
   },
   {
    "duration": 121,
    "start_time": "2024-10-18T21:47:46.480Z"
   },
   {
    "duration": 127,
    "start_time": "2024-10-18T21:48:57.749Z"
   },
   {
    "duration": 193,
    "start_time": "2024-10-18T21:51:31.649Z"
   },
   {
    "duration": 102,
    "start_time": "2024-10-18T21:51:50.371Z"
   },
   {
    "duration": 267,
    "start_time": "2024-10-18T21:53:39.776Z"
   },
   {
    "duration": 100,
    "start_time": "2024-10-18T21:53:51.858Z"
   },
   {
    "duration": 101,
    "start_time": "2024-10-18T21:54:03.358Z"
   },
   {
    "duration": 4,
    "start_time": "2024-10-18T22:10:57.152Z"
   },
   {
    "duration": 4,
    "start_time": "2024-10-18T22:11:09.218Z"
   },
   {
    "duration": 9,
    "start_time": "2024-10-18T22:11:25.385Z"
   },
   {
    "duration": 17,
    "start_time": "2024-10-18T22:13:50.132Z"
   },
   {
    "duration": 229,
    "start_time": "2024-10-18T22:14:32.957Z"
   },
   {
    "duration": 93,
    "start_time": "2024-10-18T22:15:31.222Z"
   },
   {
    "duration": 4,
    "start_time": "2024-10-18T22:16:09.748Z"
   },
   {
    "duration": 3,
    "start_time": "2024-10-18T22:16:12.751Z"
   },
   {
    "duration": 5,
    "start_time": "2024-10-18T22:16:30.584Z"
   },
   {
    "duration": 104,
    "start_time": "2024-10-18T22:17:39.586Z"
   },
   {
    "duration": 162,
    "start_time": "2024-10-18T22:17:57.249Z"
   },
   {
    "duration": 153,
    "start_time": "2024-10-18T22:17:59.295Z"
   },
   {
    "duration": 152,
    "start_time": "2024-10-18T22:18:10.059Z"
   },
   {
    "duration": 430,
    "start_time": "2024-10-18T22:18:31.382Z"
   },
   {
    "duration": 900,
    "start_time": "2024-10-18T22:18:31.815Z"
   },
   {
    "duration": 12,
    "start_time": "2024-10-18T22:18:32.717Z"
   },
   {
    "duration": 12,
    "start_time": "2024-10-18T22:18:32.730Z"
   },
   {
    "duration": 9,
    "start_time": "2024-10-18T22:18:32.745Z"
   },
   {
    "duration": 8,
    "start_time": "2024-10-18T22:18:32.756Z"
   },
   {
    "duration": 54,
    "start_time": "2024-10-18T22:18:32.765Z"
   },
   {
    "duration": 69,
    "start_time": "2024-10-18T22:18:32.821Z"
   },
   {
    "duration": 23,
    "start_time": "2024-10-18T22:18:32.892Z"
   },
   {
    "duration": 106,
    "start_time": "2024-10-18T22:18:32.916Z"
   },
   {
    "duration": 92,
    "start_time": "2024-10-18T22:18:33.024Z"
   },
   {
    "duration": 28,
    "start_time": "2024-10-18T22:18:33.119Z"
   },
   {
    "duration": 22,
    "start_time": "2024-10-18T22:18:33.149Z"
   },
   {
    "duration": 6,
    "start_time": "2024-10-18T22:18:33.174Z"
   },
   {
    "duration": 49,
    "start_time": "2024-10-18T22:18:33.181Z"
   },
   {
    "duration": 20,
    "start_time": "2024-10-18T22:18:33.232Z"
   },
   {
    "duration": 7,
    "start_time": "2024-10-18T22:18:33.253Z"
   },
   {
    "duration": 65,
    "start_time": "2024-10-18T22:18:33.262Z"
   },
   {
    "duration": 4,
    "start_time": "2024-10-18T22:18:33.329Z"
   },
   {
    "duration": 5,
    "start_time": "2024-10-18T22:18:33.335Z"
   },
   {
    "duration": 4,
    "start_time": "2024-10-18T22:18:33.341Z"
   },
   {
    "duration": 4,
    "start_time": "2024-10-18T22:18:33.347Z"
   },
   {
    "duration": 775,
    "start_time": "2024-10-18T22:18:33.352Z"
   },
   {
    "duration": 741,
    "start_time": "2024-10-18T22:18:34.129Z"
   },
   {
    "duration": 15,
    "start_time": "2024-10-18T22:18:34.873Z"
   },
   {
    "duration": 20,
    "start_time": "2024-10-18T22:18:34.890Z"
   },
   {
    "duration": 6,
    "start_time": "2024-10-18T22:18:34.912Z"
   },
   {
    "duration": 5,
    "start_time": "2024-10-18T22:18:34.921Z"
   },
   {
    "duration": 8,
    "start_time": "2024-10-18T22:18:34.927Z"
   },
   {
    "duration": 6,
    "start_time": "2024-10-18T22:18:34.937Z"
   },
   {
    "duration": 68,
    "start_time": "2024-10-18T22:18:34.944Z"
   },
   {
    "duration": 18,
    "start_time": "2024-10-18T22:18:35.014Z"
   },
   {
    "duration": 31,
    "start_time": "2024-10-18T22:18:35.034Z"
   },
   {
    "duration": 13,
    "start_time": "2024-10-18T22:18:35.067Z"
   },
   {
    "duration": 46,
    "start_time": "2024-10-18T22:18:35.082Z"
   },
   {
    "duration": 53,
    "start_time": "2024-10-18T22:18:35.130Z"
   },
   {
    "duration": 26,
    "start_time": "2024-10-18T22:18:35.185Z"
   },
   {
    "duration": 5,
    "start_time": "2024-10-18T22:18:35.213Z"
   },
   {
    "duration": 207,
    "start_time": "2024-10-18T22:18:35.220Z"
   },
   {
    "duration": 131,
    "start_time": "2024-10-18T22:18:35.429Z"
   },
   {
    "duration": 109,
    "start_time": "2024-10-18T22:18:35.565Z"
   },
   {
    "duration": 1110,
    "start_time": "2024-10-18T22:18:35.676Z"
   },
   {
    "duration": 9,
    "start_time": "2024-10-18T22:18:52.173Z"
   },
   {
    "duration": 122,
    "start_time": "2024-10-18T22:29:35.116Z"
   },
   {
    "duration": 127,
    "start_time": "2024-10-18T22:30:38.459Z"
   },
   {
    "duration": 214,
    "start_time": "2024-10-18T22:31:36.488Z"
   },
   {
    "duration": 126,
    "start_time": "2024-10-18T22:32:26.570Z"
   },
   {
    "duration": 128,
    "start_time": "2024-10-18T22:32:43.646Z"
   },
   {
    "duration": 132,
    "start_time": "2024-10-18T22:32:49.308Z"
   },
   {
    "duration": 5,
    "start_time": "2024-10-18T22:35:53.602Z"
   },
   {
    "duration": 7,
    "start_time": "2024-10-18T22:36:13.305Z"
   },
   {
    "duration": 152,
    "start_time": "2024-10-18T22:38:09.044Z"
   },
   {
    "duration": 155,
    "start_time": "2024-10-18T22:38:17.767Z"
   },
   {
    "duration": 142,
    "start_time": "2024-10-18T22:38:24.560Z"
   },
   {
    "duration": 163,
    "start_time": "2024-10-18T22:38:31.510Z"
   },
   {
    "duration": 154,
    "start_time": "2024-10-18T22:38:38.258Z"
   },
   {
    "duration": 155,
    "start_time": "2024-10-18T22:38:44.083Z"
   },
   {
    "duration": 148,
    "start_time": "2024-10-18T22:38:51.753Z"
   },
   {
    "duration": 189,
    "start_time": "2024-10-18T22:38:57.164Z"
   },
   {
    "duration": 272,
    "start_time": "2024-10-18T22:39:02.561Z"
   },
   {
    "duration": 159,
    "start_time": "2024-10-18T22:39:07.305Z"
   },
   {
    "duration": 1060,
    "start_time": "2024-10-18T22:39:13.479Z"
   },
   {
    "duration": 159,
    "start_time": "2024-10-18T22:39:20.452Z"
   },
   {
    "duration": 115,
    "start_time": "2024-10-18T22:40:02.319Z"
   },
   {
    "duration": 117,
    "start_time": "2024-10-18T22:40:05.162Z"
   },
   {
    "duration": 154,
    "start_time": "2024-10-18T22:41:42.919Z"
   },
   {
    "duration": 180,
    "start_time": "2024-10-18T22:42:42.833Z"
   },
   {
    "duration": 186,
    "start_time": "2024-10-18T22:42:56.716Z"
   },
   {
    "duration": 334,
    "start_time": "2024-10-18T23:04:26.981Z"
   },
   {
    "duration": 66,
    "start_time": "2024-10-18T23:05:23.004Z"
   },
   {
    "duration": 199,
    "start_time": "2024-10-18T23:05:33.111Z"
   },
   {
    "duration": 104,
    "start_time": "2024-10-18T23:06:51.941Z"
   },
   {
    "duration": 943,
    "start_time": "2024-10-18T23:07:14.805Z"
   },
   {
    "duration": 1018,
    "start_time": "2024-10-18T23:07:34.162Z"
   },
   {
    "duration": 6,
    "start_time": "2024-10-18T23:18:17.271Z"
   },
   {
    "duration": 10,
    "start_time": "2024-10-18T23:18:25.914Z"
   },
   {
    "duration": 9,
    "start_time": "2024-10-18T23:23:15.639Z"
   },
   {
    "duration": 9,
    "start_time": "2024-10-18T23:25:09.317Z"
   },
   {
    "duration": 24,
    "start_time": "2024-10-18T23:29:41.506Z"
   },
   {
    "duration": 26,
    "start_time": "2024-10-18T23:29:51.775Z"
   },
   {
    "duration": 5,
    "start_time": "2024-10-18T23:30:32.613Z"
   },
   {
    "duration": 5,
    "start_time": "2024-10-18T23:32:50.716Z"
   },
   {
    "duration": 4,
    "start_time": "2024-10-18T23:34:52.208Z"
   },
   {
    "duration": 4,
    "start_time": "2024-10-18T23:34:54.849Z"
   },
   {
    "duration": 5,
    "start_time": "2024-10-18T23:35:08.141Z"
   },
   {
    "duration": 213,
    "start_time": "2024-10-18T23:37:28.050Z"
   },
   {
    "duration": 209,
    "start_time": "2024-10-18T23:37:54.806Z"
   },
   {
    "duration": 139,
    "start_time": "2024-10-18T23:42:13.599Z"
   },
   {
    "duration": 138,
    "start_time": "2024-10-18T23:43:07.041Z"
   },
   {
    "duration": 135,
    "start_time": "2024-10-18T23:47:33.165Z"
   },
   {
    "duration": 2124,
    "start_time": "2024-10-21T16:02:27.724Z"
   },
   {
    "duration": 1006,
    "start_time": "2024-10-21T16:02:29.850Z"
   },
   {
    "duration": 11,
    "start_time": "2024-10-21T16:02:30.858Z"
   },
   {
    "duration": 9,
    "start_time": "2024-10-21T16:02:30.871Z"
   },
   {
    "duration": 22,
    "start_time": "2024-10-21T16:02:30.883Z"
   },
   {
    "duration": 8,
    "start_time": "2024-10-21T16:02:30.907Z"
   },
   {
    "duration": 23,
    "start_time": "2024-10-21T16:02:30.917Z"
   },
   {
    "duration": 97,
    "start_time": "2024-10-21T16:02:30.942Z"
   },
   {
    "duration": 8,
    "start_time": "2024-10-21T16:02:31.041Z"
   },
   {
    "duration": 108,
    "start_time": "2024-10-21T16:02:31.052Z"
   },
   {
    "duration": 93,
    "start_time": "2024-10-21T16:02:31.162Z"
   },
   {
    "duration": 41,
    "start_time": "2024-10-21T16:02:31.258Z"
   },
   {
    "duration": 22,
    "start_time": "2024-10-21T16:02:31.301Z"
   },
   {
    "duration": 7,
    "start_time": "2024-10-21T16:02:31.325Z"
   },
   {
    "duration": 26,
    "start_time": "2024-10-21T16:02:31.334Z"
   },
   {
    "duration": 44,
    "start_time": "2024-10-21T16:02:31.361Z"
   },
   {
    "duration": 6,
    "start_time": "2024-10-21T16:02:31.407Z"
   },
   {
    "duration": 42,
    "start_time": "2024-10-21T16:02:31.416Z"
   },
   {
    "duration": 4,
    "start_time": "2024-10-21T16:02:31.460Z"
   },
   {
    "duration": 5,
    "start_time": "2024-10-21T16:02:31.466Z"
   },
   {
    "duration": 6,
    "start_time": "2024-10-21T16:02:31.472Z"
   },
   {
    "duration": 3,
    "start_time": "2024-10-21T16:02:31.505Z"
   },
   {
    "duration": 765,
    "start_time": "2024-10-21T16:02:31.510Z"
   },
   {
    "duration": 899,
    "start_time": "2024-10-21T16:02:32.277Z"
   },
   {
    "duration": 16,
    "start_time": "2024-10-21T16:02:33.178Z"
   },
   {
    "duration": 21,
    "start_time": "2024-10-21T16:02:33.196Z"
   },
   {
    "duration": 10,
    "start_time": "2024-10-21T16:02:33.219Z"
   },
   {
    "duration": 10,
    "start_time": "2024-10-21T16:02:33.233Z"
   },
   {
    "duration": 9,
    "start_time": "2024-10-21T16:02:33.247Z"
   },
   {
    "duration": 12,
    "start_time": "2024-10-21T16:02:33.258Z"
   },
   {
    "duration": 55,
    "start_time": "2024-10-21T16:02:33.272Z"
   },
   {
    "duration": 18,
    "start_time": "2024-10-21T16:02:33.328Z"
   },
   {
    "duration": 30,
    "start_time": "2024-10-21T16:02:33.347Z"
   },
   {
    "duration": 32,
    "start_time": "2024-10-21T16:02:33.379Z"
   },
   {
    "duration": 22,
    "start_time": "2024-10-21T16:02:33.413Z"
   },
   {
    "duration": 50,
    "start_time": "2024-10-21T16:02:33.437Z"
   },
   {
    "duration": 6,
    "start_time": "2024-10-21T16:02:33.505Z"
   },
   {
    "duration": 5,
    "start_time": "2024-10-21T16:02:33.513Z"
   },
   {
    "duration": 195,
    "start_time": "2024-10-21T16:02:33.519Z"
   },
   {
    "duration": 165,
    "start_time": "2024-10-21T16:02:33.715Z"
   },
   {
    "duration": 133,
    "start_time": "2024-10-21T16:02:33.882Z"
   },
   {
    "duration": 18,
    "start_time": "2024-10-21T16:02:34.017Z"
   },
   {
    "duration": 10,
    "start_time": "2024-10-21T16:02:34.037Z"
   },
   {
    "duration": 5,
    "start_time": "2024-10-21T16:02:34.048Z"
   },
   {
    "duration": 250,
    "start_time": "2024-10-21T16:02:34.055Z"
   },
   {
    "duration": 137,
    "start_time": "2024-10-21T16:02:34.306Z"
   },
   {
    "duration": 7,
    "start_time": "2024-10-21T16:39:37.150Z"
   },
   {
    "duration": 189,
    "start_time": "2024-10-21T16:43:28.750Z"
   },
   {
    "duration": 114,
    "start_time": "2024-10-21T16:43:45.040Z"
   },
   {
    "duration": 115,
    "start_time": "2024-10-21T16:43:58.416Z"
   },
   {
    "duration": 135,
    "start_time": "2024-10-21T16:44:36.317Z"
   },
   {
    "duration": 140,
    "start_time": "2024-10-21T16:44:46.914Z"
   },
   {
    "duration": 9,
    "start_time": "2024-10-21T16:56:50.122Z"
   },
   {
    "duration": 12,
    "start_time": "2024-10-21T16:57:18.836Z"
   },
   {
    "duration": 17,
    "start_time": "2024-10-21T17:50:31.693Z"
   },
   {
    "duration": 12,
    "start_time": "2024-10-21T17:50:48.771Z"
   },
   {
    "duration": 12,
    "start_time": "2024-10-21T17:51:24.242Z"
   },
   {
    "duration": 132,
    "start_time": "2024-10-21T17:51:45.728Z"
   },
   {
    "duration": 236,
    "start_time": "2024-10-21T17:51:49.344Z"
   },
   {
    "duration": 193,
    "start_time": "2024-10-21T17:52:31.130Z"
   },
   {
    "duration": 339,
    "start_time": "2024-10-21T17:53:12.866Z"
   },
   {
    "duration": 6,
    "start_time": "2024-10-21T17:56:24.812Z"
   },
   {
    "duration": 342,
    "start_time": "2024-10-21T17:58:07.039Z"
   },
   {
    "duration": 147,
    "start_time": "2024-10-21T17:58:28.262Z"
   },
   {
    "duration": 123,
    "start_time": "2024-10-21T18:00:39.437Z"
   },
   {
    "duration": 135,
    "start_time": "2024-10-21T18:00:46.441Z"
   },
   {
    "duration": 445,
    "start_time": "2024-10-21T18:01:27.829Z"
   },
   {
    "duration": 930,
    "start_time": "2024-10-21T18:01:28.276Z"
   },
   {
    "duration": 15,
    "start_time": "2024-10-21T18:01:29.208Z"
   },
   {
    "duration": 11,
    "start_time": "2024-10-21T18:01:29.225Z"
   },
   {
    "duration": 7,
    "start_time": "2024-10-21T18:01:29.238Z"
   },
   {
    "duration": 8,
    "start_time": "2024-10-21T18:01:29.248Z"
   },
   {
    "duration": 62,
    "start_time": "2024-10-21T18:01:29.258Z"
   },
   {
    "duration": 68,
    "start_time": "2024-10-21T18:01:29.322Z"
   },
   {
    "duration": 21,
    "start_time": "2024-10-21T18:01:29.392Z"
   },
   {
    "duration": 105,
    "start_time": "2024-10-21T18:01:29.417Z"
   },
   {
    "duration": 82,
    "start_time": "2024-10-21T18:01:29.524Z"
   },
   {
    "duration": 28,
    "start_time": "2024-10-21T18:01:29.608Z"
   },
   {
    "duration": 21,
    "start_time": "2024-10-21T18:01:29.637Z"
   },
   {
    "duration": 7,
    "start_time": "2024-10-21T18:01:29.659Z"
   },
   {
    "duration": 56,
    "start_time": "2024-10-21T18:01:29.667Z"
   },
   {
    "duration": 23,
    "start_time": "2024-10-21T18:01:29.724Z"
   },
   {
    "duration": 7,
    "start_time": "2024-10-21T18:01:29.749Z"
   },
   {
    "duration": 64,
    "start_time": "2024-10-21T18:01:29.758Z"
   },
   {
    "duration": 5,
    "start_time": "2024-10-21T18:01:29.825Z"
   },
   {
    "duration": 5,
    "start_time": "2024-10-21T18:01:29.831Z"
   },
   {
    "duration": 5,
    "start_time": "2024-10-21T18:01:29.838Z"
   },
   {
    "duration": 5,
    "start_time": "2024-10-21T18:01:29.845Z"
   },
   {
    "duration": 791,
    "start_time": "2024-10-21T18:01:29.852Z"
   },
   {
    "duration": 712,
    "start_time": "2024-10-21T18:01:30.644Z"
   },
   {
    "duration": 13,
    "start_time": "2024-10-21T18:01:31.359Z"
   },
   {
    "duration": 6,
    "start_time": "2024-10-21T18:01:31.373Z"
   },
   {
    "duration": 27,
    "start_time": "2024-10-21T18:01:31.380Z"
   },
   {
    "duration": 6,
    "start_time": "2024-10-21T18:01:31.411Z"
   },
   {
    "duration": 9,
    "start_time": "2024-10-21T18:01:31.418Z"
   },
   {
    "duration": 8,
    "start_time": "2024-10-21T18:01:31.429Z"
   },
   {
    "duration": 81,
    "start_time": "2024-10-21T18:01:31.439Z"
   },
   {
    "duration": 22,
    "start_time": "2024-10-21T18:01:31.522Z"
   },
   {
    "duration": 29,
    "start_time": "2024-10-21T18:01:31.546Z"
   },
   {
    "duration": 32,
    "start_time": "2024-10-21T18:01:31.577Z"
   },
   {
    "duration": 22,
    "start_time": "2024-10-21T18:01:31.611Z"
   },
   {
    "duration": 52,
    "start_time": "2024-10-21T18:01:31.634Z"
   },
   {
    "duration": 8,
    "start_time": "2024-10-21T18:01:31.707Z"
   },
   {
    "duration": 7,
    "start_time": "2024-10-21T18:01:31.717Z"
   },
   {
    "duration": 257,
    "start_time": "2024-10-21T18:01:31.726Z"
   },
   {
    "duration": 178,
    "start_time": "2024-10-21T18:01:31.985Z"
   },
   {
    "duration": 112,
    "start_time": "2024-10-21T18:01:32.165Z"
   },
   {
    "duration": 9,
    "start_time": "2024-10-21T18:01:32.279Z"
   },
   {
    "duration": 8,
    "start_time": "2024-10-21T18:01:32.304Z"
   },
   {
    "duration": 6,
    "start_time": "2024-10-21T18:01:32.314Z"
   },
   {
    "duration": 249,
    "start_time": "2024-10-21T18:01:32.322Z"
   },
   {
    "duration": 160,
    "start_time": "2024-10-21T18:01:32.574Z"
   },
   {
    "duration": 330,
    "start_time": "2024-10-21T18:01:32.738Z"
   },
   {
    "duration": 0,
    "start_time": "2024-10-21T18:01:33.070Z"
   },
   {
    "duration": 0,
    "start_time": "2024-10-21T18:01:33.071Z"
   },
   {
    "duration": 128,
    "start_time": "2024-10-21T18:01:50.753Z"
   },
   {
    "duration": 101,
    "start_time": "2024-10-21T18:02:04.142Z"
   },
   {
    "duration": 85,
    "start_time": "2024-10-21T18:02:20.205Z"
   },
   {
    "duration": 76,
    "start_time": "2024-10-21T18:02:30.516Z"
   },
   {
    "duration": 12,
    "start_time": "2024-10-21T18:03:49.736Z"
   },
   {
    "duration": 17,
    "start_time": "2024-10-21T18:04:19.792Z"
   },
   {
    "duration": 15,
    "start_time": "2024-10-21T18:04:45.940Z"
   },
   {
    "duration": 24,
    "start_time": "2024-10-21T18:05:08.222Z"
   },
   {
    "duration": 447,
    "start_time": "2024-10-21T18:08:12.153Z"
   },
   {
    "duration": 13,
    "start_time": "2024-10-21T19:02:29.543Z"
   },
   {
    "duration": 14,
    "start_time": "2024-10-21T19:02:53.410Z"
   },
   {
    "duration": 6,
    "start_time": "2024-10-21T19:03:25.298Z"
   },
   {
    "duration": 24,
    "start_time": "2024-10-21T19:03:52.184Z"
   },
   {
    "duration": 321,
    "start_time": "2024-10-21T19:04:06.499Z"
   },
   {
    "duration": 14,
    "start_time": "2024-10-21T19:05:28.792Z"
   },
   {
    "duration": 46,
    "start_time": "2024-10-21T19:05:55.381Z"
   },
   {
    "duration": 7,
    "start_time": "2024-10-21T19:06:11.829Z"
   },
   {
    "duration": 44,
    "start_time": "2024-10-21T19:06:46.115Z"
   },
   {
    "duration": 43,
    "start_time": "2024-10-21T19:07:11.012Z"
   },
   {
    "duration": 8,
    "start_time": "2024-10-21T19:07:30.000Z"
   },
   {
    "duration": 53,
    "start_time": "2024-10-21T19:11:59.481Z"
   },
   {
    "duration": 11,
    "start_time": "2024-10-21T19:18:34.520Z"
   },
   {
    "duration": 102,
    "start_time": "2024-10-21T19:19:28.872Z"
   },
   {
    "duration": 8,
    "start_time": "2024-10-21T19:19:34.697Z"
   },
   {
    "duration": 8,
    "start_time": "2024-10-21T19:19:41.162Z"
   },
   {
    "duration": 15,
    "start_time": "2024-10-21T19:19:46.772Z"
   },
   {
    "duration": 445,
    "start_time": "2024-10-21T19:19:53.927Z"
   },
   {
    "duration": 899,
    "start_time": "2024-10-21T19:19:54.374Z"
   },
   {
    "duration": 12,
    "start_time": "2024-10-21T19:19:55.275Z"
   },
   {
    "duration": 16,
    "start_time": "2024-10-21T19:19:55.289Z"
   },
   {
    "duration": 7,
    "start_time": "2024-10-21T19:19:55.308Z"
   },
   {
    "duration": 7,
    "start_time": "2024-10-21T19:19:55.317Z"
   },
   {
    "duration": 23,
    "start_time": "2024-10-21T19:19:55.326Z"
   },
   {
    "duration": 95,
    "start_time": "2024-10-21T19:19:55.350Z"
   },
   {
    "duration": 8,
    "start_time": "2024-10-21T19:19:55.446Z"
   },
   {
    "duration": 106,
    "start_time": "2024-10-21T19:19:55.456Z"
   },
   {
    "duration": 85,
    "start_time": "2024-10-21T19:19:55.564Z"
   },
   {
    "duration": 27,
    "start_time": "2024-10-21T19:19:55.651Z"
   },
   {
    "duration": 33,
    "start_time": "2024-10-21T19:19:55.679Z"
   },
   {
    "duration": 6,
    "start_time": "2024-10-21T19:19:55.715Z"
   },
   {
    "duration": 25,
    "start_time": "2024-10-21T19:19:55.723Z"
   },
   {
    "duration": 20,
    "start_time": "2024-10-21T19:19:55.749Z"
   },
   {
    "duration": 6,
    "start_time": "2024-10-21T19:19:55.771Z"
   },
   {
    "duration": 68,
    "start_time": "2024-10-21T19:19:55.779Z"
   },
   {
    "duration": 4,
    "start_time": "2024-10-21T19:19:55.849Z"
   },
   {
    "duration": 3,
    "start_time": "2024-10-21T19:19:55.855Z"
   },
   {
    "duration": 4,
    "start_time": "2024-10-21T19:19:55.860Z"
   },
   {
    "duration": 5,
    "start_time": "2024-10-21T19:19:55.865Z"
   },
   {
    "duration": 769,
    "start_time": "2024-10-21T19:19:55.871Z"
   },
   {
    "duration": 697,
    "start_time": "2024-10-21T19:19:56.641Z"
   },
   {
    "duration": 12,
    "start_time": "2024-10-21T19:19:57.340Z"
   },
   {
    "duration": 5,
    "start_time": "2024-10-21T19:19:57.354Z"
   },
   {
    "duration": 5,
    "start_time": "2024-10-21T19:19:57.361Z"
   },
   {
    "duration": 6,
    "start_time": "2024-10-21T19:19:57.368Z"
   },
   {
    "duration": 33,
    "start_time": "2024-10-21T19:19:57.376Z"
   },
   {
    "duration": 5,
    "start_time": "2024-10-21T19:19:57.411Z"
   },
   {
    "duration": 35,
    "start_time": "2024-10-21T19:19:57.418Z"
   },
   {
    "duration": 17,
    "start_time": "2024-10-21T19:19:57.455Z"
   },
   {
    "duration": 55,
    "start_time": "2024-10-21T19:19:57.473Z"
   },
   {
    "duration": 13,
    "start_time": "2024-10-21T19:19:57.530Z"
   },
   {
    "duration": 21,
    "start_time": "2024-10-21T19:19:57.545Z"
   },
   {
    "duration": 75,
    "start_time": "2024-10-21T19:19:57.567Z"
   },
   {
    "duration": 5,
    "start_time": "2024-10-21T19:19:57.644Z"
   },
   {
    "duration": 6,
    "start_time": "2024-10-21T19:19:57.651Z"
   },
   {
    "duration": 199,
    "start_time": "2024-10-21T19:19:57.658Z"
   },
   {
    "duration": 131,
    "start_time": "2024-10-21T19:19:57.859Z"
   },
   {
    "duration": 111,
    "start_time": "2024-10-21T19:19:57.995Z"
   },
   {
    "duration": 7,
    "start_time": "2024-10-21T19:19:58.108Z"
   },
   {
    "duration": 8,
    "start_time": "2024-10-21T19:19:58.117Z"
   },
   {
    "duration": 4,
    "start_time": "2024-10-21T19:19:58.127Z"
   },
   {
    "duration": 246,
    "start_time": "2024-10-21T19:19:58.133Z"
   },
   {
    "duration": 141,
    "start_time": "2024-10-21T19:19:58.381Z"
   },
   {
    "duration": 96,
    "start_time": "2024-10-21T19:19:58.524Z"
   },
   {
    "duration": 7,
    "start_time": "2024-10-21T19:19:58.622Z"
   },
   {
    "duration": 107,
    "start_time": "2024-10-21T19:19:58.630Z"
   },
   {
    "duration": 131,
    "start_time": "2024-10-21T20:54:50.739Z"
   },
   {
    "duration": 10,
    "start_time": "2024-10-21T20:54:53.511Z"
   },
   {
    "duration": 12,
    "start_time": "2024-10-21T20:54:58.186Z"
   },
   {
    "duration": 214,
    "start_time": "2024-10-21T20:55:26.594Z"
   },
   {
    "duration": 14,
    "start_time": "2024-10-21T20:56:23.203Z"
   },
   {
    "duration": 55,
    "start_time": "2024-10-21T20:57:32.276Z"
   },
   {
    "duration": 14,
    "start_time": "2024-10-21T21:13:01.834Z"
   },
   {
    "duration": 125,
    "start_time": "2024-10-21T21:13:16.675Z"
   },
   {
    "duration": 13,
    "start_time": "2024-10-21T21:14:24.806Z"
   },
   {
    "duration": 15,
    "start_time": "2024-10-21T21:14:40.025Z"
   },
   {
    "duration": 112,
    "start_time": "2024-10-21T21:23:56.202Z"
   },
   {
    "duration": 10,
    "start_time": "2024-10-21T21:25:39.925Z"
   },
   {
    "duration": 477,
    "start_time": "2024-10-21T21:25:54.948Z"
   },
   {
    "duration": 1127,
    "start_time": "2024-10-21T21:25:55.431Z"
   },
   {
    "duration": 12,
    "start_time": "2024-10-21T21:25:56.560Z"
   },
   {
    "duration": 10,
    "start_time": "2024-10-21T21:25:56.575Z"
   },
   {
    "duration": 29,
    "start_time": "2024-10-21T21:25:56.587Z"
   },
   {
    "duration": 17,
    "start_time": "2024-10-21T21:25:56.620Z"
   },
   {
    "duration": 31,
    "start_time": "2024-10-21T21:25:56.641Z"
   },
   {
    "duration": 85,
    "start_time": "2024-10-21T21:25:56.674Z"
   },
   {
    "duration": 7,
    "start_time": "2024-10-21T21:25:56.761Z"
   },
   {
    "duration": 104,
    "start_time": "2024-10-21T21:25:56.772Z"
   },
   {
    "duration": 92,
    "start_time": "2024-10-21T21:25:56.878Z"
   },
   {
    "duration": 37,
    "start_time": "2024-10-21T21:25:56.971Z"
   },
   {
    "duration": 25,
    "start_time": "2024-10-21T21:25:57.010Z"
   },
   {
    "duration": 9,
    "start_time": "2024-10-21T21:25:57.037Z"
   },
   {
    "duration": 27,
    "start_time": "2024-10-21T21:25:57.048Z"
   },
   {
    "duration": 48,
    "start_time": "2024-10-21T21:25:57.076Z"
   },
   {
    "duration": 10,
    "start_time": "2024-10-21T21:25:57.126Z"
   },
   {
    "duration": 50,
    "start_time": "2024-10-21T21:25:57.138Z"
   },
   {
    "duration": 18,
    "start_time": "2024-10-21T21:25:57.189Z"
   },
   {
    "duration": 4,
    "start_time": "2024-10-21T21:25:57.209Z"
   },
   {
    "duration": 4,
    "start_time": "2024-10-21T21:25:57.215Z"
   },
   {
    "duration": 4,
    "start_time": "2024-10-21T21:25:57.221Z"
   },
   {
    "duration": 892,
    "start_time": "2024-10-21T21:25:57.227Z"
   },
   {
    "duration": 776,
    "start_time": "2024-10-21T21:25:58.121Z"
   },
   {
    "duration": 17,
    "start_time": "2024-10-21T21:25:58.898Z"
   },
   {
    "duration": 6,
    "start_time": "2024-10-21T21:25:58.916Z"
   },
   {
    "duration": 6,
    "start_time": "2024-10-21T21:25:58.924Z"
   },
   {
    "duration": 6,
    "start_time": "2024-10-21T21:25:58.935Z"
   },
   {
    "duration": 8,
    "start_time": "2024-10-21T21:25:58.942Z"
   },
   {
    "duration": 7,
    "start_time": "2024-10-21T21:25:58.952Z"
   },
   {
    "duration": 85,
    "start_time": "2024-10-21T21:25:58.960Z"
   },
   {
    "duration": 23,
    "start_time": "2024-10-21T21:25:59.047Z"
   },
   {
    "duration": 34,
    "start_time": "2024-10-21T21:25:59.071Z"
   },
   {
    "duration": 15,
    "start_time": "2024-10-21T21:25:59.107Z"
   },
   {
    "duration": 23,
    "start_time": "2024-10-21T21:25:59.123Z"
   },
   {
    "duration": 76,
    "start_time": "2024-10-21T21:25:59.148Z"
   },
   {
    "duration": 7,
    "start_time": "2024-10-21T21:25:59.226Z"
   },
   {
    "duration": 6,
    "start_time": "2024-10-21T21:25:59.235Z"
   },
   {
    "duration": 205,
    "start_time": "2024-10-21T21:25:59.243Z"
   },
   {
    "duration": 135,
    "start_time": "2024-10-21T21:25:59.450Z"
   },
   {
    "duration": 130,
    "start_time": "2024-10-21T21:25:59.587Z"
   },
   {
    "duration": 18,
    "start_time": "2024-10-21T21:25:59.719Z"
   },
   {
    "duration": 20,
    "start_time": "2024-10-21T21:25:59.739Z"
   },
   {
    "duration": 5,
    "start_time": "2024-10-21T21:25:59.761Z"
   },
   {
    "duration": 238,
    "start_time": "2024-10-21T21:25:59.767Z"
   },
   {
    "duration": 161,
    "start_time": "2024-10-21T21:26:00.007Z"
   },
   {
    "duration": 115,
    "start_time": "2024-10-21T21:26:00.170Z"
   },
   {
    "duration": 19,
    "start_time": "2024-10-21T21:26:00.287Z"
   },
   {
    "duration": 126,
    "start_time": "2024-10-21T21:26:00.307Z"
   },
   {
    "duration": 101,
    "start_time": "2024-10-21T21:26:28.648Z"
   },
   {
    "duration": 10,
    "start_time": "2024-10-21T21:26:30.994Z"
   },
   {
    "duration": 11,
    "start_time": "2024-10-21T21:26:46.825Z"
   },
   {
    "duration": 3,
    "start_time": "2024-10-21T21:27:08.491Z"
   },
   {
    "duration": 122,
    "start_time": "2024-10-21T21:27:20.078Z"
   },
   {
    "duration": 7,
    "start_time": "2024-10-21T21:27:22.836Z"
   },
   {
    "duration": 13,
    "start_time": "2024-10-21T21:27:31.283Z"
   },
   {
    "duration": 11,
    "start_time": "2024-10-21T21:28:12.059Z"
   },
   {
    "duration": 5,
    "start_time": "2024-10-21T21:29:15.861Z"
   },
   {
    "duration": 4,
    "start_time": "2024-10-21T21:29:26.473Z"
   },
   {
    "duration": 4,
    "start_time": "2024-10-21T21:29:50.458Z"
   },
   {
    "duration": 1048,
    "start_time": "2024-10-21T21:30:07.037Z"
   },
   {
    "duration": 1093,
    "start_time": "2024-10-21T21:30:15.230Z"
   },
   {
    "duration": 10,
    "start_time": "2024-10-21T21:30:56.829Z"
   },
   {
    "duration": 1059,
    "start_time": "2024-10-21T21:31:48.381Z"
   },
   {
    "duration": 994,
    "start_time": "2024-10-21T21:31:56.538Z"
   },
   {
    "duration": 1051,
    "start_time": "2024-10-21T21:32:09.616Z"
   },
   {
    "duration": 1014,
    "start_time": "2024-10-21T21:32:20.232Z"
   },
   {
    "duration": 1793,
    "start_time": "2024-10-21T21:32:53.578Z"
   },
   {
    "duration": 1060,
    "start_time": "2024-10-21T21:33:08.097Z"
   },
   {
    "duration": 1065,
    "start_time": "2024-10-21T21:33:13.697Z"
   },
   {
    "duration": 1062,
    "start_time": "2024-10-21T21:33:26.843Z"
   },
   {
    "duration": 1096,
    "start_time": "2024-10-21T21:36:17.935Z"
   },
   {
    "duration": 1186,
    "start_time": "2024-10-21T21:37:08.766Z"
   },
   {
    "duration": 1181,
    "start_time": "2024-10-21T21:38:38.396Z"
   },
   {
    "duration": 1208,
    "start_time": "2024-10-21T21:38:58.559Z"
   },
   {
    "duration": 1043,
    "start_time": "2024-10-21T21:39:48.696Z"
   },
   {
    "duration": 15,
    "start_time": "2024-10-21T21:40:40.775Z"
   },
   {
    "duration": 98,
    "start_time": "2024-10-21T21:40:52.007Z"
   },
   {
    "duration": 157,
    "start_time": "2024-10-21T21:41:44.566Z"
   },
   {
    "duration": 96,
    "start_time": "2024-10-21T21:42:00.073Z"
   },
   {
    "duration": 92,
    "start_time": "2024-10-21T21:42:49.250Z"
   },
   {
    "duration": 95,
    "start_time": "2024-10-21T21:43:15.872Z"
   },
   {
    "duration": 506,
    "start_time": "2024-10-21T21:43:31.010Z"
   },
   {
    "duration": 1013,
    "start_time": "2024-10-21T21:43:31.519Z"
   },
   {
    "duration": 14,
    "start_time": "2024-10-21T21:43:32.534Z"
   },
   {
    "duration": 11,
    "start_time": "2024-10-21T21:43:32.551Z"
   },
   {
    "duration": 8,
    "start_time": "2024-10-21T21:43:32.564Z"
   },
   {
    "duration": 7,
    "start_time": "2024-10-21T21:43:32.573Z"
   },
   {
    "duration": 39,
    "start_time": "2024-10-21T21:43:32.606Z"
   },
   {
    "duration": 86,
    "start_time": "2024-10-21T21:43:32.649Z"
   },
   {
    "duration": 10,
    "start_time": "2024-10-21T21:43:32.738Z"
   },
   {
    "duration": 106,
    "start_time": "2024-10-21T21:43:32.752Z"
   },
   {
    "duration": 102,
    "start_time": "2024-10-21T21:43:32.860Z"
   },
   {
    "duration": 27,
    "start_time": "2024-10-21T21:43:32.964Z"
   },
   {
    "duration": 36,
    "start_time": "2024-10-21T21:43:32.993Z"
   },
   {
    "duration": 10,
    "start_time": "2024-10-21T21:43:33.031Z"
   },
   {
    "duration": 29,
    "start_time": "2024-10-21T21:43:33.044Z"
   },
   {
    "duration": 37,
    "start_time": "2024-10-21T21:43:33.075Z"
   },
   {
    "duration": 12,
    "start_time": "2024-10-21T21:43:33.117Z"
   },
   {
    "duration": 44,
    "start_time": "2024-10-21T21:43:33.133Z"
   },
   {
    "duration": 5,
    "start_time": "2024-10-21T21:43:33.179Z"
   },
   {
    "duration": 3,
    "start_time": "2024-10-21T21:43:33.187Z"
   },
   {
    "duration": 17,
    "start_time": "2024-10-21T21:43:33.192Z"
   },
   {
    "duration": 4,
    "start_time": "2024-10-21T21:43:33.211Z"
   },
   {
    "duration": 752,
    "start_time": "2024-10-21T21:43:33.217Z"
   },
   {
    "duration": 720,
    "start_time": "2024-10-21T21:43:33.972Z"
   },
   {
    "duration": 23,
    "start_time": "2024-10-21T21:43:34.694Z"
   },
   {
    "duration": 10,
    "start_time": "2024-10-21T21:43:34.719Z"
   },
   {
    "duration": 11,
    "start_time": "2024-10-21T21:43:34.732Z"
   },
   {
    "duration": 7,
    "start_time": "2024-10-21T21:43:34.748Z"
   },
   {
    "duration": 8,
    "start_time": "2024-10-21T21:43:34.757Z"
   },
   {
    "duration": 5,
    "start_time": "2024-10-21T21:43:34.767Z"
   },
   {
    "duration": 57,
    "start_time": "2024-10-21T21:43:34.774Z"
   },
   {
    "duration": 18,
    "start_time": "2024-10-21T21:43:34.834Z"
   },
   {
    "duration": 29,
    "start_time": "2024-10-21T21:43:34.854Z"
   },
   {
    "duration": 32,
    "start_time": "2024-10-21T21:43:34.885Z"
   },
   {
    "duration": 31,
    "start_time": "2024-10-21T21:43:34.920Z"
   },
   {
    "duration": 66,
    "start_time": "2024-10-21T21:43:34.954Z"
   },
   {
    "duration": 7,
    "start_time": "2024-10-21T21:43:35.022Z"
   },
   {
    "duration": 7,
    "start_time": "2024-10-21T21:43:35.031Z"
   },
   {
    "duration": 238,
    "start_time": "2024-10-21T21:43:35.039Z"
   },
   {
    "duration": 152,
    "start_time": "2024-10-21T21:43:35.279Z"
   },
   {
    "duration": 133,
    "start_time": "2024-10-21T21:43:35.433Z"
   },
   {
    "duration": 8,
    "start_time": "2024-10-21T21:43:35.568Z"
   },
   {
    "duration": 6,
    "start_time": "2024-10-21T21:43:35.578Z"
   },
   {
    "duration": 20,
    "start_time": "2024-10-21T21:43:35.586Z"
   },
   {
    "duration": 267,
    "start_time": "2024-10-21T21:43:35.608Z"
   },
   {
    "duration": 163,
    "start_time": "2024-10-21T21:43:35.877Z"
   },
   {
    "duration": 108,
    "start_time": "2024-10-21T21:43:36.042Z"
   },
   {
    "duration": 11,
    "start_time": "2024-10-21T21:43:36.152Z"
   },
   {
    "duration": 121,
    "start_time": "2024-10-21T21:43:36.164Z"
   },
   {
    "duration": 104,
    "start_time": "2024-10-21T21:43:54.584Z"
   },
   {
    "duration": 7,
    "start_time": "2024-10-21T21:43:57.793Z"
   },
   {
    "duration": 12,
    "start_time": "2024-10-21T21:44:12.400Z"
   },
   {
    "duration": 9,
    "start_time": "2024-10-21T21:47:06.449Z"
   },
   {
    "duration": 87,
    "start_time": "2024-10-21T21:47:43.346Z"
   },
   {
    "duration": 269,
    "start_time": "2024-10-21T21:48:52.808Z"
   },
   {
    "duration": 3,
    "start_time": "2024-10-21T21:49:17.572Z"
   },
   {
    "duration": 67,
    "start_time": "2024-10-21T21:51:25.013Z"
   },
   {
    "duration": 31,
    "start_time": "2024-10-21T21:52:08.852Z"
   },
   {
    "duration": 19,
    "start_time": "2024-10-21T21:53:33.688Z"
   },
   {
    "duration": 14,
    "start_time": "2024-10-21T22:08:13.907Z"
   },
   {
    "duration": 10,
    "start_time": "2024-10-21T22:09:18.071Z"
   },
   {
    "duration": 10,
    "start_time": "2024-10-21T22:10:13.958Z"
   },
   {
    "duration": 12,
    "start_time": "2024-10-21T22:10:22.280Z"
   },
   {
    "duration": 728,
    "start_time": "2024-10-21T22:16:50.451Z"
   },
   {
    "duration": 1262,
    "start_time": "2024-10-21T22:19:03.693Z"
   },
   {
    "duration": 754,
    "start_time": "2024-10-21T22:21:06.993Z"
   },
   {
    "duration": 729,
    "start_time": "2024-10-21T22:24:11.143Z"
   },
   {
    "duration": 718,
    "start_time": "2024-10-21T22:24:31.751Z"
   },
   {
    "duration": 717,
    "start_time": "2024-10-21T22:24:44.630Z"
   },
   {
    "duration": 681,
    "start_time": "2024-10-21T22:25:27.545Z"
   },
   {
    "duration": 649,
    "start_time": "2024-10-21T22:26:00.625Z"
   },
   {
    "duration": 696,
    "start_time": "2024-10-21T22:26:12.389Z"
   },
   {
    "duration": 664,
    "start_time": "2024-10-21T22:27:41.712Z"
   },
   {
    "duration": 673,
    "start_time": "2024-10-21T22:27:54.958Z"
   },
   {
    "duration": 743,
    "start_time": "2024-10-21T22:28:32.292Z"
   },
   {
    "duration": 833,
    "start_time": "2024-10-21T22:29:04.867Z"
   },
   {
    "duration": 677,
    "start_time": "2024-10-21T22:29:11.826Z"
   },
   {
    "duration": 1914,
    "start_time": "2024-10-21T23:37:33.487Z"
   },
   {
    "duration": 445,
    "start_time": "2024-10-21T23:38:18.707Z"
   },
   {
    "duration": 398,
    "start_time": "2024-10-21T23:39:49.597Z"
   },
   {
    "duration": 155,
    "start_time": "2024-10-21T23:40:04.825Z"
   },
   {
    "duration": 18,
    "start_time": "2024-10-21T23:40:15.163Z"
   },
   {
    "duration": 17,
    "start_time": "2024-10-21T23:40:41.810Z"
   },
   {
    "duration": 618,
    "start_time": "2024-10-21T23:42:33.270Z"
   },
   {
    "duration": 557,
    "start_time": "2024-10-21T23:44:43.991Z"
   },
   {
    "duration": 48,
    "start_time": "2024-10-21T23:46:17.070Z"
   },
   {
    "duration": 454,
    "start_time": "2024-10-21T23:48:52.362Z"
   },
   {
    "duration": 213,
    "start_time": "2024-10-22T00:12:10.378Z"
   },
   {
    "duration": 227,
    "start_time": "2024-10-22T00:12:54.216Z"
   },
   {
    "duration": 232,
    "start_time": "2024-10-22T00:13:07.016Z"
   },
   {
    "duration": 224,
    "start_time": "2024-10-22T00:13:40.137Z"
   },
   {
    "duration": 242,
    "start_time": "2024-10-22T00:13:49.919Z"
   },
   {
    "duration": 237,
    "start_time": "2024-10-22T00:14:11.097Z"
   },
   {
    "duration": 247,
    "start_time": "2024-10-22T00:14:23.092Z"
   },
   {
    "duration": 249,
    "start_time": "2024-10-22T00:14:38.942Z"
   },
   {
    "duration": 249,
    "start_time": "2024-10-22T00:15:52.835Z"
   },
   {
    "duration": 14,
    "start_time": "2024-10-22T00:19:16.884Z"
   },
   {
    "duration": 3,
    "start_time": "2024-10-22T00:25:48.810Z"
   },
   {
    "duration": 436,
    "start_time": "2024-10-22T00:26:00.305Z"
   },
   {
    "duration": 469,
    "start_time": "2024-10-22T00:27:36.079Z"
   },
   {
    "duration": 248,
    "start_time": "2024-10-22T00:29:42.147Z"
   },
   {
    "duration": 23,
    "start_time": "2024-10-22T00:29:50.814Z"
   },
   {
    "duration": 451,
    "start_time": "2024-10-22T00:30:41.754Z"
   },
   {
    "duration": 11,
    "start_time": "2024-10-22T00:33:38.553Z"
   },
   {
    "duration": 449,
    "start_time": "2024-10-22T00:34:03.533Z"
   },
   {
    "duration": 11,
    "start_time": "2024-10-22T00:34:06.581Z"
   },
   {
    "duration": 452,
    "start_time": "2024-10-22T00:34:31.459Z"
   },
   {
    "duration": 438,
    "start_time": "2024-10-22T00:34:46.550Z"
   },
   {
    "duration": 898,
    "start_time": "2024-10-22T00:34:46.990Z"
   },
   {
    "duration": 16,
    "start_time": "2024-10-22T00:34:47.890Z"
   },
   {
    "duration": 9,
    "start_time": "2024-10-22T00:34:47.909Z"
   },
   {
    "duration": 7,
    "start_time": "2024-10-22T00:34:47.920Z"
   },
   {
    "duration": 8,
    "start_time": "2024-10-22T00:34:47.931Z"
   },
   {
    "duration": 22,
    "start_time": "2024-10-22T00:34:47.941Z"
   },
   {
    "duration": 100,
    "start_time": "2024-10-22T00:34:47.965Z"
   },
   {
    "duration": 8,
    "start_time": "2024-10-22T00:34:48.066Z"
   },
   {
    "duration": 104,
    "start_time": "2024-10-22T00:34:48.077Z"
   },
   {
    "duration": 92,
    "start_time": "2024-10-22T00:34:48.183Z"
   },
   {
    "duration": 32,
    "start_time": "2024-10-22T00:34:48.277Z"
   },
   {
    "duration": 22,
    "start_time": "2024-10-22T00:34:48.310Z"
   },
   {
    "duration": 7,
    "start_time": "2024-10-22T00:34:48.334Z"
   },
   {
    "duration": 25,
    "start_time": "2024-10-22T00:34:48.342Z"
   },
   {
    "duration": 45,
    "start_time": "2024-10-22T00:34:48.369Z"
   },
   {
    "duration": 7,
    "start_time": "2024-10-22T00:34:48.416Z"
   },
   {
    "duration": 41,
    "start_time": "2024-10-22T00:34:48.425Z"
   },
   {
    "duration": 4,
    "start_time": "2024-10-22T00:34:48.468Z"
   },
   {
    "duration": 4,
    "start_time": "2024-10-22T00:34:48.473Z"
   },
   {
    "duration": 29,
    "start_time": "2024-10-22T00:34:48.479Z"
   },
   {
    "duration": 3,
    "start_time": "2024-10-22T00:34:48.510Z"
   },
   {
    "duration": 791,
    "start_time": "2024-10-22T00:34:48.515Z"
   },
   {
    "duration": 708,
    "start_time": "2024-10-22T00:34:49.308Z"
   },
   {
    "duration": 14,
    "start_time": "2024-10-22T00:34:50.018Z"
   },
   {
    "duration": 6,
    "start_time": "2024-10-22T00:34:50.033Z"
   },
   {
    "duration": 6,
    "start_time": "2024-10-22T00:34:50.041Z"
   },
   {
    "duration": 5,
    "start_time": "2024-10-22T00:34:50.052Z"
   },
   {
    "duration": 8,
    "start_time": "2024-10-22T00:34:50.058Z"
   },
   {
    "duration": 44,
    "start_time": "2024-10-22T00:34:50.067Z"
   },
   {
    "duration": 44,
    "start_time": "2024-10-22T00:34:50.113Z"
   },
   {
    "duration": 17,
    "start_time": "2024-10-22T00:34:50.159Z"
   },
   {
    "duration": 54,
    "start_time": "2024-10-22T00:34:50.177Z"
   },
   {
    "duration": 12,
    "start_time": "2024-10-22T00:34:50.232Z"
   },
   {
    "duration": 20,
    "start_time": "2024-10-22T00:34:50.246Z"
   },
   {
    "duration": 73,
    "start_time": "2024-10-22T00:34:50.267Z"
   },
   {
    "duration": 7,
    "start_time": "2024-10-22T00:34:50.342Z"
   },
   {
    "duration": 5,
    "start_time": "2024-10-22T00:34:50.350Z"
   },
   {
    "duration": 197,
    "start_time": "2024-10-22T00:34:50.356Z"
   },
   {
    "duration": 132,
    "start_time": "2024-10-22T00:34:50.555Z"
   },
   {
    "duration": 105,
    "start_time": "2024-10-22T00:34:50.688Z"
   },
   {
    "duration": 16,
    "start_time": "2024-10-22T00:34:50.794Z"
   },
   {
    "duration": 8,
    "start_time": "2024-10-22T00:34:50.812Z"
   },
   {
    "duration": 5,
    "start_time": "2024-10-22T00:34:50.822Z"
   },
   {
    "duration": 231,
    "start_time": "2024-10-22T00:34:50.828Z"
   },
   {
    "duration": 149,
    "start_time": "2024-10-22T00:34:51.061Z"
   },
   {
    "duration": 662,
    "start_time": "2024-10-22T00:34:51.211Z"
   },
   {
    "duration": 466,
    "start_time": "2024-10-22T00:34:51.875Z"
   },
   {
    "duration": 284,
    "start_time": "2024-10-22T00:34:52.343Z"
   },
   {
    "duration": 21,
    "start_time": "2024-10-22T00:34:52.628Z"
   },
   {
    "duration": 656,
    "start_time": "2024-10-22T00:34:52.651Z"
   },
   {
    "duration": 465,
    "start_time": "2024-10-22T00:38:07.513Z"
   },
   {
    "duration": 5,
    "start_time": "2024-10-22T00:38:27.862Z"
   },
   {
    "duration": 4,
    "start_time": "2024-10-22T00:38:48.920Z"
   },
   {
    "duration": 27,
    "start_time": "2024-10-22T00:45:40.748Z"
   },
   {
    "duration": 30,
    "start_time": "2024-10-22T00:46:46.607Z"
   },
   {
    "duration": 27,
    "start_time": "2024-10-22T00:46:54.733Z"
   },
   {
    "duration": 25,
    "start_time": "2024-10-22T00:48:31.348Z"
   },
   {
    "duration": 26,
    "start_time": "2024-10-22T00:48:44.195Z"
   },
   {
    "duration": 28,
    "start_time": "2024-10-22T00:49:28.868Z"
   },
   {
    "duration": 29,
    "start_time": "2024-10-22T00:51:26.210Z"
   },
   {
    "duration": 31,
    "start_time": "2024-10-22T00:52:31.442Z"
   },
   {
    "duration": 855,
    "start_time": "2024-10-22T01:06:51.791Z"
   },
   {
    "duration": 829,
    "start_time": "2024-10-22T01:06:59.046Z"
   },
   {
    "duration": 862,
    "start_time": "2024-10-22T01:07:15.877Z"
   },
   {
    "duration": 9,
    "start_time": "2024-10-22T01:11:11.052Z"
   },
   {
    "duration": 75,
    "start_time": "2024-10-22T01:17:38.881Z"
   },
   {
    "duration": 25,
    "start_time": "2024-10-22T01:17:49.407Z"
   },
   {
    "duration": 40,
    "start_time": "2024-10-22T01:19:17.901Z"
   },
   {
    "duration": 36,
    "start_time": "2024-10-22T01:19:30.842Z"
   },
   {
    "duration": 37,
    "start_time": "2024-10-22T01:20:13.797Z"
   },
   {
    "duration": 29,
    "start_time": "2024-10-22T01:26:03.851Z"
   },
   {
    "duration": 455,
    "start_time": "2024-10-22T01:28:39.289Z"
   },
   {
    "duration": 4,
    "start_time": "2024-10-22T01:28:43.391Z"
   },
   {
    "duration": 458,
    "start_time": "2024-10-22T01:29:27.221Z"
   },
   {
    "duration": 456,
    "start_time": "2024-10-22T01:30:40.631Z"
   },
   {
    "duration": 445,
    "start_time": "2024-10-22T01:30:45.639Z"
   },
   {
    "duration": 5,
    "start_time": "2024-10-22T01:30:49.411Z"
   },
   {
    "duration": 401,
    "start_time": "2024-10-22T01:31:40.982Z"
   },
   {
    "duration": 908,
    "start_time": "2024-10-22T01:31:41.386Z"
   },
   {
    "duration": 14,
    "start_time": "2024-10-22T01:31:42.296Z"
   },
   {
    "duration": 9,
    "start_time": "2024-10-22T01:31:42.312Z"
   },
   {
    "duration": 7,
    "start_time": "2024-10-22T01:31:42.323Z"
   },
   {
    "duration": 8,
    "start_time": "2024-10-22T01:31:42.331Z"
   },
   {
    "duration": 21,
    "start_time": "2024-10-22T01:31:42.342Z"
   },
   {
    "duration": 112,
    "start_time": "2024-10-22T01:31:42.365Z"
   },
   {
    "duration": 9,
    "start_time": "2024-10-22T01:31:42.478Z"
   },
   {
    "duration": 102,
    "start_time": "2024-10-22T01:31:42.490Z"
   },
   {
    "duration": 98,
    "start_time": "2024-10-22T01:31:42.594Z"
   },
   {
    "duration": 40,
    "start_time": "2024-10-22T01:31:42.695Z"
   },
   {
    "duration": 18,
    "start_time": "2024-10-22T01:31:42.737Z"
   },
   {
    "duration": 7,
    "start_time": "2024-10-22T01:31:42.757Z"
   },
   {
    "duration": 51,
    "start_time": "2024-10-22T01:31:42.765Z"
   },
   {
    "duration": 20,
    "start_time": "2024-10-22T01:31:42.818Z"
   },
   {
    "duration": 7,
    "start_time": "2024-10-22T01:31:42.840Z"
   },
   {
    "duration": 67,
    "start_time": "2024-10-22T01:31:42.849Z"
   },
   {
    "duration": 7,
    "start_time": "2024-10-22T01:31:42.918Z"
   },
   {
    "duration": 4,
    "start_time": "2024-10-22T01:31:42.926Z"
   },
   {
    "duration": 4,
    "start_time": "2024-10-22T01:31:42.932Z"
   },
   {
    "duration": 3,
    "start_time": "2024-10-22T01:31:42.938Z"
   },
   {
    "duration": 779,
    "start_time": "2024-10-22T01:31:42.943Z"
   },
   {
    "duration": 735,
    "start_time": "2024-10-22T01:31:43.724Z"
   },
   {
    "duration": 13,
    "start_time": "2024-10-22T01:31:44.460Z"
   },
   {
    "duration": 5,
    "start_time": "2024-10-22T01:31:44.475Z"
   },
   {
    "duration": 6,
    "start_time": "2024-10-22T01:31:44.482Z"
   },
   {
    "duration": 5,
    "start_time": "2024-10-22T01:31:44.509Z"
   },
   {
    "duration": 8,
    "start_time": "2024-10-22T01:31:44.516Z"
   },
   {
    "duration": 7,
    "start_time": "2024-10-22T01:31:44.526Z"
   },
   {
    "duration": 37,
    "start_time": "2024-10-22T01:31:44.534Z"
   },
   {
    "duration": 46,
    "start_time": "2024-10-22T01:31:44.573Z"
   },
   {
    "duration": 29,
    "start_time": "2024-10-22T01:31:44.621Z"
   },
   {
    "duration": 13,
    "start_time": "2024-10-22T01:31:44.652Z"
   },
   {
    "duration": 46,
    "start_time": "2024-10-22T01:31:44.666Z"
   },
   {
    "duration": 52,
    "start_time": "2024-10-22T01:31:44.714Z"
   },
   {
    "duration": 7,
    "start_time": "2024-10-22T01:31:44.768Z"
   },
   {
    "duration": 4,
    "start_time": "2024-10-22T01:31:44.777Z"
   },
   {
    "duration": 206,
    "start_time": "2024-10-22T01:31:44.783Z"
   },
   {
    "duration": 132,
    "start_time": "2024-10-22T01:31:44.991Z"
   },
   {
    "duration": 108,
    "start_time": "2024-10-22T01:31:45.126Z"
   },
   {
    "duration": 8,
    "start_time": "2024-10-22T01:31:45.235Z"
   },
   {
    "duration": 7,
    "start_time": "2024-10-22T01:31:45.244Z"
   },
   {
    "duration": 5,
    "start_time": "2024-10-22T01:31:45.253Z"
   },
   {
    "duration": 239,
    "start_time": "2024-10-22T01:31:45.259Z"
   },
   {
    "duration": 138,
    "start_time": "2024-10-22T01:31:45.504Z"
   },
   {
    "duration": 663,
    "start_time": "2024-10-22T01:31:45.644Z"
   },
   {
    "duration": 461,
    "start_time": "2024-10-22T01:31:46.308Z"
   },
   {
    "duration": 262,
    "start_time": "2024-10-22T01:31:46.771Z"
   },
   {
    "duration": 22,
    "start_time": "2024-10-22T01:31:47.034Z"
   },
   {
    "duration": 470,
    "start_time": "2024-10-22T01:31:47.058Z"
   },
   {
    "duration": 5,
    "start_time": "2024-10-22T01:31:47.529Z"
   },
   {
    "duration": 24,
    "start_time": "2024-10-22T01:31:47.536Z"
   },
   {
    "duration": 901,
    "start_time": "2024-10-22T01:31:47.561Z"
   },
   {
    "duration": 9,
    "start_time": "2024-10-22T01:31:48.464Z"
   },
   {
    "duration": 101,
    "start_time": "2024-10-22T01:31:48.474Z"
   },
   {
    "duration": 456,
    "start_time": "2024-10-22T01:32:39.596Z"
   },
   {
    "duration": 4,
    "start_time": "2024-10-22T01:32:43.074Z"
   },
   {
    "duration": 454,
    "start_time": "2024-10-22T01:33:09.780Z"
   },
   {
    "duration": 4,
    "start_time": "2024-10-22T01:33:12.688Z"
   },
   {
    "duration": 470,
    "start_time": "2024-10-22T01:33:56.544Z"
   },
   {
    "duration": 456,
    "start_time": "2024-10-22T01:34:01.587Z"
   },
   {
    "duration": 457,
    "start_time": "2024-10-22T01:35:27.327Z"
   },
   {
    "duration": 714,
    "start_time": "2024-10-22T01:58:23.855Z"
   },
   {
    "duration": 424,
    "start_time": "2024-10-22T04:21:28.996Z"
   },
   {
    "duration": 930,
    "start_time": "2024-10-22T04:21:29.423Z"
   },
   {
    "duration": 13,
    "start_time": "2024-10-22T04:21:30.355Z"
   },
   {
    "duration": 13,
    "start_time": "2024-10-22T04:21:30.371Z"
   },
   {
    "duration": 26,
    "start_time": "2024-10-22T04:21:30.386Z"
   },
   {
    "duration": 12,
    "start_time": "2024-10-22T04:21:30.414Z"
   },
   {
    "duration": 27,
    "start_time": "2024-10-22T04:21:30.428Z"
   },
   {
    "duration": 99,
    "start_time": "2024-10-22T04:21:30.457Z"
   },
   {
    "duration": 9,
    "start_time": "2024-10-22T04:21:30.558Z"
   },
   {
    "duration": 116,
    "start_time": "2024-10-22T04:21:30.571Z"
   },
   {
    "duration": 93,
    "start_time": "2024-10-22T04:21:30.689Z"
   },
   {
    "duration": 45,
    "start_time": "2024-10-22T04:21:30.784Z"
   },
   {
    "duration": 19,
    "start_time": "2024-10-22T04:21:30.831Z"
   },
   {
    "duration": 9,
    "start_time": "2024-10-22T04:21:30.852Z"
   },
   {
    "duration": 51,
    "start_time": "2024-10-22T04:21:30.864Z"
   },
   {
    "duration": 20,
    "start_time": "2024-10-22T04:21:30.916Z"
   },
   {
    "duration": 7,
    "start_time": "2024-10-22T04:21:30.938Z"
   },
   {
    "duration": 61,
    "start_time": "2024-10-22T04:21:30.949Z"
   },
   {
    "duration": 4,
    "start_time": "2024-10-22T04:21:31.012Z"
   },
   {
    "duration": 4,
    "start_time": "2024-10-22T04:21:31.017Z"
   },
   {
    "duration": 6,
    "start_time": "2024-10-22T04:21:31.023Z"
   },
   {
    "duration": 4,
    "start_time": "2024-10-22T04:21:31.031Z"
   },
   {
    "duration": 821,
    "start_time": "2024-10-22T04:21:31.036Z"
   },
   {
    "duration": 734,
    "start_time": "2024-10-22T04:21:31.859Z"
   },
   {
    "duration": 21,
    "start_time": "2024-10-22T04:21:32.595Z"
   },
   {
    "duration": 6,
    "start_time": "2024-10-22T04:21:32.618Z"
   },
   {
    "duration": 6,
    "start_time": "2024-10-22T04:21:32.626Z"
   },
   {
    "duration": 5,
    "start_time": "2024-10-22T04:21:32.643Z"
   },
   {
    "duration": 9,
    "start_time": "2024-10-22T04:21:32.649Z"
   },
   {
    "duration": 6,
    "start_time": "2024-10-22T04:21:32.659Z"
   },
   {
    "duration": 73,
    "start_time": "2024-10-22T04:21:32.667Z"
   },
   {
    "duration": 17,
    "start_time": "2024-10-22T04:21:32.741Z"
   },
   {
    "duration": 29,
    "start_time": "2024-10-22T04:21:32.759Z"
   },
   {
    "duration": 16,
    "start_time": "2024-10-22T04:21:32.805Z"
   },
   {
    "duration": 30,
    "start_time": "2024-10-22T04:21:32.823Z"
   },
   {
    "duration": 75,
    "start_time": "2024-10-22T04:21:32.855Z"
   },
   {
    "duration": 7,
    "start_time": "2024-10-22T04:21:32.933Z"
   },
   {
    "duration": 6,
    "start_time": "2024-10-22T04:21:32.941Z"
   },
   {
    "duration": 222,
    "start_time": "2024-10-22T04:21:32.949Z"
   },
   {
    "duration": 146,
    "start_time": "2024-10-22T04:21:33.173Z"
   },
   {
    "duration": 121,
    "start_time": "2024-10-22T04:21:33.321Z"
   },
   {
    "duration": 10,
    "start_time": "2024-10-22T04:21:33.444Z"
   },
   {
    "duration": 8,
    "start_time": "2024-10-22T04:21:33.456Z"
   },
   {
    "duration": 5,
    "start_time": "2024-10-22T04:21:33.467Z"
   },
   {
    "duration": 289,
    "start_time": "2024-10-22T04:21:33.475Z"
   },
   {
    "duration": 152,
    "start_time": "2024-10-22T04:21:33.766Z"
   },
   {
    "duration": 659,
    "start_time": "2024-10-22T04:21:33.920Z"
   },
   {
    "duration": 475,
    "start_time": "2024-10-22T04:21:34.581Z"
   },
   {
    "duration": 254,
    "start_time": "2024-10-22T04:21:35.058Z"
   },
   {
    "duration": 21,
    "start_time": "2024-10-22T04:21:35.315Z"
   },
   {
    "duration": 477,
    "start_time": "2024-10-22T04:21:35.338Z"
   },
   {
    "duration": 732,
    "start_time": "2024-10-22T04:21:35.817Z"
   },
   {
    "duration": 873,
    "start_time": "2024-10-22T04:21:36.551Z"
   },
   {
    "duration": 8,
    "start_time": "2024-10-22T04:21:37.426Z"
   },
   {
    "duration": 100,
    "start_time": "2024-10-22T04:21:37.436Z"
   },
   {
    "duration": 2190,
    "start_time": "2024-10-23T00:17:31.945Z"
   },
   {
    "duration": 991,
    "start_time": "2024-10-23T00:17:34.137Z"
   },
   {
    "duration": 12,
    "start_time": "2024-10-23T00:17:35.130Z"
   },
   {
    "duration": 9,
    "start_time": "2024-10-23T00:17:35.144Z"
   },
   {
    "duration": 8,
    "start_time": "2024-10-23T00:17:35.155Z"
   },
   {
    "duration": 8,
    "start_time": "2024-10-23T00:17:35.165Z"
   },
   {
    "duration": 56,
    "start_time": "2024-10-23T00:17:35.174Z"
   },
   {
    "duration": 65,
    "start_time": "2024-10-23T00:17:35.232Z"
   },
   {
    "duration": 8,
    "start_time": "2024-10-23T00:17:35.299Z"
   },
   {
    "duration": 100,
    "start_time": "2024-10-23T00:17:35.326Z"
   },
   {
    "duration": 84,
    "start_time": "2024-10-23T00:17:35.427Z"
   },
   {
    "duration": 37,
    "start_time": "2024-10-23T00:17:35.512Z"
   },
   {
    "duration": 20,
    "start_time": "2024-10-23T00:17:35.551Z"
   },
   {
    "duration": 7,
    "start_time": "2024-10-23T00:17:35.573Z"
   },
   {
    "duration": 50,
    "start_time": "2024-10-23T00:17:35.581Z"
   },
   {
    "duration": 21,
    "start_time": "2024-10-23T00:17:35.633Z"
   },
   {
    "duration": 8,
    "start_time": "2024-10-23T00:17:35.656Z"
   },
   {
    "duration": 68,
    "start_time": "2024-10-23T00:17:35.666Z"
   },
   {
    "duration": 5,
    "start_time": "2024-10-23T00:17:35.736Z"
   },
   {
    "duration": 5,
    "start_time": "2024-10-23T00:17:35.742Z"
   },
   {
    "duration": 6,
    "start_time": "2024-10-23T00:17:35.749Z"
   },
   {
    "duration": 4,
    "start_time": "2024-10-23T00:17:35.757Z"
   },
   {
    "duration": 811,
    "start_time": "2024-10-23T00:17:35.763Z"
   },
   {
    "duration": 740,
    "start_time": "2024-10-23T00:17:36.578Z"
   },
   {
    "duration": 13,
    "start_time": "2024-10-23T00:17:37.323Z"
   },
   {
    "duration": 6,
    "start_time": "2024-10-23T00:17:37.337Z"
   },
   {
    "duration": 6,
    "start_time": "2024-10-23T00:17:37.345Z"
   },
   {
    "duration": 6,
    "start_time": "2024-10-23T00:17:37.356Z"
   },
   {
    "duration": 10,
    "start_time": "2024-10-23T00:17:37.363Z"
   },
   {
    "duration": 7,
    "start_time": "2024-10-23T00:17:37.374Z"
   },
   {
    "duration": 78,
    "start_time": "2024-10-23T00:17:37.383Z"
   },
   {
    "duration": 16,
    "start_time": "2024-10-23T00:17:37.463Z"
   },
   {
    "duration": 57,
    "start_time": "2024-10-23T00:17:37.481Z"
   },
   {
    "duration": 13,
    "start_time": "2024-10-23T00:17:37.540Z"
   },
   {
    "duration": 22,
    "start_time": "2024-10-23T00:17:37.555Z"
   },
   {
    "duration": 64,
    "start_time": "2024-10-23T00:17:37.580Z"
   },
   {
    "duration": 5,
    "start_time": "2024-10-23T00:17:37.646Z"
   },
   {
    "duration": 5,
    "start_time": "2024-10-23T00:17:37.652Z"
   },
   {
    "duration": 222,
    "start_time": "2024-10-23T00:17:37.658Z"
   },
   {
    "duration": 182,
    "start_time": "2024-10-23T00:17:37.882Z"
   },
   {
    "duration": 119,
    "start_time": "2024-10-23T00:17:38.065Z"
   },
   {
    "duration": 9,
    "start_time": "2024-10-23T00:17:38.186Z"
   },
   {
    "duration": 8,
    "start_time": "2024-10-23T00:17:38.196Z"
   },
   {
    "duration": 9,
    "start_time": "2024-10-23T00:17:38.224Z"
   },
   {
    "duration": 217,
    "start_time": "2024-10-23T00:17:38.235Z"
   },
   {
    "duration": 142,
    "start_time": "2024-10-23T00:17:38.454Z"
   },
   {
    "duration": 670,
    "start_time": "2024-10-23T00:17:38.598Z"
   },
   {
    "duration": 468,
    "start_time": "2024-10-23T00:17:39.269Z"
   },
   {
    "duration": 295,
    "start_time": "2024-10-23T00:17:39.739Z"
   },
   {
    "duration": 22,
    "start_time": "2024-10-23T00:17:40.036Z"
   },
   {
    "duration": 475,
    "start_time": "2024-10-23T00:17:40.060Z"
   },
   {
    "duration": 713,
    "start_time": "2024-10-23T00:17:40.536Z"
   },
   {
    "duration": 820,
    "start_time": "2024-10-23T00:17:41.251Z"
   },
   {
    "duration": 10,
    "start_time": "2024-10-23T00:17:42.072Z"
   },
   {
    "duration": 104,
    "start_time": "2024-10-23T00:17:42.083Z"
   },
   {
    "duration": 207,
    "start_time": "2024-10-23T00:18:53.827Z"
   },
   {
    "duration": 198,
    "start_time": "2024-10-23T00:19:22.474Z"
   },
   {
    "duration": 222,
    "start_time": "2024-10-23T00:19:37.901Z"
   },
   {
    "duration": 178,
    "start_time": "2024-10-23T00:48:25.881Z"
   },
   {
    "duration": 136,
    "start_time": "2024-10-23T00:54:33.958Z"
   },
   {
    "duration": 300,
    "start_time": "2024-10-23T01:07:43.624Z"
   },
   {
    "duration": 21,
    "start_time": "2024-10-23T01:07:53.572Z"
   },
   {
    "duration": 247,
    "start_time": "2024-10-23T01:08:03.314Z"
   },
   {
    "duration": 21,
    "start_time": "2024-10-23T01:08:12.377Z"
   },
   {
    "duration": 526,
    "start_time": "2024-10-23T01:24:48.592Z"
   },
   {
    "duration": 38,
    "start_time": "2024-10-23T01:28:09.914Z"
   },
   {
    "duration": 32,
    "start_time": "2024-10-23T01:32:12.234Z"
   },
   {
    "duration": 35,
    "start_time": "2024-10-23T01:32:21.058Z"
   },
   {
    "duration": 53,
    "start_time": "2024-10-23T01:33:59.376Z"
   },
   {
    "duration": 43,
    "start_time": "2024-10-23T01:34:25.795Z"
   },
   {
    "duration": 36,
    "start_time": "2024-10-23T01:36:26.170Z"
   },
   {
    "duration": 40,
    "start_time": "2024-10-23T01:36:34.256Z"
   },
   {
    "duration": 48,
    "start_time": "2024-10-23T01:38:55.113Z"
   },
   {
    "duration": 43,
    "start_time": "2024-10-23T01:39:10.368Z"
   },
   {
    "duration": 47,
    "start_time": "2024-10-23T01:39:47.132Z"
   },
   {
    "duration": 7,
    "start_time": "2024-10-23T01:48:28.684Z"
   },
   {
    "duration": 401,
    "start_time": "2024-10-23T01:49:16.989Z"
   },
   {
    "duration": 920,
    "start_time": "2024-10-23T01:49:17.391Z"
   },
   {
    "duration": 15,
    "start_time": "2024-10-23T01:49:18.313Z"
   },
   {
    "duration": 8,
    "start_time": "2024-10-23T01:49:18.330Z"
   },
   {
    "duration": 7,
    "start_time": "2024-10-23T01:49:18.341Z"
   },
   {
    "duration": 8,
    "start_time": "2024-10-23T01:49:18.350Z"
   },
   {
    "duration": 23,
    "start_time": "2024-10-23T01:49:18.359Z"
   },
   {
    "duration": 97,
    "start_time": "2024-10-23T01:49:18.384Z"
   },
   {
    "duration": 8,
    "start_time": "2024-10-23T01:49:18.483Z"
   },
   {
    "duration": 103,
    "start_time": "2024-10-23T01:49:18.492Z"
   },
   {
    "duration": 83,
    "start_time": "2024-10-23T01:49:18.597Z"
   },
   {
    "duration": 26,
    "start_time": "2024-10-23T01:49:18.682Z"
   },
   {
    "duration": 32,
    "start_time": "2024-10-23T01:49:18.709Z"
   },
   {
    "duration": 6,
    "start_time": "2024-10-23T01:49:18.744Z"
   },
   {
    "duration": 27,
    "start_time": "2024-10-23T01:49:18.751Z"
   },
   {
    "duration": 20,
    "start_time": "2024-10-23T01:49:18.779Z"
   },
   {
    "duration": 26,
    "start_time": "2024-10-23T01:49:18.801Z"
   },
   {
    "duration": 41,
    "start_time": "2024-10-23T01:49:18.829Z"
   },
   {
    "duration": 5,
    "start_time": "2024-10-23T01:49:18.872Z"
   },
   {
    "duration": 4,
    "start_time": "2024-10-23T01:49:18.878Z"
   },
   {
    "duration": 4,
    "start_time": "2024-10-23T01:49:18.884Z"
   },
   {
    "duration": 4,
    "start_time": "2024-10-23T01:49:18.889Z"
   },
   {
    "duration": 739,
    "start_time": "2024-10-23T01:49:18.924Z"
   },
   {
    "duration": 690,
    "start_time": "2024-10-23T01:49:19.665Z"
   },
   {
    "duration": 14,
    "start_time": "2024-10-23T01:49:20.357Z"
   },
   {
    "duration": 6,
    "start_time": "2024-10-23T01:49:20.374Z"
   },
   {
    "duration": 8,
    "start_time": "2024-10-23T01:49:20.381Z"
   },
   {
    "duration": 5,
    "start_time": "2024-10-23T01:49:20.390Z"
   },
   {
    "duration": 32,
    "start_time": "2024-10-23T01:49:20.397Z"
   },
   {
    "duration": 6,
    "start_time": "2024-10-23T01:49:20.431Z"
   },
   {
    "duration": 35,
    "start_time": "2024-10-23T01:49:20.440Z"
   },
   {
    "duration": 17,
    "start_time": "2024-10-23T01:49:20.477Z"
   },
   {
    "duration": 52,
    "start_time": "2024-10-23T01:49:20.495Z"
   },
   {
    "duration": 12,
    "start_time": "2024-10-23T01:49:20.549Z"
   },
   {
    "duration": 20,
    "start_time": "2024-10-23T01:49:20.563Z"
   },
   {
    "duration": 68,
    "start_time": "2024-10-23T01:49:20.585Z"
   },
   {
    "duration": 5,
    "start_time": "2024-10-23T01:49:20.655Z"
   },
   {
    "duration": 5,
    "start_time": "2024-10-23T01:49:20.661Z"
   },
   {
    "duration": 207,
    "start_time": "2024-10-23T01:49:20.668Z"
   },
   {
    "duration": 129,
    "start_time": "2024-10-23T01:49:20.878Z"
   },
   {
    "duration": 214,
    "start_time": "2024-10-23T01:49:21.011Z"
   },
   {
    "duration": 7,
    "start_time": "2024-10-23T01:49:21.227Z"
   },
   {
    "duration": 8,
    "start_time": "2024-10-23T01:49:21.237Z"
   },
   {
    "duration": 5,
    "start_time": "2024-10-23T01:49:21.246Z"
   },
   {
    "duration": 229,
    "start_time": "2024-10-23T01:49:21.252Z"
   },
   {
    "duration": 144,
    "start_time": "2024-10-23T01:49:21.483Z"
   },
   {
    "duration": 664,
    "start_time": "2024-10-23T01:49:21.628Z"
   },
   {
    "duration": 450,
    "start_time": "2024-10-23T01:49:22.294Z"
   },
   {
    "duration": 251,
    "start_time": "2024-10-23T01:49:22.745Z"
   },
   {
    "duration": 27,
    "start_time": "2024-10-23T01:49:22.998Z"
   },
   {
    "duration": 469,
    "start_time": "2024-10-23T01:49:23.026Z"
   },
   {
    "duration": 701,
    "start_time": "2024-10-23T01:49:23.497Z"
   },
   {
    "duration": 835,
    "start_time": "2024-10-23T01:49:24.199Z"
   },
   {
    "duration": 8,
    "start_time": "2024-10-23T01:49:25.036Z"
   },
   {
    "duration": 102,
    "start_time": "2024-10-23T01:49:25.045Z"
   },
   {
    "duration": 157,
    "start_time": "2024-10-23T23:19:26.097Z"
   },
   {
    "duration": 18,
    "start_time": "2024-10-23T23:19:44.981Z"
   },
   {
    "duration": 2501,
    "start_time": "2024-10-23T23:19:52.971Z"
   },
   {
    "duration": 427,
    "start_time": "2024-10-23T23:20:28.074Z"
   },
   {
    "duration": 912,
    "start_time": "2024-10-23T23:20:28.504Z"
   },
   {
    "duration": 16,
    "start_time": "2024-10-23T23:20:29.417Z"
   },
   {
    "duration": 9,
    "start_time": "2024-10-23T23:20:29.436Z"
   },
   {
    "duration": 7,
    "start_time": "2024-10-23T23:20:29.447Z"
   },
   {
    "duration": 7,
    "start_time": "2024-10-23T23:20:29.456Z"
   },
   {
    "duration": 22,
    "start_time": "2024-10-23T23:20:29.465Z"
   },
   {
    "duration": 100,
    "start_time": "2024-10-23T23:20:29.489Z"
   },
   {
    "duration": 8,
    "start_time": "2024-10-23T23:20:29.590Z"
   },
   {
    "duration": 106,
    "start_time": "2024-10-23T23:20:29.602Z"
   },
   {
    "duration": 90,
    "start_time": "2024-10-23T23:20:29.709Z"
   },
   {
    "duration": 41,
    "start_time": "2024-10-23T23:20:29.801Z"
   },
   {
    "duration": 22,
    "start_time": "2024-10-23T23:20:29.845Z"
   },
   {
    "duration": 7,
    "start_time": "2024-10-23T23:20:29.869Z"
   },
   {
    "duration": 54,
    "start_time": "2024-10-23T23:20:29.877Z"
   },
   {
    "duration": 24,
    "start_time": "2024-10-23T23:20:29.933Z"
   },
   {
    "duration": 8,
    "start_time": "2024-10-23T23:20:29.959Z"
   },
   {
    "duration": 65,
    "start_time": "2024-10-23T23:20:29.968Z"
   },
   {
    "duration": 4,
    "start_time": "2024-10-23T23:20:30.035Z"
   },
   {
    "duration": 5,
    "start_time": "2024-10-23T23:20:30.040Z"
   },
   {
    "duration": 5,
    "start_time": "2024-10-23T23:20:30.046Z"
   },
   {
    "duration": 4,
    "start_time": "2024-10-23T23:20:30.052Z"
   },
   {
    "duration": 776,
    "start_time": "2024-10-23T23:20:30.057Z"
   },
   {
    "duration": 742,
    "start_time": "2024-10-23T23:20:30.835Z"
   },
   {
    "duration": 13,
    "start_time": "2024-10-23T23:20:31.579Z"
   },
   {
    "duration": 6,
    "start_time": "2024-10-23T23:20:31.593Z"
   },
   {
    "duration": 23,
    "start_time": "2024-10-23T23:20:31.601Z"
   },
   {
    "duration": 6,
    "start_time": "2024-10-23T23:20:31.629Z"
   },
   {
    "duration": 8,
    "start_time": "2024-10-23T23:20:31.637Z"
   },
   {
    "duration": 7,
    "start_time": "2024-10-23T23:20:31.646Z"
   },
   {
    "duration": 36,
    "start_time": "2024-10-23T23:20:31.654Z"
   },
   {
    "duration": 45,
    "start_time": "2024-10-23T23:20:31.692Z"
   },
   {
    "duration": 30,
    "start_time": "2024-10-23T23:20:31.738Z"
   },
   {
    "duration": 12,
    "start_time": "2024-10-23T23:20:31.769Z"
   },
   {
    "duration": 41,
    "start_time": "2024-10-23T23:20:31.783Z"
   },
   {
    "duration": 54,
    "start_time": "2024-10-23T23:20:31.826Z"
   },
   {
    "duration": 6,
    "start_time": "2024-10-23T23:20:31.882Z"
   },
   {
    "duration": 5,
    "start_time": "2024-10-23T23:20:31.889Z"
   },
   {
    "duration": 220,
    "start_time": "2024-10-23T23:20:31.895Z"
   },
   {
    "duration": 137,
    "start_time": "2024-10-23T23:20:32.116Z"
   },
   {
    "duration": 205,
    "start_time": "2024-10-23T23:20:32.255Z"
   },
   {
    "duration": 8,
    "start_time": "2024-10-23T23:20:32.462Z"
   },
   {
    "duration": 8,
    "start_time": "2024-10-23T23:20:32.472Z"
   },
   {
    "duration": 5,
    "start_time": "2024-10-23T23:20:32.481Z"
   },
   {
    "duration": 230,
    "start_time": "2024-10-23T23:20:32.488Z"
   },
   {
    "duration": 143,
    "start_time": "2024-10-23T23:20:32.720Z"
   },
   {
    "duration": 694,
    "start_time": "2024-10-23T23:20:32.865Z"
   },
   {
    "duration": 463,
    "start_time": "2024-10-23T23:20:33.561Z"
   },
   {
    "duration": 273,
    "start_time": "2024-10-23T23:20:34.026Z"
   },
   {
    "duration": 30,
    "start_time": "2024-10-23T23:20:34.301Z"
   },
   {
    "duration": 6,
    "start_time": "2024-10-23T23:20:34.333Z"
   },
   {
    "duration": 468,
    "start_time": "2024-10-23T23:20:34.340Z"
   },
   {
    "duration": 718,
    "start_time": "2024-10-23T23:20:34.810Z"
   },
   {
    "duration": 853,
    "start_time": "2024-10-23T23:20:35.531Z"
   },
   {
    "duration": 12,
    "start_time": "2024-10-23T23:20:36.387Z"
   },
   {
    "duration": 104,
    "start_time": "2024-10-23T23:20:36.401Z"
   },
   {
    "duration": 117,
    "start_time": "2024-10-23T23:21:27.487Z"
   },
   {
    "duration": 152,
    "start_time": "2024-10-23T23:21:46.745Z"
   },
   {
    "duration": 4,
    "start_time": "2024-10-23T23:22:03.390Z"
   },
   {
    "duration": 4,
    "start_time": "2024-10-23T23:22:22.992Z"
   },
   {
    "duration": 5,
    "start_time": "2024-10-23T23:22:53.343Z"
   },
   {
    "duration": 18,
    "start_time": "2024-10-23T23:27:26.055Z"
   },
   {
    "duration": 145,
    "start_time": "2024-10-23T23:28:40.405Z"
   },
   {
    "duration": 131,
    "start_time": "2024-10-23T23:30:03.978Z"
   },
   {
    "duration": 151,
    "start_time": "2024-10-23T23:30:16.036Z"
   },
   {
    "duration": 142,
    "start_time": "2024-10-23T23:30:35.569Z"
   },
   {
    "duration": 102,
    "start_time": "2024-10-23T23:31:24.350Z"
   },
   {
    "duration": 142,
    "start_time": "2024-10-23T23:31:40.338Z"
   },
   {
    "duration": 14,
    "start_time": "2024-10-23T23:32:43.974Z"
   },
   {
    "duration": 108,
    "start_time": "2024-10-23T23:33:42.202Z"
   },
   {
    "duration": 102,
    "start_time": "2024-10-23T23:34:04.649Z"
   },
   {
    "duration": 143,
    "start_time": "2024-10-23T23:34:41.354Z"
   },
   {
    "duration": 465,
    "start_time": "2024-10-23T23:37:23.831Z"
   },
   {
    "duration": 928,
    "start_time": "2024-10-23T23:37:24.298Z"
   },
   {
    "duration": 12,
    "start_time": "2024-10-23T23:37:25.228Z"
   },
   {
    "duration": 10,
    "start_time": "2024-10-23T23:37:25.242Z"
   },
   {
    "duration": 8,
    "start_time": "2024-10-23T23:37:25.253Z"
   },
   {
    "duration": 7,
    "start_time": "2024-10-23T23:37:25.263Z"
   },
   {
    "duration": 55,
    "start_time": "2024-10-23T23:37:25.272Z"
   },
   {
    "duration": 71,
    "start_time": "2024-10-23T23:37:25.328Z"
   },
   {
    "duration": 7,
    "start_time": "2024-10-23T23:37:25.401Z"
   },
   {
    "duration": 92,
    "start_time": "2024-10-23T23:37:25.423Z"
   },
   {
    "duration": 94,
    "start_time": "2024-10-23T23:37:25.517Z"
   },
   {
    "duration": 42,
    "start_time": "2024-10-23T23:37:25.613Z"
   },
   {
    "duration": 20,
    "start_time": "2024-10-23T23:37:25.658Z"
   },
   {
    "duration": 7,
    "start_time": "2024-10-23T23:37:25.681Z"
   },
   {
    "duration": 50,
    "start_time": "2024-10-23T23:37:25.690Z"
   },
   {
    "duration": 21,
    "start_time": "2024-10-23T23:37:25.742Z"
   },
   {
    "duration": 7,
    "start_time": "2024-10-23T23:37:25.765Z"
   },
   {
    "duration": 66,
    "start_time": "2024-10-23T23:37:25.774Z"
   },
   {
    "duration": 4,
    "start_time": "2024-10-23T23:37:25.842Z"
   },
   {
    "duration": 4,
    "start_time": "2024-10-23T23:37:25.848Z"
   },
   {
    "duration": 5,
    "start_time": "2024-10-23T23:37:25.854Z"
   },
   {
    "duration": 4,
    "start_time": "2024-10-23T23:37:25.860Z"
   },
   {
    "duration": 798,
    "start_time": "2024-10-23T23:37:25.866Z"
   },
   {
    "duration": 893,
    "start_time": "2024-10-23T23:37:26.666Z"
   },
   {
    "duration": 13,
    "start_time": "2024-10-23T23:37:27.561Z"
   },
   {
    "duration": 7,
    "start_time": "2024-10-23T23:37:27.576Z"
   },
   {
    "duration": 6,
    "start_time": "2024-10-23T23:37:27.586Z"
   },
   {
    "duration": 30,
    "start_time": "2024-10-23T23:37:27.597Z"
   },
   {
    "duration": 11,
    "start_time": "2024-10-23T23:37:27.629Z"
   },
   {
    "duration": 9,
    "start_time": "2024-10-23T23:37:27.642Z"
   },
   {
    "duration": 38,
    "start_time": "2024-10-23T23:37:27.653Z"
   },
   {
    "duration": 47,
    "start_time": "2024-10-23T23:37:27.693Z"
   },
   {
    "duration": 29,
    "start_time": "2024-10-23T23:37:27.744Z"
   },
   {
    "duration": 16,
    "start_time": "2024-10-23T23:37:27.776Z"
   },
   {
    "duration": 52,
    "start_time": "2024-10-23T23:37:27.794Z"
   },
   {
    "duration": 80,
    "start_time": "2024-10-23T23:37:27.848Z"
   },
   {
    "duration": 7,
    "start_time": "2024-10-23T23:37:27.931Z"
   },
   {
    "duration": 7,
    "start_time": "2024-10-23T23:37:27.940Z"
   },
   {
    "duration": 216,
    "start_time": "2024-10-23T23:37:27.949Z"
   },
   {
    "duration": 144,
    "start_time": "2024-10-23T23:37:28.167Z"
   },
   {
    "duration": 256,
    "start_time": "2024-10-23T23:37:28.313Z"
   },
   {
    "duration": 13,
    "start_time": "2024-10-23T23:37:28.571Z"
   },
   {
    "duration": 9,
    "start_time": "2024-10-23T23:37:28.586Z"
   },
   {
    "duration": 5,
    "start_time": "2024-10-23T23:37:28.598Z"
   },
   {
    "duration": 228,
    "start_time": "2024-10-23T23:37:28.624Z"
   },
   {
    "duration": 170,
    "start_time": "2024-10-23T23:37:28.854Z"
   },
   {
    "duration": 717,
    "start_time": "2024-10-23T23:37:29.025Z"
   },
   {
    "duration": 472,
    "start_time": "2024-10-23T23:37:29.744Z"
   },
   {
    "duration": 276,
    "start_time": "2024-10-23T23:37:30.224Z"
   },
   {
    "duration": 30,
    "start_time": "2024-10-23T23:37:30.502Z"
   },
   {
    "duration": 155,
    "start_time": "2024-10-23T23:37:30.534Z"
   },
   {
    "duration": 481,
    "start_time": "2024-10-23T23:37:30.690Z"
   },
   {
    "duration": 810,
    "start_time": "2024-10-23T23:37:31.173Z"
   },
   {
    "duration": 985,
    "start_time": "2024-10-23T23:37:31.986Z"
   },
   {
    "duration": 11,
    "start_time": "2024-10-23T23:37:32.973Z"
   },
   {
    "duration": 119,
    "start_time": "2024-10-23T23:37:32.985Z"
   },
   {
    "duration": 135,
    "start_time": "2024-10-23T23:41:53.628Z"
   },
   {
    "duration": 112,
    "start_time": "2024-10-23T23:44:49.897Z"
   },
   {
    "duration": 191,
    "start_time": "2024-10-23T23:45:31.113Z"
   },
   {
    "duration": 827,
    "start_time": "2024-10-23T23:47:23.652Z"
   },
   {
    "duration": 800,
    "start_time": "2024-10-23T23:47:58.555Z"
   },
   {
    "duration": 785,
    "start_time": "2024-10-23T23:48:09.588Z"
   },
   {
    "duration": 184,
    "start_time": "2024-10-23T23:48:45.419Z"
   },
   {
    "duration": 21,
    "start_time": "2024-10-23T23:49:16.727Z"
   },
   {
    "duration": 405,
    "start_time": "2024-10-23T23:49:19.792Z"
   },
   {
    "duration": 952,
    "start_time": "2024-10-23T23:51:46.214Z"
   },
   {
    "duration": 417,
    "start_time": "2024-10-23T23:52:42.373Z"
   },
   {
    "duration": 428,
    "start_time": "2024-10-23T23:53:27.941Z"
   },
   {
    "duration": 871,
    "start_time": "2024-10-23T23:54:15.786Z"
   },
   {
    "duration": 431,
    "start_time": "2024-10-23T23:54:29.082Z"
   },
   {
    "duration": 186,
    "start_time": "2024-10-23T23:56:26.120Z"
   },
   {
    "duration": 436,
    "start_time": "2024-10-23T23:56:42.158Z"
   },
   {
    "duration": 435,
    "start_time": "2024-10-24T00:01:03.514Z"
   },
   {
    "duration": 1054,
    "start_time": "2024-10-24T00:01:03.951Z"
   },
   {
    "duration": 11,
    "start_time": "2024-10-24T00:01:05.006Z"
   },
   {
    "duration": 9,
    "start_time": "2024-10-24T00:01:05.025Z"
   },
   {
    "duration": 8,
    "start_time": "2024-10-24T00:01:05.035Z"
   },
   {
    "duration": 7,
    "start_time": "2024-10-24T00:01:05.044Z"
   },
   {
    "duration": 23,
    "start_time": "2024-10-24T00:01:05.053Z"
   },
   {
    "duration": 109,
    "start_time": "2024-10-24T00:01:05.078Z"
   },
   {
    "duration": 8,
    "start_time": "2024-10-24T00:01:05.189Z"
   },
   {
    "duration": 107,
    "start_time": "2024-10-24T00:01:05.200Z"
   },
   {
    "duration": 90,
    "start_time": "2024-10-24T00:01:05.308Z"
   },
   {
    "duration": 38,
    "start_time": "2024-10-24T00:01:05.400Z"
   },
   {
    "duration": 18,
    "start_time": "2024-10-24T00:01:05.440Z"
   },
   {
    "duration": 7,
    "start_time": "2024-10-24T00:01:05.460Z"
   },
   {
    "duration": 26,
    "start_time": "2024-10-24T00:01:05.469Z"
   },
   {
    "duration": 45,
    "start_time": "2024-10-24T00:01:05.497Z"
   },
   {
    "duration": 7,
    "start_time": "2024-10-24T00:01:05.544Z"
   },
   {
    "duration": 43,
    "start_time": "2024-10-24T00:01:05.553Z"
   },
   {
    "duration": 5,
    "start_time": "2024-10-24T00:01:05.597Z"
   },
   {
    "duration": 4,
    "start_time": "2024-10-24T00:01:05.623Z"
   },
   {
    "duration": 5,
    "start_time": "2024-10-24T00:01:05.629Z"
   },
   {
    "duration": 5,
    "start_time": "2024-10-24T00:01:05.635Z"
   },
   {
    "duration": 808,
    "start_time": "2024-10-24T00:01:05.641Z"
   },
   {
    "duration": 721,
    "start_time": "2024-10-24T00:01:06.450Z"
   },
   {
    "duration": 13,
    "start_time": "2024-10-24T00:01:07.173Z"
   },
   {
    "duration": 6,
    "start_time": "2024-10-24T00:01:07.188Z"
   },
   {
    "duration": 28,
    "start_time": "2024-10-24T00:01:07.195Z"
   },
   {
    "duration": 6,
    "start_time": "2024-10-24T00:01:07.228Z"
   },
   {
    "duration": 8,
    "start_time": "2024-10-24T00:01:07.237Z"
   },
   {
    "duration": 9,
    "start_time": "2024-10-24T00:01:07.247Z"
   },
   {
    "duration": 39,
    "start_time": "2024-10-24T00:01:07.258Z"
   },
   {
    "duration": 17,
    "start_time": "2024-10-24T00:01:07.324Z"
   },
   {
    "duration": 30,
    "start_time": "2024-10-24T00:01:07.342Z"
   },
   {
    "duration": 12,
    "start_time": "2024-10-24T00:01:07.374Z"
   },
   {
    "duration": 46,
    "start_time": "2024-10-24T00:01:07.388Z"
   },
   {
    "duration": 56,
    "start_time": "2024-10-24T00:01:07.435Z"
   },
   {
    "duration": 5,
    "start_time": "2024-10-24T00:01:07.493Z"
   },
   {
    "duration": 27,
    "start_time": "2024-10-24T00:01:07.500Z"
   },
   {
    "duration": 199,
    "start_time": "2024-10-24T00:01:07.529Z"
   },
   {
    "duration": 140,
    "start_time": "2024-10-24T00:01:07.730Z"
   },
   {
    "duration": 211,
    "start_time": "2024-10-24T00:01:07.872Z"
   },
   {
    "duration": 8,
    "start_time": "2024-10-24T00:01:08.085Z"
   },
   {
    "duration": 8,
    "start_time": "2024-10-24T00:01:08.095Z"
   },
   {
    "duration": 22,
    "start_time": "2024-10-24T00:01:08.105Z"
   },
   {
    "duration": 233,
    "start_time": "2024-10-24T00:01:08.129Z"
   },
   {
    "duration": 149,
    "start_time": "2024-10-24T00:01:08.364Z"
   },
   {
    "duration": 660,
    "start_time": "2024-10-24T00:01:08.515Z"
   },
   {
    "duration": 467,
    "start_time": "2024-10-24T00:01:09.177Z"
   },
   {
    "duration": 288,
    "start_time": "2024-10-24T00:01:09.647Z"
   },
   {
    "duration": 22,
    "start_time": "2024-10-24T00:01:09.937Z"
   },
   {
    "duration": 460,
    "start_time": "2024-10-24T00:01:09.961Z"
   },
   {
    "duration": 464,
    "start_time": "2024-10-24T00:01:10.426Z"
   },
   {
    "duration": 738,
    "start_time": "2024-10-24T00:01:10.891Z"
   },
   {
    "duration": 857,
    "start_time": "2024-10-24T00:01:11.631Z"
   },
   {
    "duration": 10,
    "start_time": "2024-10-24T00:01:12.490Z"
   },
   {
    "duration": 109,
    "start_time": "2024-10-24T00:01:12.501Z"
   },
   {
    "duration": 3,
    "start_time": "2024-10-24T00:04:00.072Z"
   },
   {
    "duration": 180,
    "start_time": "2024-10-24T00:22:33.683Z"
   },
   {
    "duration": 21,
    "start_time": "2024-10-24T00:24:58.053Z"
   },
   {
    "duration": 68,
    "start_time": "2024-10-24T00:25:30.551Z"
   },
   {
    "duration": 4191,
    "start_time": "2024-10-24T00:28:15.621Z"
   },
   {
    "duration": 4101,
    "start_time": "2024-10-24T00:28:43.531Z"
   },
   {
    "duration": 63,
    "start_time": "2024-10-24T00:29:18.086Z"
   },
   {
    "duration": 62,
    "start_time": "2024-10-24T00:29:28.344Z"
   }
  ],
  "colab": {
   "provenance": []
  },
  "kernelspec": {
   "display_name": "Python 3 (ipykernel)",
   "language": "python",
   "name": "python3"
  },
  "language_info": {
   "codemirror_mode": {
    "name": "ipython",
    "version": 3
   },
   "file_extension": ".py",
   "mimetype": "text/x-python",
   "name": "python",
   "nbconvert_exporter": "python",
   "pygments_lexer": "ipython3",
   "version": "3.9.19"
  },
  "toc": {
   "base_numbering": 1,
   "nav_menu": {},
   "number_sections": true,
   "sideBar": true,
   "skip_h1_title": true,
   "title_cell": "Table of Contents",
   "title_sidebar": "Contents",
   "toc_cell": false,
   "toc_position": {},
   "toc_section_display": true,
   "toc_window_display": false
  },
  "vscode": {
   "interpreter": {
    "hash": "01a7be9ec63e704a62cefc5fe7a4756944464ee731be31632bdf42a4cb4688cf"
   }
  }
 },
 "nbformat": 4,
 "nbformat_minor": 5
}
